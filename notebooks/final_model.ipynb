{
 "cells": [
  {
   "cell_type": "markdown",
   "id": "64348b6c",
   "metadata": {},
   "source": [
    "# Libraries and Data"
   ]
  },
  {
   "cell_type": "code",
   "execution_count": 1,
   "id": "ee637605",
   "metadata": {},
   "outputs": [],
   "source": [
    "import numpy as np\n",
    "import pandas as pd\n",
    "import matplotlib.pyplot as plt\n",
    "import seaborn as sns\n",
    "import warnings\n",
    "import datetime\n",
    "\n",
    "from sklearn.ensemble import GradientBoostingRegressor\n",
    "from sklearn.model_selection import train_test_split\n",
    "from sklearn.impute import KNNImputer"
   ]
  },
  {
   "cell_type": "code",
   "execution_count": 2,
   "id": "49922fa8",
   "metadata": {},
   "outputs": [],
   "source": [
    "warnings.filterwarnings('ignore')"
   ]
  },
  {
   "cell_type": "code",
   "execution_count": 3,
   "id": "ce8ac36e",
   "metadata": {},
   "outputs": [],
   "source": [
    "train = pd.read_csv(\"../data/advanced_train.csv\", low_memory = False)\n",
    "test = pd.read_csv(\"../data/advanced_test.csv\", low_memory = False)"
   ]
  },
  {
   "cell_type": "markdown",
   "id": "872743a4",
   "metadata": {},
   "source": [
    "# Data Pre-Processing"
   ]
  },
  {
   "cell_type": "code",
   "execution_count": 35,
   "id": "69035641",
   "metadata": {},
   "outputs": [],
   "source": [
    "# Make some manual adjustments to prices to remove outliers\n",
    "train[\"Last Sold Price\"] = np.where((train[\"Last Sold Price\"] / train[\"Sold Price\"] > 10) |\n",
    "                                     (train[\"Last Sold Price\"] / train[\"Sold Price\"] < 0.1),\n",
    "                                     np.NaN,\n",
    "                                     train[\"Last Sold Price\"])\n",
    "train[\"Listed Price\"] = np.where((train[\"Listed Price\"] / train[\"Sold Price\"] > 10) |\n",
    "                                  (train[\"Listed Price\"] / train[\"Sold Price\"] < 0.1),\n",
    "                                 np.NaN,\n",
    "                                 train[\"Listed Price\"])"
   ]
  },
  {
   "cell_type": "code",
   "execution_count": 36,
   "id": "b3256c28",
   "metadata": {},
   "outputs": [],
   "source": [
    "imp = KNNImputer(n_neighbors = 10)\n",
    "\n",
    "imp_vars = [\"Total interior livable area\", \"Full bathrooms\", \"Bathrooms\",\n",
    "           \"Total spaces\", \"Elementary School Score\", \"Elementary School Distance\", \n",
    "           \"Middle School Score\", \"Middle School Distance\", \"High School Score\",\n",
    "           \"High School Distance\", \"Year built\", \"Garage spaces\", \"Listed Price\", \"Last Sold Price\"] # , \"Lot\""
   ]
  },
  {
   "cell_type": "code",
   "execution_count": 37,
   "id": "8e18bd04",
   "metadata": {},
   "outputs": [
    {
     "data": {
      "text/plain": [
       "KNNImputer(n_neighbors=10)"
      ]
     },
     "execution_count": 37,
     "metadata": {},
     "output_type": "execute_result"
    }
   ],
   "source": [
    "imp.fit(train[imp_vars])"
   ]
  },
  {
   "cell_type": "code",
   "execution_count": 38,
   "id": "d445f121",
   "metadata": {
    "scrolled": true
   },
   "outputs": [],
   "source": [
    "parking_types_train = train[\"Parking\"].str.lower().str.replace(\" \", \"\").str.split(\",\").explode().value_counts()\n",
    "heating_types_train = train[\"Heating\"].str.lower().str.replace(\" \", \"\").str.split(\",\").explode().value_counts()\n",
    "flooring_types_train = train[\"Flooring\"].str.lower().str.replace(\" \", \"\").str.split(\",\").explode().value_counts()\n",
    "appliance_types_train = train[\"Appliances included\"].str.lower().str.replace(\" \", \"\").str.split(\",\").explode().value_counts()\n",
    "cities_train = train[\"City\"].value_counts().head(200)\n",
    "types_train = train[\"Type\"].str.lower().str.replace(\" \", \"\").value_counts().head(20)\n",
    "laundry_types_train = train[\"Laundry features\"].str.lower().str.replace(\" \", \"\").str.split(\",\").explode().value_counts()\n",
    "\n",
    "\n",
    "train_medians = train.median()\n",
    "test_medians = test.median()\n",
    "\n",
    "def preprocess_data(df, imp, imp_v, meds, ptypes_train, htypes_train, ftypes_train, atypes_train, cities, ttypes_train, ltypes_train):\n",
    "    \n",
    "    df[imp_v] = imp.transform(df[imp_v]) \n",
    "    \n",
    "    df[\"Total interior livable area\"] = df[\"Total interior livable area\"].fillna(meds[\"Total interior livable area\"])\n",
    "    \n",
    "    df[\"Bathrooms\"] = df[\"Bathrooms\"].fillna(meds[\"Bathrooms\"])\n",
    "    \n",
    "    df[\"Total spaces\"] = df[\"Total spaces\"].fillna(meds[\"Total spaces\"])\n",
    "    df[\"Total spaces\"] = np.abs(np.minimum(df[\"Total spaces\"], 30))\n",
    "    \n",
    "    df[\"Elementary School Score\"] = df[\"Elementary School Score\"].fillna(meds[\"Elementary School Score\"])\n",
    "    df[\"Elementry School Distance\"] = df[\"Elementary School Distance\"].fillna(meds[\"Elementary School Distance\"])\n",
    "    \n",
    "    df[\"Middle School Score\"] = df[\"Middle School Score\"].fillna(meds[\"Middle School Score\"])\n",
    "    df[\"Middle School Distance\"] = df[\"Middle School Distance\"].fillna(meds[\"Middle School Distance\"])\n",
    "\n",
    "    df[\"High School Score\"] = df[\"High School Score\"].fillna(meds[\"High School Score\"])\n",
    "    df[\"High School Distance\"] = df[\"High School Distance\"].fillna(meds[\"High School Distance\"])\n",
    "    \n",
    "    df[\"Year built\"] = df[\"Year built\"].fillna(meds[\"Year built\"])\n",
    "    df[\"Year built\"] = np.maximum(df[\"Year built\"], 1870)\n",
    "    df[\"Year built\"] = np.minimum(df[\"Year built\"], 2022)\n",
    "    \n",
    "    df[\"state_ind\"] = df[\"State\"] == \"CA\"\n",
    "    \n",
    "    df[\"Garage spaces\"] = df[\"Garage spaces\"].fillna(meds[\"Garage spaces\"])\n",
    "    df[\"Garage spaces\"] = np.maximum(df[\"Garage spaces\"], 0)\n",
    "    df[\"Garage spaces\"] = np.minimum(df[\"Garage spaces\"], 20)\n",
    "    \n",
    "    \n",
    "    df[\"Full bathrooms\"] = df[\"Full bathrooms\"].fillna(meds[\"Full bathrooms\"])\n",
    "\n",
    "    # Doesn't seem to matter which impute strategy I use\n",
    "    #df[\"l1\"] = df[\"Lot\"].fillna(meds[\"Lot\"])\n",
    "    df[\"l1\"] = df[\"Lot\"].fillna(0)\n",
    "    \n",
    "    df[\"Last Sold Price\"] = df[\"Last Sold Price\"].fillna(0)\n",
    "    df[\"Last Sold Days\"] = (pd.to_datetime(\"1/1/2021\") - pd.to_datetime(df[\"Last Sold On\"].fillna(\"1/1/2021\"))).dt.days\n",
    "    \n",
    "    df[\"Tax assessed value\"] = df[\"Tax assessed value\"].replace('#DIV/0!', np.NaN).astype('float').fillna(0)\n",
    "    \n",
    "    df[\"Listed On\"] = pd.to_datetime(df[\"Listed On\"]).dt.year + (pd.to_datetime(df[\"Listed On\"]).dt.month/12)\n",
    "    \n",
    "    for htype in htypes_train.index:\n",
    "        df[(\"h_\" + htype)] = df[\"Heating\"].str.lower().str.replace(\" \", \"\").str.contains(htype, na=False)\n",
    "    \n",
    "    for ptype in ptypes_train.index:\n",
    "        df[(\"p_\" + ptype)] = df[\"Parking\"].str.lower().str.replace(\" \", \"\").str.contains(ptype, na=False)\n",
    "    \n",
    "    for ftype in ftypes_train.index:\n",
    "        df[(\"f_\" + ftype)] = df[\"Flooring\"].str.lower().str.replace(\" \", \"\").str.contains(ftype, na=False)\n",
    "\n",
    "    for atype in atypes_train.index:\n",
    "        df[(\"a_\" + atype)] = df[\"Appliances included\"].str.lower().str.replace(\" \", \"\").str.contains(atype, na=False)\n",
    "\n",
    "    for city in cities.index:\n",
    "        df[city] = df[\"City\"].str.contains(city, na=False)\n",
    "        \n",
    "    for ttype in ttypes_train.index:\n",
    "        df[(\"t_\" + ttype)] = df[\"Type\"].str.lower().str.replace(\" \", \"\").str.contains(ttype, na=False)\n",
    "    \n",
    "    for ltype in ltypes_train.index:\n",
    "        df[(\"l_\" + ltype)] = df[\"Laundry features\"].str.lower().str.replace(\" \", \"\").str.contains(ltype, na=False)\n",
    "\n",
    "        \n",
    "    df[\"r1\"] = df[\"Listed Price\"] / (df[\"Last Sold Price\"] + 0.1)\n",
    "    df[\"r2\"] = df[\"Last Sold Price\"] / (df[\"Tax assessed value\"] + 0.1)\n",
    "    df[\"r3\"] = df[\"Tax assessed value\"] / (df[\"Listed Price\"] + 0.1)\n",
    "    \n",
    "    return df"
   ]
  },
  {
   "cell_type": "code",
   "execution_count": 39,
   "id": "30638cf0",
   "metadata": {},
   "outputs": [],
   "source": [
    "train_p = preprocess_data(train, imp, imp_vars, train_medians, parking_types_train, \n",
    "                          heating_types_train, flooring_types_train, \n",
    "                          appliance_types_train, cities_train, types_train,\n",
    "                         laundry_types_train)\n"
   ]
  },
  {
   "cell_type": "markdown",
   "id": "04181c10",
   "metadata": {},
   "source": [
    "Define the target"
   ]
  },
  {
   "cell_type": "code",
   "execution_count": 9,
   "id": "3b49eafd",
   "metadata": {},
   "outputs": [],
   "source": [
    "y = train[\"Sold Price\"]"
   ]
  },
  {
   "cell_type": "code",
   "execution_count": 48,
   "id": "4c16237b",
   "metadata": {
    "scrolled": true
   },
   "outputs": [],
   "source": [
    "pred_vars = ['Listed Price', 'Tax assessed value', 'Listed On', 'r3', 'r1', \n",
    "             'Total interior livable area', 'l1', 'Last Sold Price', 'Full bathrooms', \n",
    "             'Bathrooms']\n",
    "\n",
    "X = train_p[pred_vars]"
   ]
  },
  {
   "cell_type": "code",
   "execution_count": 11,
   "id": "e5d70d7f",
   "metadata": {},
   "outputs": [],
   "source": [
    "X_train, X_test, y_train, y_test = train_test_split(X, y, test_size=0.33, random_state = 58)"
   ]
  },
  {
   "cell_type": "markdown",
   "id": "141fd6e1",
   "metadata": {},
   "source": [
    "# Models"
   ]
  },
  {
   "cell_type": "code",
   "execution_count": 20,
   "id": "8b6c3dd5",
   "metadata": {},
   "outputs": [],
   "source": [
    "params = {\"n_estimators\":40,\n",
    "          \"learning_rate\":0.15,\n",
    "          \"max_depth\":3,\n",
    "          \"random_state\":56,\n",
    "          \"subsample\":1,\n",
    "          'max_features':None,\n",
    "          \"loss\":'squared_error'}"
   ]
  },
  {
   "cell_type": "code",
   "execution_count": 21,
   "id": "ce971fbc",
   "metadata": {},
   "outputs": [],
   "source": [
    "model = GradientBoostingRegressor(verbose = 1).set_params(**params)"
   ]
  },
  {
   "cell_type": "code",
   "execution_count": 22,
   "id": "8128611f",
   "metadata": {},
   "outputs": [
    {
     "name": "stdout",
     "output_type": "stream",
     "text": [
      "      Iter       Train Loss   Remaining Time \n",
      "         1 2016338313104.3281            8.90s\n",
      "         2 1533348953231.8931            8.83s\n",
      "         3 1184147313241.7800            8.66s\n",
      "         4 923013363141.8855            8.45s\n",
      "         5 731137757533.5117            8.24s\n",
      "         6 589536445259.6538            7.93s\n",
      "         7 484369505008.0686            7.71s\n",
      "         8 404692215516.3713            7.51s\n",
      "         9 344579911965.3665            7.26s\n",
      "        10 299829082598.3191            7.03s\n",
      "        20 153210769363.1333            4.61s\n",
      "        30 123994858430.4238            2.26s\n",
      "        40 103182130217.9515            0.00s\n"
     ]
    },
    {
     "data": {
      "text/plain": [
       "GradientBoostingRegressor(learning_rate=0.15, n_estimators=40, random_state=56,\n",
       "                          subsample=1, verbose=1)"
      ]
     },
     "execution_count": 22,
     "metadata": {},
     "output_type": "execute_result"
    }
   ],
   "source": [
    "model.fit(X_train, y_train)"
   ]
  },
  {
   "cell_type": "code",
   "execution_count": 23,
   "id": "49b7648f",
   "metadata": {
    "scrolled": true
   },
   "outputs": [
    {
     "data": {
      "text/plain": [
       "0.8747549949936826"
      ]
     },
     "execution_count": 23,
     "metadata": {},
     "output_type": "execute_result"
    }
   ],
   "source": [
    "model.score(X_test, y_test)"
   ]
  },
  {
   "cell_type": "code",
   "execution_count": 24,
   "id": "2ff077db",
   "metadata": {
    "scrolled": true
   },
   "outputs": [
    {
     "data": {
      "text/plain": [
       "Listed Price                   0.942249\n",
       "Tax assessed value             0.023187\n",
       "Listed On                      0.012636\n",
       "Total interior livable area    0.002978\n",
       "r1                             0.002950\n",
       "r3                             0.002738\n",
       "l1                             0.002167\n",
       "Last Sold Price                0.001791\n",
       "Full bathrooms                 0.001677\n",
       "Bathrooms                      0.001262\n",
       "Year built                     0.001081\n",
       "Los Altos                      0.000964\n",
       "r2                             0.000814\n",
       "Elementary School Score        0.000637\n",
       "h_gas                          0.000628\n",
       "h_solar                        0.000339\n",
       "l_room                         0.000330\n",
       "High School Distance           0.000301\n",
       "h_none                         0.000273\n",
       "h_combination                  0.000189\n",
       "h_forcedair                    0.000159\n",
       "p_0spaces                      0.000130\n",
       "a_garbagedisposal              0.000114\n",
       "Atherton                       0.000113\n",
       "a_oven                         0.000093\n",
       "f_carpet                       0.000091\n",
       "p_circulardriveway             0.000054\n",
       "p_covered                      0.000034\n",
       "f_tile                         0.000012\n",
       "p_private                      0.000010\n",
       "High School Score              0.000000\n",
       "Garage spaces                  0.000000\n",
       "state_ind                      0.000000\n",
       "Total spaces                   0.000000\n",
       "Last Sold Days                 0.000000\n",
       "p_garage                       0.000000\n",
       "p_garage-attached              0.000000\n",
       "p_driveway                     0.000000\n",
       "p_carport                      0.000000\n",
       "p_garagedooropener             0.000000\n",
       "p_sidebyside                   0.000000\n",
       "p_attached                     0.000000\n",
       "p_garage-detached              0.000000\n",
       "p_garage-twodoor               0.000000\n",
       "p_off-street                   0.000000\n",
       "p_onsite(singlefamilyonly)     0.000000\n",
       "p_interioraccess               0.000000\n",
       "p_independent                  0.000000\n",
       "p_assigned                     0.000000\n",
       "p_onsite                       0.000000\n",
       "dtype: float64"
      ]
     },
     "execution_count": 24,
     "metadata": {},
     "output_type": "execute_result"
    }
   ],
   "source": [
    "feat_importances = pd.Series(model.feature_importances_, index=model.feature_names_in_)\n",
    "feat_importances.nlargest(20).plot(kind='barh')"
   ]
  },
  {
   "cell_type": "code",
   "execution_count": 25,
   "id": "0895ce6a",
   "metadata": {
    "scrolled": false
   },
   "outputs": [
    {
     "data": {
      "image/png": "[encoded data removed]",
      "text/plain": [
       "<Figure size 432x432 with 1 Axes>"
      ]
     },
     "metadata": {
      "needs_background": "light"
     },
     "output_type": "display_data"
    },
    {
     "name": "stdout",
     "output_type": "stream",
     "text": [
      "589215.8424318365\n"
     ]
    }
   ],
   "source": [
    "test_score = np.zeros((params[\"n_estimators\"],), dtype=np.float64)\n",
    "for i, y_pred in enumerate(model.staged_predict(X_test)):\n",
    "    #test_score[i] = model.loss_(y_test, y_pred)   # This is just squared error\n",
    "    test_score[i] = np.sqrt(((y_pred - y_test) ** 2).mean())  # this is RMSE\n",
    "\n",
    "fig = plt.figure(figsize=(6, 6))\n",
    "plt.subplot(1, 1, 1)\n",
    "plt.title(\"Deviance\")\n",
    "plt.plot(\n",
    "    np.arange(params[\"n_estimators\"]) + 1, model.train_score_,\n",
    "    \"b-\", label=\"Training Set Deviance\",\n",
    ")\n",
    "plt.plot(np.arange(params[\"n_estimators\"]) + 1, test_score, \"r-\", label=\"Test Set Deviance\")\n",
    "plt.legend(loc=\"upper right\")\n",
    "plt.xlabel(\"Boosting Iterations\")\n",
    "plt.ylabel(\"Deviance\")\n",
    "#plt.ylim(0.03, 0.06)\n",
    "plt.ylim(5.8e5, 6.6e5)\n",
    "fig.tight_layout()\n",
    "plt.show()\n",
    "print(np.min(test_score))"
   ]
  },
  {
   "cell_type": "markdown",
   "id": "27540e2b",
   "metadata": {},
   "source": [
    "# Train final model\n",
    "Use all the data to train the final model once we've set the predictors and the hyperparameters"
   ]
  },
  {
   "cell_type": "code",
   "execution_count": 49,
   "id": "fec25142",
   "metadata": {
    "scrolled": true
   },
   "outputs": [
    {
     "name": "stdout",
     "output_type": "stream",
     "text": [
      "{'n_estimators': 40, 'learning_rate': 0.15, 'max_depth': 3, 'random_state': 56, 'subsample': 1, 'max_features': None, 'loss': 'squared_error'}\n",
      "['Listed Price', 'Tax assessed value', 'Listed On', 'r3', 'r1', 'Total interior livable area', 'l1', 'Last Sold Price', 'Full bathrooms', 'Bathrooms']\n"
     ]
    },
    {
     "data": {
      "text/plain": [
       "(None, 10)"
      ]
     },
     "execution_count": 49,
     "metadata": {},
     "output_type": "execute_result"
    }
   ],
   "source": [
    "print(params)\n",
    "print(pred_vars), len(pred_vars)"
   ]
  },
  {
   "cell_type": "code",
   "execution_count": 50,
   "id": "59e2e153",
   "metadata": {},
   "outputs": [
    {
     "name": "stdout",
     "output_type": "stream",
     "text": [
      "      Iter       Train Loss   Remaining Time \n",
      "         1 2054011942383.0447            2.79s\n",
      "         2 1572627290631.9238            2.55s\n",
      "         3 1223263745442.2815            2.45s\n",
      "         4 962692662973.2238            2.37s\n",
      "         5 771144857503.1027            2.27s\n",
      "         6 622029707939.4421            2.16s\n",
      "         7 512988201866.8933            2.13s\n",
      "         8 433119020905.7556            2.07s\n",
      "         9 371605905578.8995            2.01s\n",
      "        10 324918202575.6410            1.93s\n",
      "        20 176366284245.6205            1.26s\n",
      "        30 146167448565.3074            0.63s\n",
      "        40 135271435142.4395            0.00s\n"
     ]
    }
   ],
   "source": [
    "model = GradientBoostingRegressor(verbose = 1).set_params(**params).fit(X[pred_vars], y)"
   ]
  },
  {
   "cell_type": "markdown",
   "id": "6ddd7760",
   "metadata": {},
   "source": [
    "# Make Predictions"
   ]
  },
  {
   "cell_type": "markdown",
   "id": "9d0615a9",
   "metadata": {},
   "source": [
    "Do the same pre-processing on the test data that we do on the train data"
   ]
  },
  {
   "cell_type": "code",
   "execution_count": 42,
   "id": "0721cac6",
   "metadata": {},
   "outputs": [],
   "source": [
    "test_p = preprocess_data(test, imp, imp_vars, train_medians, parking_types_train, \n",
    "                         heating_types_train, flooring_types_train, \n",
    "                         appliance_types_train, cities_train, types_train,\n",
    "                        laundry_types_train)"
   ]
  },
  {
   "cell_type": "code",
   "execution_count": 51,
   "id": "eb35f869",
   "metadata": {},
   "outputs": [],
   "source": [
    "test[\"Sold Price\"] = model.predict(test_p[pred_vars])"
   ]
  },
  {
   "cell_type": "code",
   "execution_count": 52,
   "id": "40e71847",
   "metadata": {},
   "outputs": [],
   "source": [
    "test[[\"Id\", \"Sold Price\"]].to_csv(\"../submission.csv\", index = False)"
   ]
  },
  {
   "cell_type": "code",
   "execution_count": 53,
   "id": "6f7af5f4",
   "metadata": {},
   "outputs": [
    {
     "data": {
      "text/plain": [
       "(789544.54181973, 836000.0)"
      ]
     },
     "execution_count": 53,
     "metadata": {},
     "output_type": "execute_result"
    }
   ],
   "source": [
    "test[\"Sold Price\"].median(), test[\"Listed Price\"].median()"
   ]
  }
 ],
 "metadata": {
  "kernelspec": {
   "display_name": "Python 3 (ipykernel)",
   "language": "python",
   "name": "python3"
  },
  "language_info": {
   "codemirror_mode": {
    "name": "ipython",
    "version": 3
   },
   "file_extension": ".py",
   "mimetype": "text/x-python",
   "name": "python",
   "nbconvert_exporter": "python",
   "pygments_lexer": "ipython3",
   "version": "3.7.13"
  },
  "toc": {
   "base_numbering": 1,
   "nav_menu": {},
   "number_sections": true,
   "sideBar": true,
   "skip_h1_title": false,
   "title_cell": "Table of Contents",
   "title_sidebar": "Contents",
   "toc_cell": false,
   "toc_position": {
    "height": "calc(100% - 180px)",
    "left": "10px",
    "top": "150px",
    "width": "176.188px"
   },
   "toc_section_display": true,
   "toc_window_display": true
  }
 },
 "nbformat": 4,
 "nbformat_minor": 5
}
