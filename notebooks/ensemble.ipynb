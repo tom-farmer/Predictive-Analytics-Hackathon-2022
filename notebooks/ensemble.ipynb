{
 "cells": [
  {
   "cell_type": "markdown",
   "id": "64348b6c",
   "metadata": {},
   "source": [
    "# Libraries and Data"
   ]
  },
  {
   "cell_type": "code",
   "execution_count": 63,
   "id": "ee637605",
   "metadata": {},
   "outputs": [],
   "source": [
    "import numpy as np\n",
    "import pandas as pd\n",
    "import matplotlib.pyplot as plt\n",
    "import seaborn as sns\n",
    "import warnings\n",
    "import datetime\n",
    "\n",
    "from sklearn.preprocessing import StandardScaler\n",
    "from sklearn.preprocessing import SplineTransformer\n",
    "from sklearn.ensemble import GradientBoostingRegressor\n",
    "from sklearn.model_selection import train_test_split\n",
    "from sklearn.impute import KNNImputer\n",
    "from sklearn.linear_model import LinearRegression\n",
    "from sklearn.linear_model import TweedieRegressor"
   ]
  },
  {
   "cell_type": "code",
   "execution_count": 12,
   "id": "49922fa8",
   "metadata": {},
   "outputs": [],
   "source": [
    "warnings.filterwarnings('ignore')"
   ]
  },
  {
   "cell_type": "code",
   "execution_count": 13,
   "id": "ce8ac36e",
   "metadata": {},
   "outputs": [],
   "source": [
    "train = pd.read_csv(\"../data/advanced_train.csv\", low_memory = False)\n",
    "test = pd.read_csv(\"../data/advanced_test.csv\", low_memory = False)"
   ]
  },
  {
   "cell_type": "markdown",
   "id": "872743a4",
   "metadata": {},
   "source": [
    "# Data Pre-Processing"
   ]
  },
  {
   "cell_type": "code",
   "execution_count": 14,
   "id": "69035641",
   "metadata": {},
   "outputs": [],
   "source": [
    "# Make some manual adjustments to prices to remove outliers\n",
    "train[\"Last Sold Price\"] = np.where((train[\"Last Sold Price\"] / train[\"Sold Price\"] > 10) |\n",
    "                                     (train[\"Last Sold Price\"] / train[\"Sold Price\"] < 0.1),\n",
    "                                     np.NaN,\n",
    "                                     train[\"Last Sold Price\"])\n",
    "train[\"Listed Price\"] = np.where((train[\"Listed Price\"] / train[\"Sold Price\"] > 10) |\n",
    "                                  (train[\"Listed Price\"] / train[\"Sold Price\"] < 0.1),\n",
    "                                 np.NaN,\n",
    "                                 train[\"Listed Price\"])"
   ]
  },
  {
   "cell_type": "code",
   "execution_count": 15,
   "id": "b3256c28",
   "metadata": {},
   "outputs": [],
   "source": [
    "imp = KNNImputer(n_neighbors = 10)\n",
    "\n",
    "imp_vars = [\"Total interior livable area\", \"Full bathrooms\", \"Bathrooms\",\n",
    "           \"Total spaces\", \"Elementary School Score\", \"Elementary School Distance\", \n",
    "           \"Middle School Score\", \"Middle School Distance\", \"High School Score\",\n",
    "           \"High School Distance\", \"Year built\", \"Garage spaces\", \"Listed Price\", \"Last Sold Price\"] # , \"Lot\""
   ]
  },
  {
   "cell_type": "code",
   "execution_count": 16,
   "id": "8e18bd04",
   "metadata": {},
   "outputs": [
    {
     "data": {
      "text/plain": [
       "KNNImputer(n_neighbors=10)"
      ]
     },
     "execution_count": 16,
     "metadata": {},
     "output_type": "execute_result"
    }
   ],
   "source": [
    "imp.fit(train[imp_vars])"
   ]
  },
  {
   "cell_type": "code",
   "execution_count": 17,
   "id": "d445f121",
   "metadata": {
    "scrolled": true
   },
   "outputs": [],
   "source": [
    "parking_types_train = train[\"Parking\"].str.lower().str.replace(\" \", \"\").str.split(\",\").explode().value_counts()\n",
    "heating_types_train = train[\"Heating\"].str.lower().str.replace(\" \", \"\").str.split(\",\").explode().value_counts()\n",
    "flooring_types_train = train[\"Flooring\"].str.lower().str.replace(\" \", \"\").str.split(\",\").explode().value_counts()\n",
    "appliance_types_train = train[\"Appliances included\"].str.lower().str.replace(\" \", \"\").str.split(\",\").explode().value_counts()\n",
    "cities_train = train[\"City\"].value_counts().head(200)\n",
    "types_train = train[\"Type\"].str.lower().str.replace(\" \", \"\").value_counts().head(20)\n",
    "laundry_types_train = train[\"Laundry features\"].str.lower().str.replace(\" \", \"\").str.split(\",\").explode().value_counts()\n",
    "\n",
    "\n",
    "train_medians = train.median()\n",
    "test_medians = test.median()\n",
    "\n",
    "def preprocess_data(df, imp, imp_v, meds, ptypes_train, htypes_train, ftypes_train, atypes_train, cities, ttypes_train, ltypes_train):\n",
    "    \n",
    "    df[imp_v] = imp.transform(df[imp_v]) \n",
    "    \n",
    "    df[\"Total interior livable area\"] = df[\"Total interior livable area\"].fillna(meds[\"Total interior livable area\"])\n",
    "    \n",
    "    df[\"Bathrooms\"] = df[\"Bathrooms\"].fillna(meds[\"Bathrooms\"])\n",
    "    \n",
    "    df[\"Total spaces\"] = df[\"Total spaces\"].fillna(meds[\"Total spaces\"])\n",
    "    df[\"Total spaces\"] = np.abs(np.minimum(df[\"Total spaces\"], 30))\n",
    "    \n",
    "    df[\"Elementary School Score\"] = df[\"Elementary School Score\"].fillna(meds[\"Elementary School Score\"])\n",
    "    df[\"Elementry School Distance\"] = df[\"Elementary School Distance\"].fillna(meds[\"Elementary School Distance\"])\n",
    "    \n",
    "    df[\"Middle School Score\"] = df[\"Middle School Score\"].fillna(meds[\"Middle School Score\"])\n",
    "    df[\"Middle School Distance\"] = df[\"Middle School Distance\"].fillna(meds[\"Middle School Distance\"])\n",
    "\n",
    "    df[\"High School Score\"] = df[\"High School Score\"].fillna(meds[\"High School Score\"])\n",
    "    df[\"High School Distance\"] = df[\"High School Distance\"].fillna(meds[\"High School Distance\"])\n",
    "    \n",
    "    df[\"Year built\"] = df[\"Year built\"].fillna(meds[\"Year built\"])\n",
    "    df[\"Year built\"] = np.maximum(df[\"Year built\"], 1870)\n",
    "    df[\"Year built\"] = np.minimum(df[\"Year built\"], 2022)\n",
    "    \n",
    "    df[\"state_ind\"] = df[\"State\"] == \"CA\"\n",
    "    \n",
    "    df[\"Garage spaces\"] = df[\"Garage spaces\"].fillna(meds[\"Garage spaces\"])\n",
    "    df[\"Garage spaces\"] = np.maximum(df[\"Garage spaces\"], 0)\n",
    "    df[\"Garage spaces\"] = np.minimum(df[\"Garage spaces\"], 20)\n",
    "    \n",
    "    \n",
    "    df[\"Full bathrooms\"] = df[\"Full bathrooms\"].fillna(meds[\"Full bathrooms\"])\n",
    "\n",
    "    # Doesn't seem to matter which impute strategy I use\n",
    "    #df[\"l1\"] = df[\"Lot\"].fillna(meds[\"Lot\"])\n",
    "    df[\"l1\"] = df[\"Lot\"].fillna(0)\n",
    "    \n",
    "    df[\"Last Sold Price\"] = df[\"Last Sold Price\"].fillna(0)\n",
    "    df[\"Last Sold Days\"] = (pd.to_datetime(\"1/1/2021\") - pd.to_datetime(df[\"Last Sold On\"].fillna(\"1/1/2021\"))).dt.days\n",
    "    \n",
    "    df[\"Tax assessed value\"] = df[\"Tax assessed value\"].replace('#DIV/0!', np.NaN).astype('float').fillna(0)\n",
    "    \n",
    "    df[\"Listed On\"] = pd.to_datetime(df[\"Listed On\"]).dt.year + (pd.to_datetime(df[\"Listed On\"]).dt.month/12)\n",
    "    \n",
    "    for htype in htypes_train.index:\n",
    "        df[(\"h_\" + htype)] = df[\"Heating\"].str.lower().str.replace(\" \", \"\").str.contains(htype, na=False)\n",
    "    \n",
    "    for ptype in ptypes_train.index:\n",
    "        df[(\"p_\" + ptype)] = df[\"Parking\"].str.lower().str.replace(\" \", \"\").str.contains(ptype, na=False)\n",
    "    \n",
    "    for ftype in ftypes_train.index:\n",
    "        df[(\"f_\" + ftype)] = df[\"Flooring\"].str.lower().str.replace(\" \", \"\").str.contains(ftype, na=False)\n",
    "\n",
    "    for atype in atypes_train.index:\n",
    "        df[(\"a_\" + atype)] = df[\"Appliances included\"].str.lower().str.replace(\" \", \"\").str.contains(atype, na=False)\n",
    "\n",
    "    for city in cities.index:\n",
    "        df[city] = df[\"City\"].str.contains(city, na=False)\n",
    "        \n",
    "    for ttype in ttypes_train.index:\n",
    "        df[(\"t_\" + ttype)] = df[\"Type\"].str.lower().str.replace(\" \", \"\").str.contains(ttype, na=False)\n",
    "    \n",
    "    for ltype in ltypes_train.index:\n",
    "        df[(\"l_\" + ltype)] = df[\"Laundry features\"].str.lower().str.replace(\" \", \"\").str.contains(ltype, na=False)\n",
    "\n",
    "        \n",
    "    df[\"r1\"] = df[\"Listed Price\"] / (df[\"Last Sold Price\"] + 0.1)\n",
    "    df[\"r2\"] = df[\"Last Sold Price\"] / (df[\"Tax assessed value\"] + 0.1)\n",
    "    df[\"r3\"] = df[\"Tax assessed value\"] / (df[\"Listed Price\"] + 0.1)\n",
    "    \n",
    "    return df"
   ]
  },
  {
   "cell_type": "code",
   "execution_count": 18,
   "id": "30638cf0",
   "metadata": {},
   "outputs": [],
   "source": [
    "train_p = preprocess_data(train, imp, imp_vars, train_medians, parking_types_train, \n",
    "                          heating_types_train, flooring_types_train, \n",
    "                          appliance_types_train, cities_train, types_train,\n",
    "                         laundry_types_train)\n"
   ]
  },
  {
   "cell_type": "markdown",
   "id": "04181c10",
   "metadata": {},
   "source": [
    "Define the target"
   ]
  },
  {
   "cell_type": "code",
   "execution_count": 19,
   "id": "3b49eafd",
   "metadata": {},
   "outputs": [],
   "source": [
    "y = train[\"Sold Price\"]"
   ]
  },
  {
   "cell_type": "code",
   "execution_count": 20,
   "id": "4c16237b",
   "metadata": {
    "scrolled": true
   },
   "outputs": [],
   "source": [
    "pred_vars = ['Listed Price', 'Tax assessed value', 'Listed On', 'r3', 'r1', \n",
    "             'Total interior livable area', 'l1', 'Last Sold Price', 'Full bathrooms', \n",
    "             'Bathrooms']\n",
    "\n",
    "X = train_p[pred_vars]"
   ]
  },
  {
   "cell_type": "code",
   "execution_count": 21,
   "id": "e5d70d7f",
   "metadata": {},
   "outputs": [],
   "source": [
    "X_train, X_test, y_train, y_test = train_test_split(X, y, test_size=0.33, random_state = 58)"
   ]
  },
  {
   "cell_type": "markdown",
   "id": "141fd6e1",
   "metadata": {},
   "source": [
    "# Gradient Boosting Model"
   ]
  },
  {
   "cell_type": "code",
   "execution_count": 22,
   "id": "8b6c3dd5",
   "metadata": {},
   "outputs": [],
   "source": [
    "params = {\"n_estimators\":40,\n",
    "          \"learning_rate\":0.15,\n",
    "          \"max_depth\":3,\n",
    "          \"random_state\":56,\n",
    "          \"subsample\":1,\n",
    "          'max_features':None,\n",
    "          \"loss\":'squared_error'}"
   ]
  },
  {
   "cell_type": "code",
   "execution_count": 23,
   "id": "ce971fbc",
   "metadata": {},
   "outputs": [],
   "source": [
    "model = GradientBoostingRegressor(verbose = 1).set_params(**params)"
   ]
  },
  {
   "cell_type": "code",
   "execution_count": 24,
   "id": "8128611f",
   "metadata": {},
   "outputs": [
    {
     "name": "stdout",
     "output_type": "stream",
     "text": [
      "      Iter       Train Loss   Remaining Time \n",
      "         1 2016718613326.4109            1.84s\n",
      "         2 1533919745351.0581            1.69s\n",
      "         3 1184933596634.8428            1.60s\n",
      "         4 923879846956.2211            1.55s\n",
      "         5 731689429710.9659            1.48s\n",
      "         6 590356405809.1083            1.44s\n",
      "         7 485004964737.2802            1.39s\n",
      "         8 405359161227.4174            1.34s\n",
      "         9 345679356127.8256            1.30s\n",
      "        10 300191681288.0620            1.26s\n",
      "        20 152763401062.0537            0.83s\n",
      "        30 126495451330.8539            0.41s\n",
      "        40 108595013388.5723            0.00s\n"
     ]
    },
    {
     "data": {
      "text/plain": [
       "GradientBoostingRegressor(learning_rate=0.15, n_estimators=40, random_state=56,\n",
       "                          subsample=1, verbose=1)"
      ]
     },
     "execution_count": 24,
     "metadata": {},
     "output_type": "execute_result"
    }
   ],
   "source": [
    "model.fit(X_train, y_train)"
   ]
  },
  {
   "cell_type": "code",
   "execution_count": 25,
   "id": "49b7648f",
   "metadata": {
    "scrolled": true
   },
   "outputs": [
    {
     "data": {
      "text/plain": [
       "0.8718404441268658"
      ]
     },
     "execution_count": 25,
     "metadata": {},
     "output_type": "execute_result"
    }
   ],
   "source": [
    "model.score(X_test, y_test)"
   ]
  },
  {
   "cell_type": "code",
   "execution_count": 26,
   "id": "2ff077db",
   "metadata": {
    "scrolled": true
   },
   "outputs": [
    {
     "data": {
      "text/plain": [
       "<AxesSubplot:>"
      ]
     },
     "execution_count": 26,
     "metadata": {},
     "output_type": "execute_result"
    },
    {
     "data": {
      "image/png": "[encoded data removed]",
      "text/plain": [
       "<Figure size 432x288 with 1 Axes>"
      ]
     },
     "metadata": {
      "needs_background": "light"
     },
     "output_type": "display_data"
    }
   ],
   "source": [
    "feat_importances = pd.Series(model.feature_importances_, index=model.feature_names_in_)\n",
    "feat_importances.nlargest(20).plot(kind='barh')"
   ]
  },
  {
   "cell_type": "code",
   "execution_count": 27,
   "id": "0895ce6a",
   "metadata": {
    "scrolled": false
   },
   "outputs": [
    {
     "data": {
      "image/png": "[encoded data removed]",
      "text/plain": [
       "<Figure size 432x432 with 1 Axes>"
      ]
     },
     "metadata": {
      "needs_background": "light"
     },
     "output_type": "display_data"
    },
    {
     "name": "stdout",
     "output_type": "stream",
     "text": [
      "594193.9065918579\n"
     ]
    }
   ],
   "source": [
    "test_score = np.zeros((params[\"n_estimators\"],), dtype=np.float64)\n",
    "for i, y_pred in enumerate(model.staged_predict(X_test)):\n",
    "    #test_score[i] = model.loss_(y_test, y_pred)   # This is just squared error\n",
    "    test_score[i] = np.sqrt(((y_pred - y_test) ** 2).mean())  # this is RMSE\n",
    "\n",
    "fig = plt.figure(figsize=(6, 6))\n",
    "plt.subplot(1, 1, 1)\n",
    "plt.title(\"Deviance\")\n",
    "plt.plot(\n",
    "    np.arange(params[\"n_estimators\"]) + 1, model.train_score_,\n",
    "    \"b-\", label=\"Training Set Deviance\",\n",
    ")\n",
    "plt.plot(np.arange(params[\"n_estimators\"]) + 1, test_score, \"r-\", label=\"Test Set Deviance\")\n",
    "plt.legend(loc=\"upper right\")\n",
    "plt.xlabel(\"Boosting Iterations\")\n",
    "plt.ylabel(\"Deviance\")\n",
    "#plt.ylim(0.03, 0.06)\n",
    "plt.ylim(5.8e5, 6.6e5)\n",
    "fig.tight_layout()\n",
    "plt.show()\n",
    "print(np.min(test_score))"
   ]
  },
  {
   "cell_type": "markdown",
   "id": "5890a95b",
   "metadata": {},
   "source": [
    "# Linear Model"
   ]
  },
  {
   "cell_type": "code",
   "execution_count": 64,
   "id": "c5df762c",
   "metadata": {},
   "outputs": [],
   "source": [
    "spline = SplineTransformer(n_knots=5, degree=3)\n",
    "scaler = StandardScaler()"
   ]
  },
  {
   "cell_type": "code",
   "execution_count": 67,
   "id": "14fdc938",
   "metadata": {},
   "outputs": [],
   "source": [
    "StandardScaler?"
   ]
  },
  {
   "cell_type": "code",
   "execution_count": 69,
   "id": "ce559cc6",
   "metadata": {},
   "outputs": [],
   "source": [
    "X_train_scaled = scaler.fit_transform(X_train)\n",
    "X_test_scaled = scaler.transform(X_test)"
   ]
  },
  {
   "cell_type": "code",
   "execution_count": 56,
   "id": "60f14426",
   "metadata": {},
   "outputs": [
    {
     "data": {
      "text/plain": [
       "0.869523722285883"
      ]
     },
     "execution_count": 56,
     "metadata": {},
     "output_type": "execute_result"
    }
   ],
   "source": [
    "lmodel = LinearRegression()\n",
    "lmodel.fit(X_train_scaled, y_train)\n",
    "lmodel.score(X_test_scaled, y_test)"
   ]
  },
  {
   "cell_type": "code",
   "execution_count": 62,
   "id": "e7966054",
   "metadata": {},
   "outputs": [
    {
     "data": {
      "text/plain": [
       "0.7514105824797461"
      ]
     },
     "execution_count": 62,
     "metadata": {},
     "output_type": "execute_result"
    }
   ],
   "source": [
    "lmodel = TweedieRegressor(power=0)\n",
    "lmodel.fit(X_train_scaled, y_train)\n",
    "lmodel.score(X_test_scaled, y_test)"
   ]
  },
  {
   "cell_type": "markdown",
   "id": "27540e2b",
   "metadata": {},
   "source": [
    "# Train final model\n",
    "Use all the data to train the final model once we've set the predictors and the hyperparameters"
   ]
  },
  {
   "cell_type": "code",
   "execution_count": 49,
   "id": "fec25142",
   "metadata": {
    "scrolled": true
   },
   "outputs": [
    {
     "name": "stdout",
     "output_type": "stream",
     "text": [
      "{'n_estimators': 40, 'learning_rate': 0.15, 'max_depth': 3, 'random_state': 56, 'subsample': 1, 'max_features': None, 'loss': 'squared_error'}\n",
      "['Listed Price', 'Tax assessed value', 'Listed On', 'r3', 'r1', 'Total interior livable area', 'l1', 'Last Sold Price', 'Full bathrooms', 'Bathrooms']\n"
     ]
    },
    {
     "data": {
      "text/plain": [
       "(None, 10)"
      ]
     },
     "execution_count": 49,
     "metadata": {},
     "output_type": "execute_result"
    }
   ],
   "source": [
    "print(params)\n",
    "print(pred_vars), len(pred_vars)"
   ]
  },
  {
   "cell_type": "code",
   "execution_count": 50,
   "id": "59e2e153",
   "metadata": {
    "scrolled": true
   },
   "outputs": [
    {
     "name": "stdout",
     "output_type": "stream",
     "text": [
      "      Iter       Train Loss   Remaining Time \n",
      "         1 2054011942383.0447            2.79s\n",
      "         2 1572627290631.9238            2.55s\n",
      "         3 1223263745442.2815            2.45s\n",
      "         4 962692662973.2238            2.37s\n",
      "         5 771144857503.1027            2.27s\n",
      "         6 622029707939.4421            2.16s\n",
      "         7 512988201866.8933            2.13s\n",
      "         8 433119020905.7556            2.07s\n",
      "         9 371605905578.8995            2.01s\n",
      "        10 324918202575.6410            1.93s\n",
      "        20 176366284245.6205            1.26s\n",
      "        30 146167448565.3074            0.63s\n",
      "        40 135271435142.4395            0.00s\n"
     ]
    }
   ],
   "source": [
    "model = GradientBoostingRegressor(verbose = 1).set_params(**params).fit(X[pred_vars], y)"
   ]
  },
  {
   "cell_type": "code",
   "execution_count": 48,
   "id": "f676f1d5",
   "metadata": {},
   "outputs": [],
   "source": [
    "lmodel = LinearRegression().fit(scaler.transform(X), y)\n",
    "#lmodel = TweedieRegressor().fit(scaler.transform(X), y)"
   ]
  },
  {
   "cell_type": "markdown",
   "id": "6ddd7760",
   "metadata": {},
   "source": [
    "# Make Predictions"
   ]
  },
  {
   "cell_type": "markdown",
   "id": "9d0615a9",
   "metadata": {},
   "source": [
    "Do the same pre-processing on the test data that we do on the train data"
   ]
  },
  {
   "cell_type": "code",
   "execution_count": 49,
   "id": "0721cac6",
   "metadata": {},
   "outputs": [],
   "source": [
    "test_p = preprocess_data(test, imp, imp_vars, train_medians, parking_types_train, \n",
    "                         heating_types_train, flooring_types_train, \n",
    "                         appliance_types_train, cities_train, types_train,\n",
    "                        laundry_types_train)"
   ]
  },
  {
   "cell_type": "code",
   "execution_count": 50,
   "id": "eb35f869",
   "metadata": {},
   "outputs": [],
   "source": [
    "test[\"Sold Price_gbm\"] = model.predict(test_p[pred_vars])\n",
    "test[\"Sold Price_lm\"]  = lmodel.predict(scaler.transform(test_p[pred_vars]))\n",
    "test[\"Sold Price\"] = (test[\"Sold Price_gbm\"] + test[\"Sold Price_lm\"]) / 2"
   ]
  },
  {
   "cell_type": "code",
   "execution_count": 52,
   "id": "40e71847",
   "metadata": {},
   "outputs": [],
   "source": [
    "test[[\"Id\", \"Sold Price\"]].to_csv(\"../submission.csv\", index = False)"
   ]
  },
  {
   "cell_type": "code",
   "execution_count": 51,
   "id": "6f7af5f4",
   "metadata": {},
   "outputs": [
    {
     "data": {
      "text/plain": [
       "(851991.017517603, 836000.0)"
      ]
     },
     "execution_count": 51,
     "metadata": {},
     "output_type": "execute_result"
    }
   ],
   "source": [
    "test[\"Sold Price\"].median(), test[\"Listed Price\"].median()"
   ]
  },
  {
   "cell_type": "code",
   "execution_count": null,
   "id": "01ab0db0",
   "metadata": {},
   "outputs": [],
   "source": []
  }
 ],
 "metadata": {
  "kernelspec": {
   "display_name": "Python 3 (ipykernel)",
   "language": "python",
   "name": "python3"
  },
  "language_info": {
   "codemirror_mode": {
    "name": "ipython",
    "version": 3
   },
   "file_extension": ".py",
   "mimetype": "text/x-python",
   "name": "python",
   "nbconvert_exporter": "python",
   "pygments_lexer": "ipython3",
   "version": "3.7.13"
  },
  "toc": {
   "base_numbering": 1,
   "nav_menu": {},
   "number_sections": true,
   "sideBar": true,
   "skip_h1_title": false,
   "title_cell": "Table of Contents",
   "title_sidebar": "Contents",
   "toc_cell": false,
   "toc_position": {
    "height": "calc(100% - 180px)",
    "left": "10px",
    "top": "150px",
    "width": "176.188px"
   },
   "toc_section_display": true,
   "toc_window_display": true
  }
 },
 "nbformat": 4,
 "nbformat_minor": 5
}
