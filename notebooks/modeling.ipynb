{
 "cells": [
  {
   "cell_type": "markdown",
   "id": "64348b6c",
   "metadata": {},
   "source": [
    "# Libraries and Data"
   ]
  },
  {
   "cell_type": "code",
   "execution_count": 1,
   "id": "ee637605",
   "metadata": {},
   "outputs": [],
   "source": [
    "import numpy as np\n",
    "import pandas as pd\n",
    "import matplotlib.pyplot as plt\n",
    "import seaborn as sns\n",
    "from skopt import BayesSearchCV\n",
    "import skopt\n",
    "import warnings\n",
    "import datetime\n",
    "\n",
    "from sklearn.ensemble import GradientBoostingRegressor\n",
    "from sklearn.model_selection import train_test_split\n",
    "from sklearn.experimental import enable_iterative_imputer\n",
    "from sklearn.impute import IterativeImputer\n",
    "from sklearn.impute import KNNImputer"
   ]
  },
  {
   "cell_type": "code",
   "execution_count": 50,
   "id": "49922fa8",
   "metadata": {},
   "outputs": [],
   "source": [
    "warnings.filterwarnings('ignore')"
   ]
  },
  {
   "cell_type": "code",
   "execution_count": 3,
   "id": "ce8ac36e",
   "metadata": {},
   "outputs": [],
   "source": [
    "train = pd.read_csv(\"../data/advanced_train.csv\", low_memory = False)\n",
    "test = pd.read_csv(\"../data/advanced_test.csv\", low_memory = False)\n",
    "sample = pd.read_csv(\"../data/sample_submission.csv\", low_memory = False)"
   ]
  },
  {
   "cell_type": "code",
   "execution_count": 4,
   "id": "3db39e0d",
   "metadata": {},
   "outputs": [
    {
     "data": {
      "text/plain": [
       "((37439, 40), (10000, 39))"
      ]
     },
     "execution_count": 4,
     "metadata": {},
     "output_type": "execute_result"
    }
   ],
   "source": [
    "train.shape, test.shape"
   ]
  },
  {
   "cell_type": "code",
   "execution_count": 6,
   "id": "b8af35d5",
   "metadata": {
    "scrolled": false
   },
   "outputs": [
    {
     "name": "stdout",
     "output_type": "stream",
     "text": [
      "<class 'pandas.core.frame.DataFrame'>\n",
      "RangeIndex: 37439 entries, 0 to 37438\n",
      "Data columns (total 40 columns):\n",
      " #   Column                       Non-Null Count  Dtype  \n",
      "---  ------                       --------------  -----  \n",
      " 0   Id                           37439 non-null  int64  \n",
      " 1   Sold Price                   37439 non-null  int64  \n",
      " 2   Summary                      37176 non-null  object \n",
      " 3   Type                         37439 non-null  object \n",
      " 4   Year built                   36686 non-null  float64\n",
      " 5   Heating                      32481 non-null  object \n",
      " 6   Cooling                      29109 non-null  object \n",
      " 7   Parking                      36720 non-null  object \n",
      " 8   Lot                          26041 non-null  float64\n",
      " 9   Bedrooms                     35235 non-null  object \n",
      " 10  Bathrooms                    34786 non-null  float64\n",
      " 11  Full bathrooms               31696 non-null  float64\n",
      " 12  Total interior livable area  35443 non-null  float64\n",
      " 13  Total spaces                 36786 non-null  float64\n",
      " 14  Garage spaces                36784 non-null  float64\n",
      " 15  Region                       37437 non-null  object \n",
      " 16  Elementary School            33839 non-null  object \n",
      " 17  Elementary School Score      33723 non-null  float64\n",
      " 18  Elementary School Distance   33839 non-null  float64\n",
      " 19  Middle School                24621 non-null  object \n",
      " 20  Middle School Score          24621 non-null  float64\n",
      " 21  Middle School Distance       24621 non-null  float64\n",
      " 22  High School                  33386 non-null  object \n",
      " 23  High School Score            33271 non-null  float64\n",
      " 24  High School Distance         33385 non-null  float64\n",
      " 25  Flooring                     28554 non-null  object \n",
      " 26  Heating features             31933 non-null  object \n",
      " 27  Cooling features             28168 non-null  object \n",
      " 28  Appliances included          27117 non-null  object \n",
      " 29  Laundry features             26259 non-null  object \n",
      " 30  Parking features             34151 non-null  object \n",
      " 31  Tax assessed value           34505 non-null  object \n",
      " 32  Annual tax amount            33903 non-null  object \n",
      " 33  Listed On                    37439 non-null  object \n",
      " 34  Listed Price                 37439 non-null  int64  \n",
      " 35  Last Sold On                 23341 non-null  object \n",
      " 36  Last Sold Price              23341 non-null  float64\n",
      " 37  City                         37439 non-null  object \n",
      " 38  Zip                          37439 non-null  int64  \n",
      " 39  State                        37439 non-null  object \n",
      "dtypes: float64(14), int64(4), object(22)\n",
      "memory usage: 11.4+ MB\n"
     ]
    }
   ],
   "source": [
    "train.info()"
   ]
  },
  {
   "cell_type": "code",
   "execution_count": 51,
   "id": "8bf1b100",
   "metadata": {},
   "outputs": [
    {
     "name": "stdout",
     "output_type": "stream",
     "text": [
      "<class 'pandas.core.frame.DataFrame'>\n",
      "RangeIndex: 10000 entries, 0 to 9999\n",
      "Data columns (total 39 columns):\n",
      " #   Column                       Non-Null Count  Dtype  \n",
      "---  ------                       --------------  -----  \n",
      " 0   Id                           10000 non-null  int64  \n",
      " 1   Summary                      9913 non-null   object \n",
      " 2   Type                         10000 non-null  object \n",
      " 3   Year built                   9708 non-null   float64\n",
      " 4   Heating                      8493 non-null   object \n",
      " 5   Cooling                      7708 non-null   object \n",
      " 6   Parking                      9811 non-null   object \n",
      " 7   Lot                          7217 non-null   float64\n",
      " 8   Bedrooms                     9332 non-null   object \n",
      " 9   Bathrooms                    9188 non-null   float64\n",
      " 10  Full bathrooms               7878 non-null   float64\n",
      " 11  Total interior livable area  9470 non-null   float64\n",
      " 12  Total spaces                 9737 non-null   float64\n",
      " 13  Garage spaces                9738 non-null   float64\n",
      " 14  Region                       10000 non-null  object \n",
      " 15  Elementary School            8858 non-null   object \n",
      " 16  Elementary School Score      8820 non-null   float64\n",
      " 17  Elementary School Distance   8858 non-null   float64\n",
      " 18  Middle School                6114 non-null   object \n",
      " 19  Middle School Score          6113 non-null   float64\n",
      " 20  Middle School Distance       6114 non-null   float64\n",
      " 21  High School                  9053 non-null   object \n",
      " 22  High School Score            8949 non-null   float64\n",
      " 23  High School Distance         9053 non-null   float64\n",
      " 24  Flooring                     7321 non-null   object \n",
      " 25  Heating features             8341 non-null   object \n",
      " 26  Cooling features             7489 non-null   object \n",
      " 27  Appliances included          6880 non-null   object \n",
      " 28  Laundry features             7056 non-null   object \n",
      " 29  Parking features             8980 non-null   object \n",
      " 30  Tax assessed value           9282 non-null   float64\n",
      " 31  Annual tax amount            9226 non-null   float64\n",
      " 32  Listed On                    10000 non-null  object \n",
      " 33  Listed Price                 10000 non-null  int64  \n",
      " 34  Last Sold On                 6332 non-null   object \n",
      " 35  Last Sold Price              6332 non-null   float64\n",
      " 36  City                         10000 non-null  object \n",
      " 37  Zip                          10000 non-null  int64  \n",
      " 38  State                        10000 non-null  object \n",
      "dtypes: float64(16), int64(3), object(20)\n",
      "memory usage: 3.0+ MB\n"
     ]
    }
   ],
   "source": [
    "test.info()"
   ]
  },
  {
   "cell_type": "markdown",
   "id": "d03f5c85",
   "metadata": {},
   "source": [
    "# Data Exploration"
   ]
  },
  {
   "cell_type": "markdown",
   "id": "883ad59b",
   "metadata": {},
   "source": [
    "## School"
   ]
  },
  {
   "cell_type": "code",
   "execution_count": 7,
   "id": "ab09cc01",
   "metadata": {
    "scrolled": false
   },
   "outputs": [
    {
     "data": {
      "text/plain": [
       "True"
      ]
     },
     "execution_count": 7,
     "metadata": {},
     "output_type": "execute_result"
    }
   ],
   "source": [
    "#sns.histplot(np.log(train[\"Sold Price\"]))\n",
    "#sns.histplot(train[\"Garage spaces\"])\n",
    "#train[\"Year built\"].unique()\n",
    "train[\"High School Distance\"].isna().any()"
   ]
  },
  {
   "cell_type": "code",
   "execution_count": 8,
   "id": "2f45232a",
   "metadata": {},
   "outputs": [
    {
     "data": {
      "text/plain": [
       "0        0.8\n",
       "1        0.3\n",
       "2        0.6\n",
       "3        0.2\n",
       "4        0.3\n",
       "        ... \n",
       "37434    0.3\n",
       "37435    0.2\n",
       "37436    NaN\n",
       "37437    0.5\n",
       "37438    1.5\n",
       "Name: Elementary School Distance, Length: 37439, dtype: float64"
      ]
     },
     "execution_count": 8,
     "metadata": {},
     "output_type": "execute_result"
    }
   ],
   "source": [
    "train[\"Elementary School Distance\"]"
   ]
  },
  {
   "cell_type": "code",
   "execution_count": 9,
   "id": "04674566",
   "metadata": {},
   "outputs": [
    {
     "data": {
      "text/plain": [
       "<AxesSubplot:>"
      ]
     },
     "execution_count": 9,
     "metadata": {},
     "output_type": "execute_result"
    },
    {
     "data": {
      "image/png": "[encoded data removed]",
      "text/plain": [
       "<Figure size 432x288 with 1 Axes>"
      ]
     },
     "metadata": {
      "needs_background": "light"
     },
     "output_type": "display_data"
    }
   ],
   "source": [
    "train[\"Middle School Distance\"].hist()"
   ]
  },
  {
   "cell_type": "code",
   "execution_count": 10,
   "id": "ced89d25",
   "metadata": {},
   "outputs": [
    {
     "data": {
      "text/plain": [
       "<AxesSubplot:>"
      ]
     },
     "execution_count": 10,
     "metadata": {},
     "output_type": "execute_result"
    },
    {
     "data": {
      "image/png": "[encoded data removed]",
      "text/plain": [
       "<Figure size 432x288 with 1 Axes>"
      ]
     },
     "metadata": {
      "needs_background": "light"
     },
     "output_type": "display_data"
    }
   ],
   "source": [
    "train[\"Middle School Distance\"].hist()"
   ]
  },
  {
   "cell_type": "markdown",
   "id": "d490dcb0",
   "metadata": {},
   "source": [
    "## Heating"
   ]
  },
  {
   "cell_type": "code",
   "execution_count": 11,
   "id": "cce45223",
   "metadata": {
    "scrolled": true
   },
   "outputs": [
    {
     "data": {
      "text/plain": [
       "Central                                            7280\n",
       "Central Forced Air                                 4695\n",
       "Central Forced Air - Gas                           3041\n",
       "Forced Air                                         1977\n",
       "Wall Furnace                                       1535\n",
       "                                                   ... \n",
       "Stove - Wood, Other                                   1\n",
       "Radiant, Daiken Mini Splits                           1\n",
       "Solar, Central Forced Air - Gas, Radiant Floors       1\n",
       "Propane, Electric, Wall Furnace, Wood Stove           1\n",
       "Natural Gas, Electric                                 1\n",
       "Name: Heating, Length: 1536, dtype: int64"
      ]
     },
     "execution_count": 11,
     "metadata": {},
     "output_type": "execute_result"
    }
   ],
   "source": [
    "asdf = train[\"Heating\"].value_counts()\n",
    "asdf"
   ]
  },
  {
   "cell_type": "code",
   "execution_count": 12,
   "id": "acf66c3b",
   "metadata": {
    "scrolled": false
   },
   "outputs": [
    {
     "data": {
      "text/plain": [
       "central                     9195\n",
       "forced air                  5999\n",
       "central forced air          5830\n",
       "central forced air - gas    3969\n",
       "gas                         3522\n",
       "wall furnace                2150\n",
       "other                       1667\n",
       "electric                    1438\n",
       "fireplace                    928\n",
       "baseboard                    699\n",
       "natural gas                  678\n",
       "radiant                      671\n",
       "heating - 2+ zones           652\n",
       "propane                      631\n",
       "fireplace(s)                 469\n",
       "none                         453\n",
       "wall                         424\n",
       "floor furnace                422\n",
       "heat pump                    365\n",
       "wood stove                   339\n",
       "solar                        284\n",
       "propane / butane             230\n",
       "radiant floors               219\n",
       "zoned                        201\n",
       "stove                        177\n",
       "wood / pellet                172\n",
       "stove - wood                 138\n",
       "forced air - gas             120\n",
       "see remarks                  117\n",
       "individual room controls     102\n",
       "Name: Heating, dtype: int64"
      ]
     },
     "execution_count": 12,
     "metadata": {},
     "output_type": "execute_result"
    }
   ],
   "source": [
    "heat_types = train[\"Heating\"].str.lower().str.split(\",\").explode().str.strip().value_counts()\n",
    "heat_types.head(30)\n",
    "# h1 = central, forced air, forced, furnace\n",
    "# h2 = radiant, heat pump, baseboard, steam, zone\n",
    "# h3 = wood, stove, fireplace, fire, coal, pellet\n",
    "# h4 = solar, geothermal"
   ]
  },
  {
   "cell_type": "code",
   "execution_count": 13,
   "id": "d8a763b2",
   "metadata": {},
   "outputs": [
    {
     "data": {
      "text/plain": [
       "(60,)"
      ]
     },
     "execution_count": 13,
     "metadata": {},
     "output_type": "execute_result"
    }
   ],
   "source": [
    "train[\"Heating features\"].str.lower().str.split(\",\").explode().str.replace(\" \", \"\").value_counts().shape"
   ]
  },
  {
   "cell_type": "markdown",
   "id": "3bfc01f7",
   "metadata": {},
   "source": [
    "## Parking"
   ]
  },
  {
   "cell_type": "code",
   "execution_count": 14,
   "id": "808e2609",
   "metadata": {},
   "outputs": [
    {
     "data": {
      "text/plain": [
       "Index(['garage', 'covered', 'garage-attached', 'driveway', 'carport',\n",
       "       'garagedooropener', '0spaces', 'sidebyside', 'attached',\n",
       "       'garage-detached',\n",
       "       ...\n",
       "       'over20spaces', 'drivethrugarage', 'uncoveredparkspaces2+',\n",
       "       'morethanonespace', 'rvparking', 'unc#3', 'detachedgarage',\n",
       "       'uncoveredparkingspace', 'carports-2ormore', 'sinkingarage'],\n",
       "      dtype='object', length=156)"
      ]
     },
     "execution_count": 14,
     "metadata": {},
     "output_type": "execute_result"
    }
   ],
   "source": [
    "# Take a looka at the most common values in the parking variable.\n",
    "# 156 unique values in the parking variable\n",
    "parking_types_train = train[\"Parking\"].str.lower().str.replace(\" \", \"\").str.split(\",\").explode().value_counts()\n",
    "\n",
    "parking_types_train.head(40)\n",
    "parking_types_train.index\n"
   ]
  },
  {
   "cell_type": "code",
   "execution_count": 15,
   "id": "acc26029",
   "metadata": {},
   "outputs": [
    {
     "name": "stdout",
     "output_type": "stream",
     "text": [
      "garage\n",
      "covered\n",
      "garage-attached\n",
      "driveway\n",
      "carport\n",
      "garagedooropener\n",
      "0spaces\n",
      "sidebyside\n",
      "attached\n",
      "garage-detached\n",
      "garage-twodoor\n",
      "off-street\n",
      "onsite(singlefamilyonly)\n",
      "interioraccess\n",
      "independent\n",
      "assigned\n",
      "onsite\n",
      "concrete\n",
      "communitystructure\n",
      "tandem\n",
      "gated\n",
      "on-street\n",
      "guest\n",
      "garage-singledoor\n",
      "enclosed\n",
      "underground/basement\n",
      "private\n",
      "none\n",
      "controlledentrance\n",
      "directaccess\n",
      "detachedcarport\n",
      "onsite-mapped(condoonly)\n",
      "onstreet\n",
      "garagefacesfront\n",
      "offstreet\n",
      "underground\n",
      "open\n",
      "autodrivewaygate\n",
      "parkingspace\n",
      "attachedcarport\n",
      "detached\n",
      "garage-threedoor\n",
      "rvaccess/parking\n",
      "valet\n",
      "mixed\n",
      "paved\n",
      "shareddriveway\n",
      "oversized\n",
      "circulardriveway\n",
      "drivewaylevel\n",
      "built-instorage\n",
      "convertedgarage\n",
      "gravel\n",
      "boat\n",
      "driveway-combination\n",
      "rvpotential\n",
      "other\n",
      "onsite-unassigned(condoonly)\n",
      "rv\n",
      "oversizedparking\n",
      "workshopingarage\n",
      "garagefacesrear\n",
      "nogarage\n",
      "garagefacesside\n",
      "2cargarage\n",
      "drivewaydownslopefromstreet\n",
      "intaccessfromgarage\n",
      "drivewayupslopefromstreet\n",
      "mechanicallift\n",
      "seeremarks\n",
      "potentialrvparking\n",
      "tandemcovered\n",
      "sideyardaccess\n",
      "asphalt\n",
      "autoopener\n",
      "sizelimited\n",
      "rv/boatparking\n",
      "autodoor\n",
      "permitrequired\n",
      "parkingpad\n",
      "onsite-leaseavailable(condoonly)\n",
      "parkinglot\n",
      "driveway-brick\n",
      "unpaved\n",
      "oversizedgarage\n",
      "gar#2\n",
      "belowbuildingparking\n",
      "existingrvparking\n",
      "rvgated\n",
      "deck\n",
      "spaceperunit-1\n",
      "work/shoparea\n",
      "carport-2ormore\n",
      "spaceperunit-2\n",
      "porte-cochere\n",
      "uncovered\n",
      "street\n",
      "parkingspaces\n",
      "attachedgaragecabinets\n",
      "rvgarage\n"
     ]
    },
    {
     "name": "stderr",
     "output_type": "stream",
     "text": [
      "/opt/anaconda3/envs/kaggle_soa_22/lib/python3.7/site-packages/ipykernel_launcher.py:3: PerformanceWarning: DataFrame is highly fragmented.  This is usually the result of calling `frame.insert` many times, which has poor performance.  Consider joining all columns at once using pd.concat(axis=1) instead.  To get a de-fragmented frame, use `newframe = frame.copy()`\n",
      "  This is separate from the ipykernel package so we can avoid doing imports until\n"
     ]
    },
    {
     "name": "stdout",
     "output_type": "stream",
     "text": [
      "storage\n",
      "unassigned\n",
      "offsite\n",
      "tandemuncovered\n",
      "public\n",
      "golfcartgarage\n",
      "additionalcarport\n",
      "pull-through\n",
      "utilitysink\n",
      "rvcovered\n",
      "structure\n",
      "rotational\n",
      "additionalgarage\n",
      "nodriveway\n",
      "secured\n",
      "gar#1\n",
      "electricvehiclechargingstation(s)\n",
      "overheightgarage\n",
      "insideentrance\n",
      "drivethru\n",
      "unc#2\n",
      "gar#3\n",
      "guestspace(s)\n",
      "noparkingonsite\n",
      "two\n",
      "notassigned\n",
      "drivethrough\n",
      "3cargarage\n",
      "1cargarage\n",
      "3ormoreparkingsp\n",
      "2parkingspaces\n",
      "rvpossible\n",
      "4+cargarage\n",
      "offstreetparking\n",
      "remote\n",
      "heatedgarage\n",
      "cpt#1\n",
      "insulated\n",
      "streetparking\n",
      "gar#4\n",
      "one\n",
      "1-10spaces\n",
      "undersizedgarage\n",
      "rvaccess\n",
      "manualdoor\n",
      "cpt#2\n",
      "over20spaces\n",
      "drivethrugarage\n",
      "uncoveredparkspaces2+\n",
      "morethanonespace\n",
      "rvparking\n",
      "unc#3\n",
      "detachedgarage\n",
      "uncoveredparkingspace\n",
      "carports-2ormore\n",
      "sinkingarage\n"
     ]
    }
   ],
   "source": [
    "\n",
    "for ptype in parking_types_train.index:\n",
    "    print(ptype)\n",
    "    train[ptype] = train[\"Parking\"].str.lower().str.replace(\" \", \"\").str.contains(ptype)\n",
    "    "
   ]
  },
  {
   "cell_type": "markdown",
   "id": "2b30c80f",
   "metadata": {},
   "source": [
    "## Lot"
   ]
  },
  {
   "cell_type": "code",
   "execution_count": 16,
   "id": "e9b41b5c",
   "metadata": {},
   "outputs": [
    {
     "data": {
      "text/plain": [
       "0.0"
      ]
     },
     "execution_count": 16,
     "metadata": {},
     "output_type": "execute_result"
    }
   ],
   "source": [
    "np.min(train[\"Lot\"])"
   ]
  },
  {
   "cell_type": "code",
   "execution_count": 17,
   "id": "7d8a5081",
   "metadata": {},
   "outputs": [
    {
     "data": {
      "text/plain": [
       "<AxesSubplot:>"
      ]
     },
     "execution_count": 17,
     "metadata": {},
     "output_type": "execute_result"
    },
    {
     "data": {
      "image/png": "[encoded data removed]",
      "text/plain": [
       "<Figure size 432x288 with 1 Axes>"
      ]
     },
     "metadata": {
      "needs_background": "light"
     },
     "output_type": "display_data"
    }
   ],
   "source": [
    "np.log(np.minimum(train[\"Lot\"], 1e6) + 1).hist()"
   ]
  },
  {
   "cell_type": "code",
   "execution_count": 18,
   "id": "2d3b8e20",
   "metadata": {
    "scrolled": true
   },
   "outputs": [
    {
     "data": {
      "text/html": [
       "<div>\n",
       "<style scoped>\n",
       "    .dataframe tbody tr th:only-of-type {\n",
       "        vertical-align: middle;\n",
       "    }\n",
       "\n",
       "    .dataframe tbody tr th {\n",
       "        vertical-align: top;\n",
       "    }\n",
       "\n",
       "    .dataframe thead th {\n",
       "        text-align: right;\n",
       "    }\n",
       "</style>\n",
       "<table border=\"1\" class=\"dataframe\">\n",
       "  <thead>\n",
       "    <tr style=\"text-align: right;\">\n",
       "      <th></th>\n",
       "      <th>Id</th>\n",
       "      <th>Sold Price</th>\n",
       "      <th>Summary</th>\n",
       "      <th>Type</th>\n",
       "      <th>Year built</th>\n",
       "      <th>Heating</th>\n",
       "      <th>Cooling</th>\n",
       "      <th>Parking</th>\n",
       "      <th>Lot</th>\n",
       "      <th>Bedrooms</th>\n",
       "      <th>...</th>\n",
       "      <th>over20spaces</th>\n",
       "      <th>drivethrugarage</th>\n",
       "      <th>uncoveredparkspaces2+</th>\n",
       "      <th>morethanonespace</th>\n",
       "      <th>rvparking</th>\n",
       "      <th>unc#3</th>\n",
       "      <th>detachedgarage</th>\n",
       "      <th>uncoveredparkingspace</th>\n",
       "      <th>carports-2ormore</th>\n",
       "      <th>sinkingarage</th>\n",
       "    </tr>\n",
       "  </thead>\n",
       "  <tbody>\n",
       "    <tr>\n",
       "      <th>1</th>\n",
       "      <td>1</td>\n",
       "      <td>711000</td>\n",
       "      <td>Modern, Hip, &amp; Bright! This beautifully mainta...</td>\n",
       "      <td>Condo</td>\n",
       "      <td>2016.0</td>\n",
       "      <td>Central</td>\n",
       "      <td>Air Conditioning, Central</td>\n",
       "      <td>Covered</td>\n",
       "      <td>NaN</td>\n",
       "      <td>2</td>\n",
       "      <td>...</td>\n",
       "      <td>False</td>\n",
       "      <td>False</td>\n",
       "      <td>False</td>\n",
       "      <td>False</td>\n",
       "      <td>False</td>\n",
       "      <td>False</td>\n",
       "      <td>False</td>\n",
       "      <td>False</td>\n",
       "      <td>False</td>\n",
       "      <td>False</td>\n",
       "    </tr>\n",
       "    <tr>\n",
       "      <th>5</th>\n",
       "      <td>5</td>\n",
       "      <td>196000</td>\n",
       "      <td>HUD Home Opportunity. This 2 Bedroom/ 2 Bath h...</td>\n",
       "      <td>VacantLand</td>\n",
       "      <td>1973.0</td>\n",
       "      <td>Other</td>\n",
       "      <td>Central</td>\n",
       "      <td>Garage - Attached, Covered</td>\n",
       "      <td>NaN</td>\n",
       "      <td>NaN</td>\n",
       "      <td>...</td>\n",
       "      <td>False</td>\n",
       "      <td>False</td>\n",
       "      <td>False</td>\n",
       "      <td>False</td>\n",
       "      <td>False</td>\n",
       "      <td>False</td>\n",
       "      <td>False</td>\n",
       "      <td>False</td>\n",
       "      <td>False</td>\n",
       "      <td>False</td>\n",
       "    </tr>\n",
       "    <tr>\n",
       "      <th>9</th>\n",
       "      <td>9</td>\n",
       "      <td>432000</td>\n",
       "      <td>Live in the heart of West Hollywood at one of ...</td>\n",
       "      <td>Condo</td>\n",
       "      <td>1973.0</td>\n",
       "      <td>Central</td>\n",
       "      <td>Central Air</td>\n",
       "      <td>0 spaces</td>\n",
       "      <td>NaN</td>\n",
       "      <td>0</td>\n",
       "      <td>...</td>\n",
       "      <td>False</td>\n",
       "      <td>False</td>\n",
       "      <td>False</td>\n",
       "      <td>False</td>\n",
       "      <td>False</td>\n",
       "      <td>False</td>\n",
       "      <td>False</td>\n",
       "      <td>False</td>\n",
       "      <td>False</td>\n",
       "      <td>False</td>\n",
       "    </tr>\n",
       "    <tr>\n",
       "      <th>12</th>\n",
       "      <td>12</td>\n",
       "      <td>686000</td>\n",
       "      <td>GREAT LOCATION - Near USC and L A Coliseum.  2...</td>\n",
       "      <td>Unknown</td>\n",
       "      <td>1906.0</td>\n",
       "      <td>NaN</td>\n",
       "      <td>NaN</td>\n",
       "      <td>Garage</td>\n",
       "      <td>NaN</td>\n",
       "      <td>NaN</td>\n",
       "      <td>...</td>\n",
       "      <td>False</td>\n",
       "      <td>False</td>\n",
       "      <td>False</td>\n",
       "      <td>False</td>\n",
       "      <td>False</td>\n",
       "      <td>False</td>\n",
       "      <td>False</td>\n",
       "      <td>False</td>\n",
       "      <td>False</td>\n",
       "      <td>False</td>\n",
       "    </tr>\n",
       "    <tr>\n",
       "      <th>14</th>\n",
       "      <td>14</td>\n",
       "      <td>326000</td>\n",
       "      <td>Smartsville, CA ~ Commute? No problem! This ho...</td>\n",
       "      <td>MobileManufactured</td>\n",
       "      <td>2005.0</td>\n",
       "      <td>Central</td>\n",
       "      <td>Central Air, Ceiling Fan(s)</td>\n",
       "      <td>Off-street</td>\n",
       "      <td>NaN</td>\n",
       "      <td>3</td>\n",
       "      <td>...</td>\n",
       "      <td>False</td>\n",
       "      <td>False</td>\n",
       "      <td>False</td>\n",
       "      <td>False</td>\n",
       "      <td>False</td>\n",
       "      <td>False</td>\n",
       "      <td>False</td>\n",
       "      <td>False</td>\n",
       "      <td>False</td>\n",
       "      <td>False</td>\n",
       "    </tr>\n",
       "    <tr>\n",
       "      <th>...</th>\n",
       "      <td>...</td>\n",
       "      <td>...</td>\n",
       "      <td>...</td>\n",
       "      <td>...</td>\n",
       "      <td>...</td>\n",
       "      <td>...</td>\n",
       "      <td>...</td>\n",
       "      <td>...</td>\n",
       "      <td>...</td>\n",
       "      <td>...</td>\n",
       "      <td>...</td>\n",
       "      <td>...</td>\n",
       "      <td>...</td>\n",
       "      <td>...</td>\n",
       "      <td>...</td>\n",
       "      <td>...</td>\n",
       "      <td>...</td>\n",
       "      <td>...</td>\n",
       "      <td>...</td>\n",
       "      <td>...</td>\n",
       "      <td>...</td>\n",
       "    </tr>\n",
       "    <tr>\n",
       "      <th>37418</th>\n",
       "      <td>37418</td>\n",
       "      <td>427000</td>\n",
       "      <td>Gated Complex W/ Large Common Courtyard Area, ...</td>\n",
       "      <td>Condo</td>\n",
       "      <td>1982.0</td>\n",
       "      <td>Central</td>\n",
       "      <td>Whole House Fan</td>\n",
       "      <td>Garage</td>\n",
       "      <td>NaN</td>\n",
       "      <td>2</td>\n",
       "      <td>...</td>\n",
       "      <td>False</td>\n",
       "      <td>False</td>\n",
       "      <td>False</td>\n",
       "      <td>False</td>\n",
       "      <td>False</td>\n",
       "      <td>False</td>\n",
       "      <td>False</td>\n",
       "      <td>False</td>\n",
       "      <td>False</td>\n",
       "      <td>False</td>\n",
       "    </tr>\n",
       "    <tr>\n",
       "      <th>37423</th>\n",
       "      <td>37423</td>\n",
       "      <td>687000</td>\n",
       "      <td>Prime Location in LA. Center of Mid-Wilshire. ...</td>\n",
       "      <td>Condo</td>\n",
       "      <td>2007.0</td>\n",
       "      <td>Central</td>\n",
       "      <td>Central Air</td>\n",
       "      <td>Garage - Two Door</td>\n",
       "      <td>NaN</td>\n",
       "      <td>3</td>\n",
       "      <td>...</td>\n",
       "      <td>False</td>\n",
       "      <td>False</td>\n",
       "      <td>False</td>\n",
       "      <td>False</td>\n",
       "      <td>False</td>\n",
       "      <td>False</td>\n",
       "      <td>False</td>\n",
       "      <td>False</td>\n",
       "      <td>False</td>\n",
       "      <td>False</td>\n",
       "    </tr>\n",
       "    <tr>\n",
       "      <th>37424</th>\n",
       "      <td>37424</td>\n",
       "      <td>808000</td>\n",
       "      <td>In the heart of the city, this two-bedroom con...</td>\n",
       "      <td>Condo</td>\n",
       "      <td>1963.0</td>\n",
       "      <td>Electric</td>\n",
       "      <td>NaN</td>\n",
       "      <td>Attached, Enclosed, Garage Door Opener, Interi...</td>\n",
       "      <td>NaN</td>\n",
       "      <td>2</td>\n",
       "      <td>...</td>\n",
       "      <td>False</td>\n",
       "      <td>False</td>\n",
       "      <td>False</td>\n",
       "      <td>False</td>\n",
       "      <td>False</td>\n",
       "      <td>False</td>\n",
       "      <td>False</td>\n",
       "      <td>False</td>\n",
       "      <td>False</td>\n",
       "      <td>False</td>\n",
       "    </tr>\n",
       "    <tr>\n",
       "      <th>37430</th>\n",
       "      <td>37430</td>\n",
       "      <td>942000</td>\n",
       "      <td>Great Investment Opportunity!!!! Four Unit El ...</td>\n",
       "      <td>MultiFamily</td>\n",
       "      <td>1940.0</td>\n",
       "      <td>Wall</td>\n",
       "      <td>NaN</td>\n",
       "      <td>Covered</td>\n",
       "      <td>NaN</td>\n",
       "      <td>8</td>\n",
       "      <td>...</td>\n",
       "      <td>False</td>\n",
       "      <td>False</td>\n",
       "      <td>False</td>\n",
       "      <td>False</td>\n",
       "      <td>False</td>\n",
       "      <td>False</td>\n",
       "      <td>False</td>\n",
       "      <td>False</td>\n",
       "      <td>False</td>\n",
       "      <td>False</td>\n",
       "    </tr>\n",
       "    <tr>\n",
       "      <th>37435</th>\n",
       "      <td>37435</td>\n",
       "      <td>833000</td>\n",
       "      <td>NaN</td>\n",
       "      <td>Condo</td>\n",
       "      <td>1989.0</td>\n",
       "      <td>Central</td>\n",
       "      <td>Central Air</td>\n",
       "      <td>Garage</td>\n",
       "      <td>NaN</td>\n",
       "      <td>2</td>\n",
       "      <td>...</td>\n",
       "      <td>False</td>\n",
       "      <td>False</td>\n",
       "      <td>False</td>\n",
       "      <td>False</td>\n",
       "      <td>False</td>\n",
       "      <td>False</td>\n",
       "      <td>False</td>\n",
       "      <td>False</td>\n",
       "      <td>False</td>\n",
       "      <td>False</td>\n",
       "    </tr>\n",
       "  </tbody>\n",
       "</table>\n",
       "<p>11398 rows × 196 columns</p>\n",
       "</div>"
      ],
      "text/plain": [
       "          Id  Sold Price                                            Summary  \\\n",
       "1          1      711000  Modern, Hip, & Bright! This beautifully mainta...   \n",
       "5          5      196000  HUD Home Opportunity. This 2 Bedroom/ 2 Bath h...   \n",
       "9          9      432000  Live in the heart of West Hollywood at one of ...   \n",
       "12        12      686000  GREAT LOCATION - Near USC and L A Coliseum.  2...   \n",
       "14        14      326000  Smartsville, CA ~ Commute? No problem! This ho...   \n",
       "...      ...         ...                                                ...   \n",
       "37418  37418      427000  Gated Complex W/ Large Common Courtyard Area, ...   \n",
       "37423  37423      687000  Prime Location in LA. Center of Mid-Wilshire. ...   \n",
       "37424  37424      808000  In the heart of the city, this two-bedroom con...   \n",
       "37430  37430      942000  Great Investment Opportunity!!!! Four Unit El ...   \n",
       "37435  37435      833000                                                NaN   \n",
       "\n",
       "                     Type  Year built   Heating                      Cooling  \\\n",
       "1                   Condo      2016.0   Central    Air Conditioning, Central   \n",
       "5              VacantLand      1973.0     Other                      Central   \n",
       "9                   Condo      1973.0   Central                  Central Air   \n",
       "12                Unknown      1906.0       NaN                          NaN   \n",
       "14     MobileManufactured      2005.0   Central  Central Air, Ceiling Fan(s)   \n",
       "...                   ...         ...       ...                          ...   \n",
       "37418               Condo      1982.0   Central              Whole House Fan   \n",
       "37423               Condo      2007.0   Central                  Central Air   \n",
       "37424               Condo      1963.0  Electric                          NaN   \n",
       "37430         MultiFamily      1940.0      Wall                          NaN   \n",
       "37435               Condo      1989.0   Central                  Central Air   \n",
       "\n",
       "                                                 Parking  Lot Bedrooms  ...  \\\n",
       "1                                                Covered  NaN        2  ...   \n",
       "5                             Garage - Attached, Covered  NaN      NaN  ...   \n",
       "9                                               0 spaces  NaN        0  ...   \n",
       "12                                                Garage  NaN      NaN  ...   \n",
       "14                                            Off-street  NaN        3  ...   \n",
       "...                                                  ...  ...      ...  ...   \n",
       "37418                                             Garage  NaN        2  ...   \n",
       "37423                                  Garage - Two Door  NaN        3  ...   \n",
       "37424  Attached, Enclosed, Garage Door Opener, Interi...  NaN        2  ...   \n",
       "37430                                            Covered  NaN        8  ...   \n",
       "37435                                             Garage  NaN        2  ...   \n",
       "\n",
       "       over20spaces  drivethrugarage  uncoveredparkspaces2+  morethanonespace  \\\n",
       "1             False            False                  False             False   \n",
       "5             False            False                  False             False   \n",
       "9             False            False                  False             False   \n",
       "12            False            False                  False             False   \n",
       "14            False            False                  False             False   \n",
       "...             ...              ...                    ...               ...   \n",
       "37418         False            False                  False             False   \n",
       "37423         False            False                  False             False   \n",
       "37424         False            False                  False             False   \n",
       "37430         False            False                  False             False   \n",
       "37435         False            False                  False             False   \n",
       "\n",
       "       rvparking  unc#3 detachedgarage  uncoveredparkingspace  \\\n",
       "1          False  False          False                  False   \n",
       "5          False  False          False                  False   \n",
       "9          False  False          False                  False   \n",
       "12         False  False          False                  False   \n",
       "14         False  False          False                  False   \n",
       "...          ...    ...            ...                    ...   \n",
       "37418      False  False          False                  False   \n",
       "37423      False  False          False                  False   \n",
       "37424      False  False          False                  False   \n",
       "37430      False  False          False                  False   \n",
       "37435      False  False          False                  False   \n",
       "\n",
       "       carports-2ormore sinkingarage  \n",
       "1                 False        False  \n",
       "5                 False        False  \n",
       "9                 False        False  \n",
       "12                False        False  \n",
       "14                False        False  \n",
       "...                 ...          ...  \n",
       "37418             False        False  \n",
       "37423             False        False  \n",
       "37424             False        False  \n",
       "37430             False        False  \n",
       "37435             False        False  \n",
       "\n",
       "[11398 rows x 196 columns]"
      ]
     },
     "execution_count": 18,
     "metadata": {},
     "output_type": "execute_result"
    }
   ],
   "source": [
    "train[train[\"Lot\"].isna()]"
   ]
  },
  {
   "cell_type": "code",
   "execution_count": 19,
   "id": "10ffe0d5",
   "metadata": {
    "scrolled": true
   },
   "outputs": [
    {
     "data": {
      "text/plain": [
       "array(['singlefamily', 'condo', 'townhouse', 'vacantland', 'unknown',\n",
       "       'mobilemanufactured', 'multifamily', 'cooperative',\n",
       "       'topfloor,2level', 'apartment', '3story', '4+story',\n",
       "       '2story,duplex', 'detached,splitlevel', 'duplex',\n",
       "       'luxury,townhouse,2level',\n",
       "       'mid-rise(4-8),unitbelow,unitabove,3level',\n",
       "       'topfloor,2level,low-rise(1-3)', 'detached',\n",
       "       'topfloor,flat,low-rise(1-3)', 'acreage', 'flat,attached',\n",
       "       'topfloor,flat,full,unitabove,penthouse', 'mid-rise(4-8),endunit',\n",
       "       '1level,flat,low-rise(1-3),unitabove', 'mid-rise(4-8)',\n",
       "       'topfloor,2level,semi-attached', 'residentiallot', 'ranch',\n",
       "       'luxury,2level', 'mfd-f', 'luxury,mid-rise(4-8)',\n",
       "       '2story,full,attached', '2level,detached', '3level,live/work',\n",
       "       'full,semi-attached', 'newconstruction,low-rise(1-3)',\n",
       "       'hi-rise(9+)', 'triplex', '2story', 'residential',\n",
       "       'low-rise(1-3),full,unitabove', 'mid-rise(4-8),topfloor,unitbelow',\n",
       "       'doublewide', 'unitbelow,2level,detached', 'manufacturedhome',\n",
       "       '3story,duplex', '1level,low-rise(1-3),unitabove',\n",
       "       'detached,2story',\n",
       "       '1level,mid-rise(4-8),unitbelow,endunit,unitabove', 'flats,duplex',\n",
       "       'agricultural',\n",
       "       'luxury,mid-rise(4-8),townhouse,endunit,unitabove,3level,attached,groundfloor,live/work',\n",
       "       'junior', 'hi-rise(9+),luxury', 'condominium', '1story', '4story',\n",
       "       'mid-rise(4-8),unitbelow,2level,unitabove', 'luxury,low-rise(1-3)',\n",
       "       'topfloor', 'flats,3story', 'unitbelow,flat,unitabove',\n",
       "       'residentialincome', '2+residences', '31', '2story,fixerupper',\n",
       "       'hi-rise(9+),unitabove', 'detached,4+story', 'manufacturedonland',\n",
       "       'hi-rise(9+),luxury,flat,endunit',\n",
       "       'luxury,newconstruction,mid-rise(4-8)',\n",
       "       '1level,low-rise(1-3),unitabove,groundfloor', '1level,topfloor',\n",
       "       'splitlevel', '2level', 'luxury,topfloor,low-rise(1-3),detached',\n",
       "       'attached', 'flats,3story,triplex', 'rurlres,recreat,multi',\n",
       "       'luxury,newconstruction,mid-rise(4-8),topfloor,townhouse,2level,penthouse',\n",
       "       'detached,3story', 'recreational', 'single',\n",
       "       '1level,unitabove,groundfloor', '2story,splitlevel,semi-attached',\n",
       "       'mid-rise(4-8),topfloor,2level',\n",
       "       '1level,luxury,low-rise(1-3),endunit', 'fourplex',\n",
       "       'topfloor,low-rise(1-3)', 'rurlres,recreat',\n",
       "       '1level,topfloor,low-rise(1-3)', 'other',\n",
       "       '1level,topfloor,unitbelow,low-rise(1-3),full', 'flat',\n",
       "       'topfloor,studio', 'detached,full', '1level,flat,low-rise(1-3)',\n",
       "       'landw/structure', 'luxury,townhouse,low-rise(1-3),penthouse',\n",
       "       '2level,live/work', '3story,triplex', 'townhouse,low-rise(1-3)',\n",
       "       '2story,full', 'mobilehome',\n",
       "       '1level,luxury,newconstruction,topfloor,penthouse',\n",
       "       'flat,low-rise(1-3)', 'flat,unitabove', 'apartments',\n",
       "       'low-rise(1-3),live/work', 'flat,low-rise(1-3),unitabove',\n",
       "       'topfloor,unitbelow,2level,low-rise(1-3)', 'luxury,townhouse',\n",
       "       'luxury,unitbelow,low-rise(1-3)',\n",
       "       'newconstruction,mid-rise(4-8),unitabove,4+level',\n",
       "       'luxury,topfloor,low-rise(1-3)', 'luxury', 'flats,3story,duplex',\n",
       "       '1level,unitbelow,flat,low-rise(1-3),unitabove,attached',\n",
       "       'penthouse', '1level,low-rise(1-3),groundfloor,semi-attached',\n",
       "       'studio', 'single,agri/lv', 'detached,1story',\n",
       "       '3story,duplex,house&apartments,townhouses', 'onetofiveacres'],\n",
       "      dtype=object)"
      ]
     },
     "execution_count": 19,
     "metadata": {},
     "output_type": "execute_result"
    }
   ],
   "source": [
    "train[\"Type\"].str.lower().str.replace(\" \", \"\").unique()\n",
    "# singlefamily\n",
    "# condo, duplex, triplex, multifamily\n",
    "# new\n",
    "# apartment\n",
    "# luxury, penthouse, rise\n",
    "# vacant"
   ]
  },
  {
   "cell_type": "code",
   "execution_count": 20,
   "id": "b0e5a69d",
   "metadata": {},
   "outputs": [
    {
     "data": {
      "text/plain": [
       "singlefamily                            24635\n",
       "condo                                    6630\n",
       "townhouse                                2040\n",
       "unknown                                  1291\n",
       "multifamily                               987\n",
       "mobilemanufactured                        801\n",
       "vacantland                                606\n",
       "apartment                                 149\n",
       "cooperative                                34\n",
       "mfd-f                                      20\n",
       "residentiallot                             16\n",
       "2story                                     15\n",
       "acreage                                    12\n",
       "duplex                                     11\n",
       "3story                                      9\n",
       "manufacturedhome                            7\n",
       "3story,duplex                               7\n",
       "31                                          7\n",
       "mid-rise(4-8)                               6\n",
       "topfloor                                    6\n",
       "hi-rise(9+)                                 6\n",
       "detached,2story                             5\n",
       "residential                                 5\n",
       "luxury,2level                               5\n",
       "1story                                      4\n",
       "junior                                      3\n",
       "rurlres,recreat                             3\n",
       "flats,duplex                                3\n",
       "1level,topfloor                             3\n",
       "luxury,newconstruction,mid-rise(4-8)        2\n",
       "2story,full                                 2\n",
       "hi-rise(9+),luxury                          2\n",
       "1level,low-rise(1-3),unitabove              2\n",
       "2level                                      2\n",
       "fourplex                                    2\n",
       "doublewide                                  2\n",
       "3story,triplex                              2\n",
       "flats,3story                                2\n",
       "detached,3story                             2\n",
       "apartments                                  2\n",
       "3level,live/work                            2\n",
       "2story,duplex                               2\n",
       "4+story                                     2\n",
       "topfloor,2level                             2\n",
       "ranch                                       2\n",
       "1level,luxury,low-rise(1-3),endunit         1\n",
       "mid-rise(4-8),topfloor,2level               1\n",
       "2story,splitlevel,semi-attached             1\n",
       "topfloor,low-rise(1-3)                      1\n",
       "1level,unitabove,groundfloor                1\n",
       "Name: Type, dtype: int64"
      ]
     },
     "execution_count": 20,
     "metadata": {},
     "output_type": "execute_result"
    }
   ],
   "source": [
    "train[\"Type\"].str.lower().str.replace(\" \", \"\").value_counts().head(50)"
   ]
  },
  {
   "cell_type": "code",
   "execution_count": 21,
   "id": "d3301886",
   "metadata": {},
   "outputs": [
    {
     "name": "stderr",
     "output_type": "stream",
     "text": [
      "/opt/anaconda3/envs/kaggle_soa_22/lib/python3.7/site-packages/ipykernel_launcher.py:1: FutureWarning: Dropping of nuisance columns in DataFrame reductions (with 'numeric_only=None') is deprecated; in a future version this will raise TypeError.  Select only valid columns before calling the reduction.\n",
      "  \"\"\"Entry point for launching an IPython kernel.\n"
     ]
    },
    {
     "data": {
      "text/plain": [
       "1042000.0"
      ]
     },
     "execution_count": 21,
     "metadata": {},
     "output_type": "execute_result"
    }
   ],
   "source": [
    "train.median()[\"Sold Price\"]"
   ]
  },
  {
   "cell_type": "markdown",
   "id": "82bef8fd",
   "metadata": {},
   "source": [
    "Impute missing values for certain numeric variables"
   ]
  },
  {
   "cell_type": "markdown",
   "id": "84d78dc2",
   "metadata": {},
   "source": [
    "## Last Sold"
   ]
  },
  {
   "cell_type": "code",
   "execution_count": 22,
   "id": "fe4ffd2a",
   "metadata": {},
   "outputs": [
    {
     "data": {
      "text/plain": [
       "0        12/28/2018\n",
       "1          1/1/2021\n",
       "2          1/1/2021\n",
       "3          1/1/2021\n",
       "4          1/1/2021\n",
       "            ...    \n",
       "37434    12/28/2012\n",
       "37435     4/30/1999\n",
       "37436     9/16/1998\n",
       "37437      1/1/2021\n",
       "37438      8/7/2003\n",
       "Name: Last Sold On, Length: 37439, dtype: object"
      ]
     },
     "execution_count": 22,
     "metadata": {},
     "output_type": "execute_result"
    }
   ],
   "source": [
    "train[\"Last Sold On\"].fillna(\"1/1/2021\")"
   ]
  },
  {
   "cell_type": "code",
   "execution_count": 23,
   "id": "5136b975",
   "metadata": {},
   "outputs": [
    {
     "data": {
      "text/plain": [
       "0         735\n",
       "1           0\n",
       "2           0\n",
       "3           0\n",
       "4           0\n",
       "         ... \n",
       "37434    2926\n",
       "37435    7917\n",
       "37436    8143\n",
       "37437       0\n",
       "37438    6357\n",
       "Name: Last Sold On, Length: 37439, dtype: int64"
      ]
     },
     "execution_count": 23,
     "metadata": {},
     "output_type": "execute_result"
    }
   ],
   "source": [
    "asdf = (pd.to_datetime(\"1/1/2021\") - pd.to_datetime(train[\"Last Sold On\"].fillna(\"1/1/2021\"))).dt.days\n",
    "asdf"
   ]
  },
  {
   "cell_type": "code",
   "execution_count": 24,
   "id": "692d0e20",
   "metadata": {
    "scrolled": false
   },
   "outputs": [
    {
     "data": {
      "text/plain": [
       "Timedelta('18627 days 23:59:59.999982645')"
      ]
     },
     "execution_count": 24,
     "metadata": {},
     "output_type": "execute_result"
    }
   ],
   "source": [
    "np.min(pd.to_datetime(\"1/1/2021\") - pd.to_datetime(asdf))"
   ]
  },
  {
   "cell_type": "markdown",
   "id": "e3667805",
   "metadata": {},
   "source": [
    "## Flooring"
   ]
  },
  {
   "cell_type": "code",
   "execution_count": 25,
   "id": "325cc652",
   "metadata": {
    "scrolled": true
   },
   "outputs": [
    {
     "data": {
      "text/plain": [
       "tile                      13522\n",
       "carpet                    11949\n",
       "wood                       9414\n",
       "hardwood                   8556\n",
       "laminate                   6338\n",
       "vinyl/linoleum             1862\n",
       "linoleum/vinyl             1052\n",
       "stone                       774\n",
       "other                       770\n",
       "vinyl                       769\n",
       "marble                      478\n",
       "concrete                    405\n",
       "ceramictile                 272\n",
       "travertine                  237\n",
       "linoleum                    232\n",
       "slate                       219\n",
       "bamboo                      212\n",
       "simulatedwood               204\n",
       "seeremarks                  110\n",
       "parquet                      74\n",
       "carpeted                     73\n",
       "granite                      71\n",
       "engineeredwood               64\n",
       "mixed                        62\n",
       "hardwoodflrsthroughout       61\n",
       "other-rmks                   42\n",
       "mexicantile                  33\n",
       "softwood                     32\n",
       "cement                       19\n",
       "brick                        17\n",
       "cork                         12\n",
       "naturalstone                  9\n",
       "wood/woodlike                 9\n",
       "stonetile                     7\n",
       "unfinished                    7\n",
       "varies                        6\n",
       "laminated                     6\n",
       "other-attch                   6\n",
       "combination                   6\n",
       "sustainablematerials          5\n",
       "Name: Flooring, dtype: int64"
      ]
     },
     "execution_count": 25,
     "metadata": {},
     "output_type": "execute_result"
    }
   ],
   "source": [
    "train[\"Flooring\"].str.lower().str.replace(\" \", \"\").str.split(\",\").explode().value_counts().head(40)"
   ]
  },
  {
   "cell_type": "markdown",
   "id": "fd81bb50",
   "metadata": {},
   "source": [
    "## Bedrooms"
   ]
  },
  {
   "cell_type": "code",
   "execution_count": 26,
   "id": "7dfde4d0",
   "metadata": {},
   "outputs": [
    {
     "data": {
      "text/plain": [
       "array(['5', '2', '4', 'Walk-in Closet', nan,\n",
       "       'Ground Floor Bedroom, Master Bedroom on Ground Floor, More than One Bedroom on Ground Floor',\n",
       "       '3',\n",
       "       'Ground Floor Bedroom, Master Suite / Retreat, More than One Bedroom on Ground Floor, Walk-in Closet',\n",
       "       '0',\n",
       "       'Ground Floor Bedroom, Master Bedroom on Ground Floor, More than One Bedroom on Ground Floor, Walk-in Closet',\n",
       "       '1', 'Walk-in Closet, Master Suite / Retreate - 2+',\n",
       "       'Ground Floor Bedroom, Walk-in Closet, More than One Master Bedroom on Ground Floor',\n",
       "       '6', 'Loft Bedroom', 'Master Bedroom on Ground Floor',\n",
       "       'Master Suite / Retreat',\n",
       "       'Ground Floor Bedroom, Master Suite / Retreat',\n",
       "       'Master Bedroom on Ground Floor, Master Suite / Retreat',\n",
       "       'Master Suite / Retreat, Walk-in Closet',\n",
       "       'More than One Bedroom on Ground Floor, Master Suite / Retreate - 2+, More than One Master Bedroom on Ground Floor',\n",
       "       '7',\n",
       "       'Ground Floor Bedroom, Walk-in Closet, Master Suite / Retreate - 2+',\n",
       "       'Ground Floor Bedroom',\n",
       "       'Ground Floor Bedroom, Master Suite / Retreat, Walk-in Closet',\n",
       "       'Ground Floor Bedroom, Walk-in Closet',\n",
       "       'Walk-in Closet, More than One Master Bedroom',\n",
       "       'Master Bedroom on Ground Floor, More than One Bedroom on Ground Floor',\n",
       "       'Ground Floor Bedroom, More than One Bedroom on Ground Floor',\n",
       "       'Ground Floor Bedroom, Master Suite / Retreat, Walk-in Closet, More than One Master Bedroom on Ground Floor',\n",
       "       'Master Bedroom on Ground Floor, Walk-in Closet',\n",
       "       'Master Suite / Retreat, Walk-in Closet, More than One Master Bedroom, Master Suite / Retreate - 2+',\n",
       "       'Ground Floor Bedroom, Master Bedroom on Ground Floor, Master Suite / Retreat, Walk-in Closet',\n",
       "       'More than One Master Bedroom',\n",
       "       'Master Bedroom on Ground Floor, More than One Bedroom on Ground Floor, Walk-in Closet, Master Suite / Retreate - 2+, More than One Master Bedroom on Ground Floor',\n",
       "       'Ground Floor Bedroom, Master Bedroom on Ground Floor, Master Suite / Retreat, More than One Bedroom on Ground Floor',\n",
       "       'Ground Floor Bedroom, Master Bedroom on Ground Floor, Master Suite / Retreat, Walk-in Closet, More than One Master Bedroom',\n",
       "       'More than One Bedroom on Ground Floor',\n",
       "       'Master Suite / Retreat, More than One Bedroom on Ground Floor, Walk-in Closet',\n",
       "       'Ground Floor Bedroom, Master Bedroom on Ground Floor, Walk-in Closet',\n",
       "       'Master Bedroom on Ground Floor, More than One Bedroom on Ground Floor, Walk-in Closet',\n",
       "       'Walk-in Closet, More than One Master Bedroom, Master Suite / Retreate - 2+',\n",
       "       'Master Bedroom on Ground Floor, Master Suite / Retreat, More than One Bedroom on Ground Floor, Walk-in Closet',\n",
       "       'Ground Floor Bedroom, Master Bedroom on Ground Floor',\n",
       "       'Ground Floor Bedroom, More than One Bedroom on Ground Floor, More than One Master Bedroom',\n",
       "       'Ground Floor Bedroom, Master Bedroom on Ground Floor, Master Suite / Retreat, More than One Bedroom on Ground Floor, Walk-in Closet',\n",
       "       'Master Suite / Retreat, More than One Master Bedroom',\n",
       "       'Loft Bedroom, Master Suite / Retreat',\n",
       "       'Master Bedroom on Ground Floor, Master Suite / Retreat, Walk-in Closet, More than One Master Bedroom on Ground Floor',\n",
       "       'Master Bedroom on Ground Floor, Master Suite / Retreat, Walk-in Closet, More than One Master Bedroom',\n",
       "       'Loft Bedroom, Master Suite / Retreat, Walk-in Closet',\n",
       "       'Master Bedroom on Ground Floor, More than One Master Bedroom',\n",
       "       'Ground Floor Bedroom, Master Suite / Retreat, More than One Bedroom on Ground Floor, Walk-in Closet, Reverse Floor Plan',\n",
       "       '9',\n",
       "       'Inverted Floor Plan, Master Bedroom on Ground Floor, Master Suite / Retreat',\n",
       "       'Ground Floor Bedroom, More than One Master Bedroom',\n",
       "       'Ground Floor Bedroom, Master Suite / Retreat, More than One Bedroom on Ground Floor, Walk-in Closet, More than One Master Bedroom, Master Suite / Retreate - 2+, More than One Master Bedroom on Ground Floor',\n",
       "       'Master Bedroom on Ground Floor, Master Suite / Retreat, Walk-in Closet',\n",
       "       'Master Bedroom on Ground Floor, More than One Master Bedroom on Ground Floor',\n",
       "       'More than One Master Bedroom, Master Suite / Retreate - 2+',\n",
       "       'Master Suite / Retreate - 2+',\n",
       "       'Ground Floor Bedroom, Master Bedroom on Ground Floor, More than One Bedroom on Ground Floor, Walk-in Closet, More than One Master Bedroom, Master Suite / Retreate - 2+',\n",
       "       '11',\n",
       "       'Master Bedroom on Ground Floor, Master Suite / Retreat, More than One Bedroom on Ground Floor, Master Suite / Retreate - 2+, More than One Master Bedroom on Ground Floor',\n",
       "       'Master Bedroom on Ground Floor, More than One Master Bedroom, Master Suite / Retreate - 2+',\n",
       "       'Ground Floor Bedroom, Master Suite / Retreat, More than One Bedroom on Ground Floor',\n",
       "       'Inverted Floor Plan, Walk-in Closet, Reverse Floor Plan', '8',\n",
       "       'Ground Floor Bedroom, More than One Bedroom on Ground Floor, Walk-in Closet',\n",
       "       'Ground Floor Bedroom, Master Bedroom on Ground Floor, Master Suite / Retreat',\n",
       "       'Master Bedroom on Ground Floor, Walk-in Closet, Master Suite / Retreate - 2+',\n",
       "       'Ground Floor Bedroom, Master Bedroom on Ground Floor, More than One Bedroom on Ground Floor, Walk-in Closet, Reverse Floor Plan',\n",
       "       'Loft Bedroom, Walk-in Closet',\n",
       "       'Master Bedroom on Ground Floor, Walk-in Closet, More than One Master Bedroom',\n",
       "       'Ground Floor Bedroom, Master Bedroom on Ground Floor, Walk-in Closet, More than One Master Bedroom, Master Suite / Retreate - 2+',\n",
       "       'Loft Bedroom, Master Bedroom on Ground Floor, More than One Bedroom on Ground Floor, Walk-in Closet',\n",
       "       'Ground Floor Bedroom, More than One Bedroom on Ground Floor, Walk-in Closet, Master Suite / Retreate - 2+',\n",
       "       'Master Bedroom on Ground Floor, Master Suite / Retreat, More than One Bedroom on Ground Floor',\n",
       "       'More than One Bedroom on Ground Floor, Walk-in Closet, Reverse Floor Plan',\n",
       "       '24',\n",
       "       'Inverted Floor Plan, Master Suite / Retreat, More than One Bedroom on Ground Floor',\n",
       "       'Inverted Floor Plan',\n",
       "       'Master Bedroom on Ground Floor, More than One Bedroom on Ground Floor, Master Suite / Retreate - 2+',\n",
       "       'Ground Floor Bedroom, Master Bedroom on Ground Floor, Master Suite / Retreat, More than One Master Bedroom',\n",
       "       'Ground Floor Bedroom, Master Bedroom on Ground Floor, Walk-in Closet, More than One Master Bedroom',\n",
       "       'Ground Floor Bedroom, Master Suite / Retreate - 2+',\n",
       "       'Master Bedroom on Ground Floor, Walk-in Closet, More than One Master Bedroom on Ground Floor',\n",
       "       '14', 'Ground Floor Bedroom, Loft Bedroom, Walk-in Closet',\n",
       "       'Master Bedroom on Ground Floor, More than One Bedroom on Ground Floor, More than One Master Bedroom',\n",
       "       'Master Bedroom on Ground Floor, Walk-in Closet, More than One Master Bedroom, More than One Master Bedroom on Ground Floor',\n",
       "       'Ground Floor Bedroom, More than One Bedroom on Ground Floor, Walk-in Closet, Reverse Floor Plan',\n",
       "       'Ground Floor Bedroom, Master Bedroom on Ground Floor, Walk-in Closet, Master Suite / Retreate - 2+',\n",
       "       'Reverse Floor Plan',\n",
       "       'Master Bedroom on Ground Floor, More than One Bedroom on Ground Floor, Walk-in Closet, More than One Master Bedroom, More than One Master Bedroom on Ground Floor',\n",
       "       'Master Bedroom on Ground Floor, Master Suite / Retreat, More than One Master Bedroom, Master Suite / Retreate - 2+',\n",
       "       'Ground Floor Bedroom, Master Bedroom on Ground Floor, More than One Bedroom on Ground Floor, Reverse Floor Plan',\n",
       "       '10',\n",
       "       'Loft Bedroom, More than One Bedroom on Ground Floor, Master Suite / Retreate - 2+',\n",
       "       'More than One Bedroom on Ground Floor, Walk-in Closet, More than One Master Bedroom',\n",
       "       'Master Suite / Retreat, More than One Bedroom on Ground Floor',\n",
       "       'Master Suite / Retreat, Walk-in Closet, More than One Master Bedroom',\n",
       "       'Master Suite / Retreat, Reverse Floor Plan',\n",
       "       'Ground Floor Bedroom, Master Bedroom on Ground Floor, Master Suite / Retreat, Walk-in Closet, More than One Master Bedroom on Ground Floor',\n",
       "       'Ground Floor Bedroom, Master Bedroom on Ground Floor, Master Suite / Retreat, More than One Bedroom on Ground Floor, Walk-in Closet, More than One Master Bedroom, Master Suite / Retreate - 2+',\n",
       "       'Ground Floor Bedroom, Loft Bedroom, More than One Bedroom on Ground Floor, Walk-in Closet',\n",
       "       'Walk-in Closet, More than One Master Bedroom, Master Suite / Retreate - 2+, Reverse Floor Plan',\n",
       "       'Ground Floor Bedroom, Walk-in Closet, More than One Master Bedroom, Master Suite / Retreate - 2+',\n",
       "       'Master Bedroom on Ground Floor, Master Suite / Retreat, Walk-in Closet, More than One Master Bedroom, Master Suite / Retreate - 2+',\n",
       "       'Ground Floor Bedroom, Loft Bedroom',\n",
       "       'Loft Bedroom, Master Bedroom on Ground Floor',\n",
       "       'More than One Bedroom on Ground Floor, More than One Master Bedroom on Ground Floor',\n",
       "       'Ground Floor Bedroom, Inverted Floor Plan, Master Suite / Retreat, Master Suite / Retreate - 2+, Reverse Floor Plan',\n",
       "       '22',\n",
       "       'Master Bedroom on Ground Floor, More than One Bedroom on Ground Floor, Walk-in Closet, More than One Master Bedroom, Master Suite / Retreate - 2+',\n",
       "       '16',\n",
       "       'Ground Floor Bedroom, Master Suite / Retreat, Walk-in Closet, Master Suite / Retreate - 2+',\n",
       "       'Ground Floor Bedroom, Master Bedroom on Ground Floor, More than One Bedroom on Ground Floor, More than One Master Bedroom, Master Suite / Retreate - 2+, More than One Master Bedroom on Ground Floor',\n",
       "       'Ground Floor Bedroom, More than One Master Bedroom on Ground Floor',\n",
       "       'Ground Floor Bedroom, Walk-in Closet, More than One Master Bedroom',\n",
       "       'More than One Bedroom on Ground Floor, Walk-in Closet, More than One Master Bedroom, Master Suite / Retreate - 2+, More than One Master Bedroom on Ground Floor',\n",
       "       'Master Bedroom on Ground Floor, Master Suite / Retreat, More than One Master Bedroom on Ground Floor',\n",
       "       'Ground Floor Bedroom, Master Bedroom on Ground Floor, More than One Bedroom on Ground Floor, Walk-in Closet, Master Suite / Retreate - 2+',\n",
       "       'More than One Bedroom on Ground Floor, Walk-in Closet, Master Suite / Retreate - 2+',\n",
       "       'More than One Bedroom on Ground Floor, Walk-in Closet',\n",
       "       'Ground Floor Bedroom, Master Bedroom on Ground Floor, Walk-in Closet, Master Suite / Retreate - 2+, More than One Master Bedroom on Ground Floor',\n",
       "       'Walk-in Closet, More than One Master Bedroom on Ground Floor',\n",
       "       'Ground Floor Bedroom, Master Bedroom on Ground Floor, Master Suite / Retreat, More than One Bedroom on Ground Floor, More than One Master Bedroom, Master Suite / Retreate - 2+, More than One Master Bedroom on Ground Floor',\n",
       "       'Ground Floor Bedroom, Loft Bedroom, Master Bedroom on Ground Floor, More than One Bedroom on Ground Floor, Walk-in Closet',\n",
       "       'Ground Floor Bedroom, Reverse Floor Plan',\n",
       "       'Loft Bedroom, Walk-in Closet, More than One Master Bedroom',\n",
       "       'Ground Floor Bedroom, Master Bedroom on Ground Floor, More than One Bedroom on Ground Floor, More than One Master Bedroom',\n",
       "       'Ground Floor Bedroom, Master Suite / Retreat, Walk-in Closet, More than One Master Bedroom',\n",
       "       '15',\n",
       "       'Ground Floor Bedroom, Master Bedroom on Ground Floor, Master Suite / Retreate - 2+',\n",
       "       'Ground Floor Bedroom, Loft Bedroom, Master Suite / Retreat, More than One Bedroom on Ground Floor, Walk-in Closet',\n",
       "       'Master Bedroom on Ground Floor, More than One Bedroom on Ground Floor, More than One Master Bedroom on Ground Floor',\n",
       "       '18',\n",
       "       'Ground Floor Bedroom, More than One Bedroom on Ground Floor, Walk-in Closet, More than One Master Bedroom',\n",
       "       'Master Suite / Retreat, More than One Master Bedroom, Master Suite / Retreate - 2+',\n",
       "       'Ground Floor Bedroom, More than One Bedroom on Ground Floor, Walk-in Closet, More than One Master Bedroom, Master Suite / Retreate - 2+',\n",
       "       'Walk-in Closet, Reverse Floor Plan',\n",
       "       'More than One Master Bedroom, More than One Master Bedroom on Ground Floor',\n",
       "       'Master Suite / Retreat, More than One Bedroom on Ground Floor, Walk-in Closet, More than One Master Bedroom',\n",
       "       'Ground Floor Bedroom, Master Bedroom on Ground Floor, Walk-in Closet, More than One Master Bedroom on Ground Floor',\n",
       "       'Master Bedroom on Ground Floor, Master Suite / Retreat, More than One Master Bedroom',\n",
       "       'Inverted Floor Plan, More than One Bedroom on Ground Floor',\n",
       "       'Master Bedroom on Ground Floor, Master Suite / Retreat, More than One Bedroom on Ground Floor, Walk-in Closet, More than One Master Bedroom',\n",
       "       'Loft Bedroom, Master Suite / Retreat, More than One Bedroom on Ground Floor, Walk-in Closet',\n",
       "       'More than One Bedroom on Ground Floor, More than One Master Bedroom',\n",
       "       'Ground Floor Bedroom, Master Bedroom on Ground Floor, More than One Master Bedroom, More than One Master Bedroom on Ground Floor',\n",
       "       'Ground Floor Bedroom, Loft Bedroom, Master Bedroom on Ground Floor, Master Suite / Retreat, More than One Bedroom on Ground Floor, Walk-in Closet, Master Suite / Retreate - 2+, More than One Master Bedroom on Ground Floor',\n",
       "       'Loft Bedroom, Master Bedroom on Ground Floor, More than One Bedroom on Ground Floor',\n",
       "       'Ground Floor Bedroom, Walk-in Closet, More than One Master Bedroom, Reverse Floor Plan',\n",
       "       '12',\n",
       "       'Ground Floor Bedroom, More than One Master Bedroom, Master Suite / Retreate - 2+',\n",
       "       'More than One Master Bedroom on Ground Floor',\n",
       "       'Walk-in Closet, Master Suite / Retreate - 2+, More than One Master Bedroom on Ground Floor',\n",
       "       'Ground Floor Bedroom, Master Bedroom on Ground Floor, Master Suite / Retreat, More than One Bedroom on Ground Floor, Walk-in Closet, More than One Master Bedroom, More than One Master Bedroom on Ground Floor',\n",
       "       'Ground Floor Bedroom, Master Bedroom on Ground Floor, More than One Bedroom on Ground Floor, Master Suite / Retreate - 2+',\n",
       "       'Ground Floor Bedroom, Inverted Floor Plan, Master Bedroom on Ground Floor, Walk-in Closet, More than One Master Bedroom, Master Suite / Retreate - 2+',\n",
       "       'More than One Bedroom on Ground Floor, Walk-in Closet, More than One Master Bedroom, Master Suite / Retreate - 2+',\n",
       "       'Ground Floor Bedroom, Master Suite / Retreat, More than One Bedroom on Ground Floor, Walk-in Closet, Master Suite / Retreate - 2+',\n",
       "       'More than One Bedroom on Ground Floor, Reverse Floor Plan',\n",
       "       'Ground Floor Bedroom, More than One Bedroom on Ground Floor, Reverse Floor Plan',\n",
       "       'Master Bedroom on Ground Floor, More than One Bedroom on Ground Floor, Walk-in Closet, More than One Master Bedroom',\n",
       "       'Ground Floor Bedroom, Inverted Floor Plan, Master Bedroom on Ground Floor, Master Suite / Retreat, Walk-in Closet',\n",
       "       'Loft Bedroom, More than One Bedroom on Ground Floor, Walk-in Closet, Master Suite / Retreate - 2+, More than One Master Bedroom on Ground Floor',\n",
       "       'Ground Floor Bedroom, Master Bedroom on Ground Floor, More than One Master Bedroom on Ground Floor',\n",
       "       'Ground Floor Bedroom, Master Bedroom on Ground Floor, More than One Master Bedroom',\n",
       "       'Master Bedroom on Ground Floor, Master Suite / Retreat, Reverse Floor Plan',\n",
       "       'Ground Floor Bedroom, Inverted Floor Plan, Master Bedroom on Ground Floor, More than One Master Bedroom on Ground Floor',\n",
       "       '31',\n",
       "       'Ground Floor Bedroom, Inverted Floor Plan, Master Bedroom on Ground Floor, More than One Bedroom on Ground Floor',\n",
       "       'Ground Floor Bedroom, Master Suite / Retreat, Master Suite / Retreate - 2+',\n",
       "       'Ground Floor Bedroom, Master Bedroom on Ground Floor, Master Suite / Retreat, Walk-in Closet, More than One Master Bedroom, Master Suite / Retreate - 2+',\n",
       "       'Ground Floor Bedroom, Master Bedroom on Ground Floor, Master Suite / Retreat, More than One Bedroom on Ground Floor, Walk-in Closet, More than One Master Bedroom, Master Suite / Retreate - 2+, More than One Master Bedroom on Ground Floor',\n",
       "       '27', '20',\n",
       "       'Master Suite / Retreat, Walk-in Closet, Master Suite / Retreate - 2+',\n",
       "       'Ground Floor Bedroom, Loft Bedroom, More than One Bedroom on Ground Floor',\n",
       "       'Master Bedroom on Ground Floor, Walk-in Closet, More than One Master Bedroom, Master Suite / Retreate - 2+',\n",
       "       'Master Suite / Retreat, More than One Bedroom on Ground Floor, Reverse Floor Plan',\n",
       "       'Master Bedroom on Ground Floor, More than One Bedroom on Ground Floor, Walk-in Closet, Master Suite / Retreate - 2+',\n",
       "       '19', 'Ground Floor Bedroom, Inverted Floor Plan',\n",
       "       'Master Bedroom on Ground Floor, Master Suite / Retreate - 2+',\n",
       "       'Ground Floor Bedroom, Master Bedroom on Ground Floor, More than One Bedroom on Ground Floor, More than One Master Bedroom, More than One Master Bedroom on Ground Floor',\n",
       "       'Walk-in Closet, More than One Master Bedroom, More than One Master Bedroom on Ground Floor',\n",
       "       'Ground Floor Bedroom, Master Bedroom on Ground Floor, More than One Bedroom on Ground Floor, Walk-in Closet, More than One Master Bedroom on Ground Floor',\n",
       "       'Ground Floor Bedroom, Master Bedroom on Ground Floor, Walk-in Closet, More than One Master Bedroom, Master Suite / Retreate - 2+, More than One Master Bedroom on Ground Floor',\n",
       "       'Ground Floor Bedroom, Master Bedroom on Ground Floor, Master Suite / Retreat, Master Suite / Retreate - 2+, More than One Master Bedroom on Ground Floor',\n",
       "       'More than One Master Bedroom, Master Suite / Retreate - 2+, More than One Master Bedroom on Ground Floor',\n",
       "       'Master Bedroom on Ground Floor, More than One Bedroom on Ground Floor, Walk-in Closet, More than One Master Bedroom on Ground Floor',\n",
       "       'Ground Floor Bedroom, Master Bedroom on Ground Floor, Master Suite / Retreat, More than One Bedroom on Ground Floor, Walk-in Closet, More than One Master Bedroom',\n",
       "       'More than One Bedroom on Ground Floor, Master Suite / Retreate - 2+',\n",
       "       'Loft Bedroom, Walk-in Closet, More than One Master Bedroom on Ground Floor',\n",
       "       'Inverted Floor Plan, Master Bedroom on Ground Floor, More than One Bedroom on Ground Floor',\n",
       "       '21',\n",
       "       'Ground Floor Bedroom, Master Bedroom on Ground Floor, More than One Bedroom on Ground Floor, More than One Master Bedroom on Ground Floor',\n",
       "       'Ground Floor Bedroom, Inverted Floor Plan, Master Bedroom on Ground Floor, Walk-in Closet',\n",
       "       'Ground Floor Bedroom, Master Suite / Retreat, More than One Bedroom on Ground Floor, Walk-in Closet, More than One Master Bedroom',\n",
       "       'Master Suite / Retreat, More than One Bedroom on Ground Floor, Walk-in Closet, Reverse Floor Plan',\n",
       "       'Ground Floor Bedroom, Inverted Floor Plan, Master Bedroom on Ground Floor, More than One Bedroom on Ground Floor, Walk-in Closet',\n",
       "       'Ground Floor Bedroom, Loft Bedroom, Master Suite / Retreat, Walk-in Closet',\n",
       "       '26',\n",
       "       'Ground Floor Bedroom, Loft Bedroom, Master Bedroom on Ground Floor, Master Suite / Retreat, Walk-in Closet',\n",
       "       'Master Suite / Retreat, Walk-in Closet, Reverse Floor Plan',\n",
       "       'Ground Floor Bedroom, Master Bedroom on Ground Floor, Master Suite / Retreat, More than One Bedroom on Ground Floor, Walk-in Closet, Master Suite / Retreate - 2+',\n",
       "       'Ground Floor Bedroom, Master Bedroom on Ground Floor, More than One Bedroom on Ground Floor, Walk-in Closet, More than One Master Bedroom',\n",
       "       'Ground Floor Bedroom, Loft Bedroom, More than One Master Bedroom',\n",
       "       'Ground Floor Bedroom, Master Suite / Retreat, More than One Master Bedroom',\n",
       "       'Ground Floor Bedroom, Master Bedroom on Ground Floor, Master Suite / Retreat, Walk-in Closet, More than One Master Bedroom, Master Suite / Retreate - 2+, More than One Master Bedroom on Ground Floor',\n",
       "       'Loft Bedroom, Master Suite / Retreat, More than One Bedroom on Ground Floor',\n",
       "       'Ground Floor Bedroom, Master Bedroom on Ground Floor, Master Suite / Retreat, More than One Bedroom on Ground Floor, More than One Master Bedroom',\n",
       "       'Walk-in Closet, More than One Master Bedroom, Master Suite / Retreate - 2+, More than One Master Bedroom on Ground Floor',\n",
       "       'Loft Bedroom, Master Bedroom on Ground Floor, Master Suite / Retreat, More than One Bedroom on Ground Floor, Walk-in Closet',\n",
       "       'Ground Floor Bedroom, Master Bedroom on Ground Floor, More than One Bedroom on Ground Floor, Walk-in Closet, More than One Master Bedroom, More than One Master Bedroom on Ground Floor',\n",
       "       'Loft Bedroom, Walk-in Closet, Master Suite / Retreate - 2+',\n",
       "       'Ground Floor Bedroom, Master Bedroom on Ground Floor, Master Suite / Retreat, More than One Bedroom on Ground Floor, Walk-in Closet, More than One Master Bedroom on Ground Floor',\n",
       "       'Master Suite / Retreat, More than One Master Bedroom on Ground Floor',\n",
       "       'Master Suite / Retreat, Master Suite / Retreate - 2+',\n",
       "       'Ground Floor Bedroom, Master Suite / Retreat, Walk-in Closet, More than One Master Bedroom, Master Suite / Retreate - 2+',\n",
       "       'Ground Floor Bedroom, Loft Bedroom, Master Bedroom on Ground Floor, Master Suite / Retreat, More than One Bedroom on Ground Floor',\n",
       "       'Ground Floor Bedroom, More than One Bedroom on Ground Floor, More than One Master Bedroom on Ground Floor',\n",
       "       'More than One Bedroom on Ground Floor, Walk-in Closet, More than One Master Bedroom, More than One Master Bedroom on Ground Floor',\n",
       "       'Ground Floor Bedroom, Master Bedroom on Ground Floor, Master Suite / Retreat, Reverse Floor Plan',\n",
       "       'Ground Floor Bedroom, Loft Bedroom, Master Bedroom on Ground Floor, Walk-in Closet, More than One Master Bedroom',\n",
       "       'Ground Floor Bedroom, Loft Bedroom, Master Suite / Retreat',\n",
       "       'Ground Floor Bedroom, Master Bedroom on Ground Floor, More than One Bedroom on Ground Floor, Walk-in Closet, More than One Master Bedroom, Master Suite / Retreate - 2+, More than One Master Bedroom on Ground Floor',\n",
       "       '29',\n",
       "       'Inverted Floor Plan, Loft Bedroom, Master Suite / Retreat, Walk-in Closet',\n",
       "       'Inverted Floor Plan, Master Bedroom on Ground Floor, More than One Bedroom on Ground Floor, More than One Master Bedroom',\n",
       "       'More than One Bedroom on Ground Floor, Walk-in Closet, More than One Master Bedroom on Ground Floor',\n",
       "       'Ground Floor Bedroom, Master Bedroom on Ground Floor, Master Suite / Retreat, Walk-in Closet, Master Suite / Retreate - 2+',\n",
       "       'Master Suite / Retreat, Walk-in Closet, Master Suite / Retreate - 2+, More than One Master Bedroom on Ground Floor',\n",
       "       'Master Bedroom on Ground Floor, Reverse Floor Plan',\n",
       "       'Ground Floor Bedroom, Master Suite / Retreat, More than One Bedroom on Ground Floor, More than One Master Bedroom on Ground Floor',\n",
       "       'Master Suite / Retreat, Walk-in Closet, More than One Master Bedroom on Ground Floor, Reverse Floor Plan',\n",
       "       'Master Bedroom on Ground Floor, More than One Master Bedroom, More than One Master Bedroom on Ground Floor',\n",
       "       'Ground Floor Bedroom, Master Bedroom on Ground Floor, Reverse Floor Plan',\n",
       "       'More than One Bedroom on Ground Floor, Walk-in Closet, Master Suite / Retreate - 2+, More than One Master Bedroom on Ground Floor',\n",
       "       'Ground Floor Bedroom, Inverted Floor Plan, More than One Bedroom on Ground Floor',\n",
       "       'Ground Floor Bedroom, Master Suite / Retreat, More than One Bedroom on Ground Floor, More than One Master Bedroom, Reverse Floor Plan',\n",
       "       'Ground Floor Bedroom, Inverted Floor Plan, More than One Bedroom on Ground Floor, Walk-in Closet',\n",
       "       'Ground Floor Bedroom, Loft Bedroom, Master Bedroom on Ground Floor, Master Suite / Retreat, More than One Bedroom on Ground Floor, Walk-in Closet',\n",
       "       'Ground Floor Bedroom, Master Suite / Retreat, More than One Bedroom on Ground Floor, More than One Master Bedroom',\n",
       "       'Inverted Floor Plan, Master Bedroom on Ground Floor, Master Suite / Retreat, Walk-in Closet',\n",
       "       'Master Suite / Retreat, Walk-in Closet, More than One Master Bedroom, More than One Master Bedroom on Ground Floor',\n",
       "       'Master Suite / Retreate - 2+, More than One Master Bedroom on Ground Floor'],\n",
       "      dtype=object)"
      ]
     },
     "execution_count": 26,
     "metadata": {},
     "output_type": "execute_result"
    }
   ],
   "source": [
    "train[\"Bedrooms\"].unique()"
   ]
  },
  {
   "cell_type": "code",
   "execution_count": null,
   "id": "6aa470e0",
   "metadata": {},
   "outputs": [],
   "source": []
  },
  {
   "cell_type": "markdown",
   "id": "e680f68b",
   "metadata": {},
   "source": [
    "## Tax Value"
   ]
  },
  {
   "cell_type": "code",
   "execution_count": 27,
   "id": "35f109c2",
   "metadata": {
    "scrolled": true
   },
   "outputs": [
    {
     "data": {
      "text/plain": [
       "599767.0"
      ]
     },
     "execution_count": 27,
     "metadata": {},
     "output_type": "execute_result"
    }
   ],
   "source": [
    "train.replace('#DIV/0!', np.NaN)[~train[\"Tax assessed value\"].isna()][\"Tax assessed value\"].astype('float').median()"
   ]
  },
  {
   "cell_type": "code",
   "execution_count": 28,
   "id": "6bd9c91b",
   "metadata": {
    "scrolled": true
   },
   "outputs": [
    {
     "data": {
      "text/plain": [
       "0         349821.0\n",
       "1              0.0\n",
       "2        1718863.0\n",
       "3         997908.0\n",
       "4          77854.0\n",
       "           ...    \n",
       "37434    1807714.0\n",
       "37435     394375.0\n",
       "37436     596851.0\n",
       "37437     188119.0\n",
       "37438    1044984.0\n",
       "Name: Tax assessed value, Length: 37439, dtype: float64"
      ]
     },
     "execution_count": 28,
     "metadata": {},
     "output_type": "execute_result"
    }
   ],
   "source": [
    "train[\"Tax assessed value\"].replace('#DIV/0!', np.NaN).astype('float').fillna(0)"
   ]
  },
  {
   "cell_type": "markdown",
   "id": "1bb7a761",
   "metadata": {},
   "source": [
    "## Appliances"
   ]
  },
  {
   "cell_type": "code",
   "execution_count": 29,
   "id": "b6288d52",
   "metadata": {},
   "outputs": [
    {
     "data": {
      "text/plain": [
       "dishwasher          21144\n",
       "refrigerator        16867\n",
       "microwave           12971\n",
       "washer              12490\n",
       "dryer               12102\n",
       "range/oven          10990\n",
       "garbagedisposal      9734\n",
       "disposal             6048\n",
       "freezer              2484\n",
       "rangehood            2119\n",
       "gasrange             1185\n",
       "trashcompactor       1098\n",
       "gaswaterheater        918\n",
       "gasoven               756\n",
       "gascooktop            713\n",
       "oven                  630\n",
       "range                 546\n",
       "doubleoven            470\n",
       "selfcleaningoven      458\n",
       "barbecue              423\n",
       "Name: Appliances included, dtype: int64"
      ]
     },
     "execution_count": 29,
     "metadata": {},
     "output_type": "execute_result"
    }
   ],
   "source": [
    "train[\"Appliances included\"].str.lower().str.replace(\" \", \"\").str.split(\",\").explode().value_counts().head(20)"
   ]
  },
  {
   "cell_type": "markdown",
   "id": "00f1d81a",
   "metadata": {},
   "source": [
    "## List Date"
   ]
  },
  {
   "cell_type": "code",
   "execution_count": 30,
   "id": "f952b298",
   "metadata": {
    "scrolled": true
   },
   "outputs": [
    {
     "data": {
      "text/plain": [
       "<AxesSubplot:>"
      ]
     },
     "execution_count": 30,
     "metadata": {},
     "output_type": "execute_result"
    },
    {
     "data": {
      "image/png": "[encoded data removed]",
      "text/plain": [
       "<Figure size 432x288 with 1 Axes>"
      ]
     },
     "metadata": {
      "needs_background": "light"
     },
     "output_type": "display_data"
    }
   ],
   "source": [
    "pd.to_datetime(train[\"Listed On\"]).hist()"
   ]
  },
  {
   "cell_type": "code",
   "execution_count": 31,
   "id": "0b9af0ac",
   "metadata": {
    "scrolled": true
   },
   "outputs": [
    {
     "data": {
      "text/plain": [
       "0        2020.583333\n",
       "1        2020.500000\n",
       "2        2020.750000\n",
       "3        2020.500000\n",
       "4        2020.333333\n",
       "            ...     \n",
       "37434    2020.333333\n",
       "37435    2020.333333\n",
       "37436    2020.333333\n",
       "37437    2020.166667\n",
       "37438    2020.083333\n",
       "Name: Listed On, Length: 37439, dtype: float64"
      ]
     },
     "execution_count": 31,
     "metadata": {},
     "output_type": "execute_result"
    }
   ],
   "source": [
    "pd.to_datetime(train[\"Listed On\"]).dt.year + pd.to_datetime(train[\"Listed On\"]).dt.month/12"
   ]
  },
  {
   "cell_type": "markdown",
   "id": "2f23a828",
   "metadata": {},
   "source": [
    "## City"
   ]
  },
  {
   "cell_type": "code",
   "execution_count": 32,
   "id": "ea1d7b83",
   "metadata": {},
   "outputs": [
    {
     "data": {
      "text/plain": [
       "Los Angeles       8799\n",
       "San Jose          5666\n",
       "San Francisco     4202\n",
       "San Mateo          898\n",
       "Santa Clara        896\n",
       "Santa Cruz         708\n",
       "Sunnyvale          691\n",
       "Los Gatos          563\n",
       "Morgan Hill        495\n",
       "Redwood City       481\n",
       "Gilroy             451\n",
       "Compton            449\n",
       "Mountain View      438\n",
       "Palo Alto          425\n",
       "Milpitas           400\n",
       "Aptos              393\n",
       "Los Altos          382\n",
       "Culver City        349\n",
       "West Hollywood     333\n",
       "Watsonville        330\n",
       "Name: City, dtype: int64"
      ]
     },
     "execution_count": 32,
     "metadata": {},
     "output_type": "execute_result"
    }
   ],
   "source": [
    "train[\"City\"].value_counts().head(20)"
   ]
  },
  {
   "cell_type": "markdown",
   "id": "eecc1b33",
   "metadata": {},
   "source": [
    "## Region"
   ]
  },
  {
   "cell_type": "code",
   "execution_count": 33,
   "id": "6467434d",
   "metadata": {
    "scrolled": false
   },
   "outputs": [
    {
     "data": {
      "text/plain": [
       "Los Angeles       8860\n",
       "San Jose          5863\n",
       "San Francisco     4201\n",
       "San Mateo          720\n",
       "Santa Clara        703\n",
       "Santa Cruz         700\n",
       "Sunnyvale          691\n",
       "Los Gatos          522\n",
       "Morgan Hill        495\n",
       "Gilroy             450\n",
       "Compton            441\n",
       "Mountain View      438\n",
       "Milpitas           400\n",
       "Aptos              393\n",
       "Redwood City       377\n",
       "Palo Alto          361\n",
       "West Hollywood     346\n",
       "San Carlos         313\n",
       "Culver City        302\n",
       "Menlo Park         298\n",
       "Name: Region, dtype: int64"
      ]
     },
     "execution_count": 33,
     "metadata": {},
     "output_type": "execute_result"
    }
   ],
   "source": [
    "# basically the same as city so not using it\n",
    "train[\"Region\"].value_counts().head(20)"
   ]
  },
  {
   "cell_type": "markdown",
   "id": "79583fe5",
   "metadata": {},
   "source": [
    "## Type"
   ]
  },
  {
   "cell_type": "code",
   "execution_count": 34,
   "id": "1c4746ff",
   "metadata": {},
   "outputs": [
    {
     "data": {
      "text/plain": [
       "singlefamily          24635\n",
       "condo                  6630\n",
       "townhouse              2040\n",
       "unknown                1291\n",
       "multifamily             987\n",
       "mobilemanufactured      801\n",
       "vacantland              606\n",
       "apartment               149\n",
       "cooperative              34\n",
       "mfd-f                    20\n",
       "residentiallot           16\n",
       "2story                   15\n",
       "acreage                  12\n",
       "duplex                   11\n",
       "3story                    9\n",
       "manufacturedhome          7\n",
       "3story,duplex             7\n",
       "31                        7\n",
       "mid-rise(4-8)             6\n",
       "topfloor                  6\n",
       "Name: Type, dtype: int64"
      ]
     },
     "execution_count": 34,
     "metadata": {},
     "output_type": "execute_result"
    }
   ],
   "source": [
    "train[\"Type\"].str.lower().str.replace(\" \", \"\").value_counts().head(20)"
   ]
  },
  {
   "cell_type": "markdown",
   "id": "73490e88",
   "metadata": {},
   "source": [
    "## Laundry"
   ]
  },
  {
   "cell_type": "code",
   "execution_count": 90,
   "id": "e044fbc4",
   "metadata": {},
   "outputs": [
    {
     "data": {
      "text/plain": [
       "inside                     8245\n",
       "washer/dryer               4837\n",
       "ingarage                   4601\n",
       "laundryroom                2443\n",
       "inutilityroom              2186\n",
       "laundrycloset              1971\n",
       "electricityhookup(220v)    1871\n",
       "insideroom                 1212\n",
       "dryer                      1034\n",
       "washer                     1009\n",
       "gashookup                   985\n",
       "washerhookup                903\n",
       "inunit                      813\n",
       "inkitchen                   797\n",
       "tub/sink                    775\n",
       "gasdryerhookup              722\n",
       "upperfloor                  714\n",
       "hookupsonly                 650\n",
       "community                   619\n",
       "stackable                   519\n",
       "outside                     491\n",
       "electricityhookup(110v)     458\n",
       "seeremarks                  451\n",
       "none                        395\n",
       "gas&electricdryerhookup     351\n",
       "room                        350\n",
       "cabinets                    343\n",
       "upperlevel                  325\n",
       "insidearea                  293\n",
       "commonarea                  275\n",
       "electricdryerhookup         266\n",
       "communityfacility           238\n",
       "inbasement                  204\n",
       "sink                        183\n",
       "other                       168\n",
       "coinoperated                163\n",
       "220voltoutlet               153\n",
       "utilityroom                 125\n",
       "washer/dryerinclud          118\n",
       "gashook-up                  114\n",
       "dryerhookup                  90\n",
       "laundryarea                  86\n",
       "closet                       75\n",
       "propanedryerhookup           72\n",
       "garage                       61\n",
       "individualroom               59\n",
       "incloset                     50\n",
       "inhouse                      50\n",
       "utilitysink                  47\n",
       "other-rmks                   42\n",
       "Name: Laundry features, dtype: int64"
      ]
     },
     "execution_count": 90,
     "metadata": {},
     "output_type": "execute_result"
    }
   ],
   "source": [
    "train[\"Laundry features\"].str.lower().str.replace(\" \", \"\").str.split(\",\").explode().value_counts().head(50)\n",
    "\n"
   ]
  },
  {
   "cell_type": "markdown",
   "id": "dcd3abf2",
   "metadata": {},
   "source": [
    "# Data Pre-Processing"
   ]
  },
  {
   "cell_type": "code",
   "execution_count": 155,
   "id": "ea641db4",
   "metadata": {},
   "outputs": [],
   "source": [
    "# Reread data to ensure we're using accurate data\n",
    "train = pd.read_csv(\"../data/advanced_train.csv\", low_memory = False)\n",
    "test = pd.read_csv(\"../data/advanced_test.csv\", low_memory = False)\n",
    "\n",
    "# Make some manual adjustments to prices to remove outliers\n",
    "train[\"Last Sold Price\"] = np.where((train[\"Last Sold Price\"] / train[\"Sold Price\"] > 10) |\n",
    "                                     (train[\"Last Sold Price\"] / train[\"Sold Price\"] < 0.1),\n",
    "                                     0,\n",
    "                                     train[\"Last Sold Price\"])\n",
    "train[\"Listed Price\"] = np.where((train[\"Listed Price\"] / train[\"Sold Price\"] > 10) |\n",
    "                                  (train[\"Listed Price\"] / train[\"Sold Price\"] < 0.1),\n",
    "                                 0,\n",
    "                                 train[\"Listed Price\"])"
   ]
  },
  {
   "cell_type": "code",
   "execution_count": 156,
   "id": "b3256c28",
   "metadata": {},
   "outputs": [],
   "source": [
    "#imp = IterativeImputer()\n",
    "imp = KNNImputer(n_neighbors = 10)\n",
    "\n",
    "imp_vars = [\"Total interior livable area\", \"Full bathrooms\", \"Bathrooms\",\n",
    "           \"Total spaces\", \"Elementary School Score\", \"Elementary School Distance\", \n",
    "           \"Middle School Score\", \"Middle School Distance\", \"High School Score\",\n",
    "           \"High School Distance\", \"Year built\", \"Garage spaces\"] # , \"Lot\""
   ]
  },
  {
   "cell_type": "code",
   "execution_count": 157,
   "id": "8e18bd04",
   "metadata": {},
   "outputs": [
    {
     "data": {
      "text/plain": [
       "KNNImputer(n_neighbors=10)"
      ]
     },
     "execution_count": 157,
     "metadata": {},
     "output_type": "execute_result"
    }
   ],
   "source": [
    "imp.fit(train[imp_vars])"
   ]
  },
  {
   "cell_type": "code",
   "execution_count": 158,
   "id": "d445f121",
   "metadata": {
    "scrolled": true
   },
   "outputs": [],
   "source": [
    "parking_types_train = train[\"Parking\"].str.lower().str.replace(\" \", \"\").str.split(\",\").explode().value_counts()\n",
    "heating_types_train = train[\"Heating\"].str.lower().str.replace(\" \", \"\").str.split(\",\").explode().value_counts()\n",
    "flooring_types_train = train[\"Flooring\"].str.lower().str.replace(\" \", \"\").str.split(\",\").explode().value_counts()\n",
    "appliance_types_train = train[\"Appliances included\"].str.lower().str.replace(\" \", \"\").str.split(\",\").explode().value_counts()\n",
    "cities_train = train[\"City\"].value_counts().head(200)\n",
    "types_train = train[\"Type\"].str.lower().str.replace(\" \", \"\").value_counts().head(20)\n",
    "laundry_types_train = train[\"Laundry features\"].str.lower().str.replace(\" \", \"\").str.split(\",\").explode().value_counts()\n",
    "\n",
    "\n",
    "train_medians = train.median()\n",
    "test_medians = test.median()\n",
    "\n",
    "def preprocess_data(df, imp, imp_v, meds, ptypes_train, htypes_train, ftypes_train, atypes_train, cities, ttypes_train, ltypes_train):\n",
    "    \n",
    "    df[imp_v] = imp.transform(df[imp_v]) \n",
    "    \n",
    "    df[\"Total interior livable area\"] = df[\"Total interior livable area\"].fillna(meds[\"Total interior livable area\"])\n",
    "    \n",
    "    df[\"Bathrooms\"] = df[\"Bathrooms\"].fillna(meds[\"Bathrooms\"])\n",
    "    \n",
    "    df[\"Total spaces\"] = df[\"Total spaces\"].fillna(meds[\"Total spaces\"])\n",
    "    df[\"Total spaces\"] = np.abs(np.minimum(df[\"Total spaces\"], 30))\n",
    "    \n",
    "    df[\"Elementary School Score\"] = df[\"Elementary School Score\"].fillna(meds[\"Elementary School Score\"])\n",
    "    df[\"Elementry School Distance\"] = df[\"Elementary School Distance\"].fillna(meds[\"Elementary School Distance\"])\n",
    "    \n",
    "    df[\"Middle School Score\"] = df[\"Middle School Score\"].fillna(meds[\"Middle School Score\"])\n",
    "    df[\"Middle School Distance\"] = df[\"Middle School Distance\"].fillna(meds[\"Middle School Distance\"])\n",
    "\n",
    "    df[\"High School Score\"] = df[\"High School Score\"].fillna(meds[\"High School Score\"])\n",
    "    df[\"High School Distance\"] = df[\"High School Distance\"].fillna(meds[\"High School Distance\"])\n",
    "    \n",
    "    df[\"Year built\"] = df[\"Year built\"].fillna(meds[\"Year built\"])\n",
    "    df[\"Year built\"] = np.maximum(df[\"Year built\"], 1870)\n",
    "    df[\"Year built\"] = np.minimum(df[\"Year built\"], 2022)\n",
    "    \n",
    "    df[\"state_ind\"] = df[\"State\"] == \"CA\"\n",
    "    \n",
    "    df[\"Garage spaces\"] = df[\"Garage spaces\"].fillna(meds[\"Garage spaces\"])\n",
    "    df[\"Garage spaces\"] = np.maximum(df[\"Garage spaces\"], 0)\n",
    "    df[\"Garage spaces\"] = np.minimum(df[\"Garage spaces\"], 20)\n",
    "    \n",
    "    \n",
    "    df[\"Full bathrooms\"] = df[\"Full bathrooms\"].fillna(meds[\"Full bathrooms\"])\n",
    "\n",
    "    # Doesn't seem to matter which impute strategy I use\n",
    "    #df[\"l1\"] = df[\"Lot\"].fillna(meds[\"Lot\"])\n",
    "    df[\"l1\"] = df[\"Lot\"].fillna(0)\n",
    "    \n",
    "    df[\"Last Sold Price\"] = df[\"Last Sold Price\"].fillna(0)\n",
    "    df[\"Last Sold Days\"] = (pd.to_datetime(\"1/1/2021\") - pd.to_datetime(df[\"Last Sold On\"].fillna(\"1/1/2021\"))).dt.days\n",
    "    \n",
    "    df[\"Tax assessed value\"] = df[\"Tax assessed value\"].replace('#DIV/0!', np.NaN).astype('float').fillna(0)\n",
    "    \n",
    "    df[\"Listed On\"] = pd.to_datetime(df[\"Listed On\"]).dt.year + (pd.to_datetime(df[\"Listed On\"]).dt.month/12)\n",
    "    \n",
    "    for htype in htypes_train.index:\n",
    "        df[(\"h_\" + htype)] = df[\"Heating\"].str.lower().str.replace(\" \", \"\").str.contains(htype, na=False)\n",
    "    \n",
    "    for ptype in ptypes_train.index:\n",
    "        df[(\"p_\" + ptype)] = df[\"Parking\"].str.lower().str.replace(\" \", \"\").str.contains(ptype, na=False)\n",
    "    \n",
    "    for ftype in ftypes_train.index:\n",
    "        df[(\"f_\" + ftype)] = df[\"Flooring\"].str.lower().str.replace(\" \", \"\").str.contains(ftype, na=False)\n",
    "\n",
    "    for atype in atypes_train.index:\n",
    "        df[(\"a_\" + atype)] = df[\"Appliances included\"].str.lower().str.replace(\" \", \"\").str.contains(atype, na=False)\n",
    "\n",
    "    for city in cities.index:\n",
    "        df[city] = df[\"City\"].str.contains(city, na=False)\n",
    "        \n",
    "    for ttype in ttypes_train.index:\n",
    "        df[(\"t_\" + ttype)] = df[\"Type\"].str.lower().str.replace(\" \", \"\").str.contains(ttype, na=False)\n",
    "    \n",
    "    for ltype in ltypes_train.index:\n",
    "        df[(\"l_\" + ltype)] = df[\"Laundry features\"].str.lower().str.replace(\" \", \"\").str.contains(ltype, na=False)\n",
    "\n",
    "        \n",
    "    df[\"r1\"] = df[\"Listed Price\"] / (df[\"Last Sold Price\"] + 0.1)\n",
    "    df[\"r2\"] = df[\"Last Sold Price\"] / (df[\"Tax assessed value\"] + 0.1)\n",
    "    df[\"r3\"] = df[\"Tax assessed value\"] / (df[\"Listed Price\"] + 0.1)\n",
    "    \n",
    "    return df"
   ]
  },
  {
   "cell_type": "code",
   "execution_count": 159,
   "id": "30638cf0",
   "metadata": {},
   "outputs": [],
   "source": [
    "train_p = preprocess_data(train, imp, imp_vars, train_medians, parking_types_train, \n",
    "                          heating_types_train, flooring_types_train, \n",
    "                          appliance_types_train, cities_train, types_train,\n",
    "                         laundry_types_train)\n"
   ]
  },
  {
   "cell_type": "markdown",
   "id": "04181c10",
   "metadata": {},
   "source": [
    "Determine the target"
   ]
  },
  {
   "cell_type": "code",
   "execution_count": 160,
   "id": "3b49eafd",
   "metadata": {},
   "outputs": [],
   "source": [
    "#y = np.log(train[\"Sold Price\"])\n",
    "y = train[\"Sold Price\"]"
   ]
  },
  {
   "cell_type": "code",
   "execution_count": 131,
   "id": "8be95e32",
   "metadata": {},
   "outputs": [],
   "source": [
    "# Get this feature importance from training a model below with max_features = None. \n",
    "# Then use the top X features in a model with max_features = 'sqrt'\n",
    "feat_imp_orig = feat_importances"
   ]
  },
  {
   "cell_type": "code",
   "execution_count": 161,
   "id": "4c16237b",
   "metadata": {
    "scrolled": true
   },
   "outputs": [],
   "source": [
    "pred_vars = [\"Listed Price\", \"Total interior livable area\", \"Bathrooms\", \n",
    "             \"Year built\", \"High School Score\", \"Garage spaces\", \"state_ind\", \n",
    "            \"Elementary School Score\", \"Full bathrooms\",\n",
    "            \"Total spaces\", \"High School Distance\", \n",
    "            \"l1\", \"Last Sold Price\", \"Last Sold Days\", \"Tax assessed value\", \"Listed On\", \n",
    "            \"r1\", \"r2\", \"r3\"] + list(\"p_\" + parking_types_train.index) + list(\"h_\" + heating_types_train.index) + list(\"f_\" + flooring_types_train.index) + list(\"a_\" + appliance_types_train.index) + list(cities_train.index) + list(\"t_\" + types_train.index) + list(\"l_\" + laundry_types_train.index)\n",
    "\n",
    "#pred_vars = list(feat_imp_orig.nlargest(300).index)\n",
    "# Used top 70/300\n",
    "# Used top 80/360\n",
    "\n",
    "X = train_p[pred_vars]"
   ]
  },
  {
   "cell_type": "code",
   "execution_count": 162,
   "id": "e5d70d7f",
   "metadata": {},
   "outputs": [],
   "source": [
    "X_train, X_test, y_train, y_test = train_test_split(X, y, test_size=0.33, random_state = 56)"
   ]
  },
  {
   "cell_type": "markdown",
   "id": "141fd6e1",
   "metadata": {},
   "source": [
    "# Models"
   ]
  },
  {
   "cell_type": "code",
   "execution_count": 170,
   "id": "8b6c3dd5",
   "metadata": {},
   "outputs": [],
   "source": [
    "params = {\"n_estimators\":500,\n",
    "          \"learning_rate\":0.15,\n",
    "          \"max_depth\":4,\n",
    "          \"random_state\":56,\n",
    "          \"subsample\":1,\n",
    "          'max_features':None, # None or sqrt\n",
    "          \"loss\":'squared_error'}"
   ]
  },
  {
   "cell_type": "code",
   "execution_count": 164,
   "id": "ce971fbc",
   "metadata": {},
   "outputs": [],
   "source": [
    "model = GradientBoostingRegressor(verbose = 1).set_params(**params)"
   ]
  },
  {
   "cell_type": "code",
   "execution_count": 165,
   "id": "8128611f",
   "metadata": {},
   "outputs": [
    {
     "name": "stdout",
     "output_type": "stream",
     "text": [
      "      Iter       Train Loss   Remaining Time \n",
      "         1 2037080541558.4253            5.63m\n",
      "         2 1523514861990.0066            5.42m\n",
      "         3 1148999213852.9905            5.27m\n",
      "         4 876394520594.0720            5.16m\n",
      "         5 676964493403.2783            5.11m\n",
      "         6 531235283944.4434            5.06m\n",
      "         7 424071877379.4232            5.04m\n",
      "         8 345472330891.7288            5.01m\n",
      "         9 287783712207.7830            4.98m\n",
      "        10 243893894126.4969            4.97m\n",
      "        20 105411137272.5000            4.98m\n",
      "        30 72168304803.3675            4.88m\n",
      "        40 61981903962.0088            4.76m\n",
      "        50 54550736449.2237            4.67m\n",
      "        60 50870375424.5832            4.60m\n",
      "        70 47808088921.9248            4.53m\n",
      "        80 44262837381.4532            4.48m\n",
      "        90 42126246868.7621            4.42m\n",
      "       100 40666337518.7585            4.37m\n",
      "       200 28131690757.3839            3.88m\n",
      "       300 21115293858.2377            3.38m\n",
      "       400 17661302945.4483            2.90m\n",
      "       500 15118366979.2217            2.41m\n",
      "       600 13194768390.6563            1.93m\n",
      "       700 11645977962.1944            1.45m\n",
      "       800 10473058618.1528           57.93s\n",
      "       900  9443263392.0930           28.98s\n",
      "      1000  8714586076.6122            0.00s\n"
     ]
    },
    {
     "data": {
      "text/plain": [
       "GradientBoostingRegressor(learning_rate=0.15, max_depth=4, n_estimators=1000,\n",
       "                          random_state=56, subsample=1, verbose=1)"
      ]
     },
     "execution_count": 165,
     "metadata": {},
     "output_type": "execute_result"
    }
   ],
   "source": [
    "model.fit(X_train, y_train)"
   ]
  },
  {
   "cell_type": "code",
   "execution_count": 166,
   "id": "49b7648f",
   "metadata": {
    "scrolled": true
   },
   "outputs": [
    {
     "data": {
      "text/plain": [
       "0.8964810862333433"
      ]
     },
     "execution_count": 166,
     "metadata": {},
     "output_type": "execute_result"
    }
   ],
   "source": [
    "model.score(X_test, y_test)\n",
    "\n",
    "# 0.8979036811661909"
   ]
  },
  {
   "cell_type": "code",
   "execution_count": 167,
   "id": "2ff077db",
   "metadata": {},
   "outputs": [
    {
     "data": {
      "text/plain": [
       "<AxesSubplot:>"
      ]
     },
     "execution_count": 167,
     "metadata": {},
     "output_type": "execute_result"
    },
    {
     "data": {
      "image/png": "[encoded data removed]",
      "text/plain": [
       "<Figure size 432x288 with 1 Axes>"
      ]
     },
     "metadata": {
      "needs_background": "light"
     },
     "output_type": "display_data"
    }
   ],
   "source": [
    "feat_importances = pd.Series(model.feature_importances_, index=model.feature_names_in_)\n",
    "feat_importances.nlargest(30).plot(kind='barh')"
   ]
  },
  {
   "cell_type": "code",
   "execution_count": 169,
   "id": "0895ce6a",
   "metadata": {
    "scrolled": false
   },
   "outputs": [
    {
     "data": {
      "image/png": "[encoded data removed]",
      "text/plain": [
       "<Figure size 432x432 with 1 Axes>"
      ]
     },
     "metadata": {
      "needs_background": "light"
     },
     "output_type": "display_data"
    },
    {
     "name": "stdout",
     "output_type": "stream",
     "text": [
      "519123.612672399\n"
     ]
    }
   ],
   "source": [
    "test_score = np.zeros((params[\"n_estimators\"],), dtype=np.float64)\n",
    "for i, y_pred in enumerate(model.staged_predict(X_test)):\n",
    "    #test_score[i] = model.loss_(y_test, y_pred)   # This is just squared error\n",
    "    test_score[i] = np.sqrt(((y_pred - y_test) ** 2).mean())  # this is RMSE\n",
    "\n",
    "fig = plt.figure(figsize=(6, 6))\n",
    "plt.subplot(1, 1, 1)\n",
    "plt.title(\"Deviance\")\n",
    "plt.plot(\n",
    "    np.arange(params[\"n_estimators\"]) + 1, model.train_score_,\n",
    "    \"b-\", label=\"Training Set Deviance\",\n",
    ")\n",
    "plt.plot(np.arange(params[\"n_estimators\"]) + 1, test_score, \"r-\", label=\"Test Set Deviance\")\n",
    "plt.legend(loc=\"upper right\")\n",
    "plt.xlabel(\"Boosting Iterations\")\n",
    "plt.ylabel(\"Deviance\")\n",
    "#plt.ylim(0.03, 0.06)\n",
    "plt.ylim(5e5, 5.5e5)\n",
    "fig.tight_layout()\n",
    "plt.show()\n",
    "print(np.min(test_score))\n",
    "\n",
    "# 515801.10557718197"
   ]
  },
  {
   "cell_type": "markdown",
   "id": "abded288",
   "metadata": {},
   "source": [
    "# Error Investigation\n",
    "Looking into train examples where the error is really high"
   ]
  },
  {
   "cell_type": "code",
   "execution_count": 143,
   "id": "88ad8a66",
   "metadata": {},
   "outputs": [],
   "source": [
    "errs = y_pred - y_test"
   ]
  },
  {
   "cell_type": "code",
   "execution_count": 144,
   "id": "cba3bdb3",
   "metadata": {},
   "outputs": [],
   "source": [
    "erratio = y_pred / y_test"
   ]
  },
  {
   "cell_type": "code",
   "execution_count": 145,
   "id": "a823ad63",
   "metadata": {
    "scrolled": true
   },
   "outputs": [
    {
     "data": {
      "text/plain": [
       "2523     26.605600\n",
       "4099     17.759083\n",
       "29773     9.926352\n",
       "33304     7.828099\n",
       "11533     7.824335\n",
       "33448     7.336106\n",
       "33035     6.859746\n",
       "18216     6.723972\n",
       "16999     6.037127\n",
       "16989     5.755412\n",
       "33480     5.723426\n",
       "37149     5.704965\n",
       "14600     5.685111\n",
       "35142     5.581364\n",
       "29101     5.448732\n",
       "25998     5.353427\n",
       "22799     5.271661\n",
       "21197     5.185935\n",
       "35946     5.135436\n",
       "16570     5.093125\n",
       "Name: Sold Price, dtype: float64"
      ]
     },
     "execution_count": 145,
     "metadata": {},
     "output_type": "execute_result"
    }
   ],
   "source": [
    "erratio.nlargest(20)"
   ]
  },
  {
   "cell_type": "code",
   "execution_count": 123,
   "id": "8dcea4ea",
   "metadata": {
    "scrolled": true
   },
   "outputs": [
    {
     "data": {
      "text/html": [
       "<div>\n",
       "<style scoped>\n",
       "    .dataframe tbody tr th:only-of-type {\n",
       "        vertical-align: middle;\n",
       "    }\n",
       "\n",
       "    .dataframe tbody tr th {\n",
       "        vertical-align: top;\n",
       "    }\n",
       "\n",
       "    .dataframe thead th {\n",
       "        text-align: right;\n",
       "    }\n",
       "</style>\n",
       "<table border=\"1\" class=\"dataframe\">\n",
       "  <thead>\n",
       "    <tr style=\"text-align: right;\">\n",
       "      <th></th>\n",
       "      <th>Listed Price</th>\n",
       "      <th>Sold Price</th>\n",
       "      <th>Last Sold Price</th>\n",
       "      <th>Last Sold Days</th>\n",
       "    </tr>\n",
       "  </thead>\n",
       "  <tbody>\n",
       "    <tr>\n",
       "      <th>2381</th>\n",
       "      <td>0</td>\n",
       "      <td>133000</td>\n",
       "      <td>0.0</td>\n",
       "      <td>773</td>\n",
       "    </tr>\n",
       "    <tr>\n",
       "      <th>11533</th>\n",
       "      <td>16094000</td>\n",
       "      <td>1726000</td>\n",
       "      <td>0.0</td>\n",
       "      <td>0</td>\n",
       "    </tr>\n",
       "    <tr>\n",
       "      <th>31772</th>\n",
       "      <td>7064000</td>\n",
       "      <td>6082000</td>\n",
       "      <td>5300000.0</td>\n",
       "      <td>2051</td>\n",
       "    </tr>\n",
       "    <tr>\n",
       "      <th>2941</th>\n",
       "      <td>5176888</td>\n",
       "      <td>3344000</td>\n",
       "      <td>0.0</td>\n",
       "      <td>0</td>\n",
       "    </tr>\n",
       "    <tr>\n",
       "      <th>17139</th>\n",
       "      <td>19170000</td>\n",
       "      <td>10935000</td>\n",
       "      <td>6925000.0</td>\n",
       "      <td>563</td>\n",
       "    </tr>\n",
       "    <tr>\n",
       "      <th>...</th>\n",
       "      <td>...</td>\n",
       "      <td>...</td>\n",
       "      <td>...</td>\n",
       "      <td>...</td>\n",
       "    </tr>\n",
       "    <tr>\n",
       "      <th>17470</th>\n",
       "      <td>2335000</td>\n",
       "      <td>1418000</td>\n",
       "      <td>1652100.0</td>\n",
       "      <td>161</td>\n",
       "    </tr>\n",
       "    <tr>\n",
       "      <th>9857</th>\n",
       "      <td>1601000</td>\n",
       "      <td>403000</td>\n",
       "      <td>1960000.0</td>\n",
       "      <td>2052</td>\n",
       "    </tr>\n",
       "    <tr>\n",
       "      <th>27856</th>\n",
       "      <td>17592000</td>\n",
       "      <td>14321000</td>\n",
       "      <td>15600000.0</td>\n",
       "      <td>966</td>\n",
       "    </tr>\n",
       "    <tr>\n",
       "      <th>23596</th>\n",
       "      <td>18898000</td>\n",
       "      <td>10455000</td>\n",
       "      <td>0.0</td>\n",
       "      <td>0</td>\n",
       "    </tr>\n",
       "    <tr>\n",
       "      <th>33480</th>\n",
       "      <td>1601000</td>\n",
       "      <td>293000</td>\n",
       "      <td>1560000.0</td>\n",
       "      <td>1912</td>\n",
       "    </tr>\n",
       "  </tbody>\n",
       "</table>\n",
       "<p>79 rows × 4 columns</p>\n",
       "</div>"
      ],
      "text/plain": [
       "       Listed Price  Sold Price  Last Sold Price  Last Sold Days\n",
       "2381              0      133000              0.0             773\n",
       "11533      16094000     1726000              0.0               0\n",
       "31772       7064000     6082000        5300000.0            2051\n",
       "2941        5176888     3344000              0.0               0\n",
       "17139      19170000    10935000        6925000.0             563\n",
       "...             ...         ...              ...             ...\n",
       "17470       2335000     1418000        1652100.0             161\n",
       "9857        1601000      403000        1960000.0            2052\n",
       "27856      17592000    14321000       15600000.0             966\n",
       "23596      18898000    10455000              0.0               0\n",
       "33480       1601000      293000        1560000.0            1912\n",
       "\n",
       "[79 rows x 4 columns]"
      ]
     },
     "execution_count": 123,
     "metadata": {},
     "output_type": "execute_result"
    }
   ],
   "source": [
    "X_test[errs > 1e6].join(train[\"Sold Price\"])[[\"Listed Price\", \"Sold Price\", \"Last Sold Price\", \"Last Sold Days\"]]\n",
    "\n"
   ]
  },
  {
   "cell_type": "code",
   "execution_count": 71,
   "id": "64655ad3",
   "metadata": {
    "scrolled": true
   },
   "outputs": [
    {
     "data": {
      "text/plain": [
       "Id                                                                          7251\n",
       "Sold Price                                                                273000\n",
       "Summary                        Enjoy the privacy of this end unit, located at...\n",
       "Type                                                                SingleFamily\n",
       "Year built                                                                1988.0\n",
       "Heating                                                          Forced air, Gas\n",
       "Cooling                                                                     None\n",
       "Parking                                       Garage, Garage - Attached, Covered\n",
       "Lot                                                                       1507.0\n",
       "Bedrooms                                                                       3\n",
       "Bathrooms                                                                    3.9\n",
       "Full bathrooms                                                               3.5\n",
       "Total interior livable area                                               1610.0\n",
       "Total spaces                                                                 1.0\n",
       "Garage spaces                                                                1.0\n",
       "Region                                                             Mountain View\n",
       "Elementary School                                   Theuerkauf Elementary School\n",
       "Elementary School Score                                                      7.0\n",
       "Elementary School Distance                                                   0.3\n",
       "Middle School                                           Crittenden Middle School\n",
       "Middle School Score                                                          6.0\n",
       "Middle School Distance                                                       0.6\n",
       "High School                                                Los Altos High School\n",
       "High School Score                                                            8.0\n",
       "High School Distance                                                         1.9\n",
       "Flooring                                                      Hardwood, Laminate\n",
       "Heating features                                                 Forced air, Gas\n",
       "Cooling features                                                            None\n",
       "Appliances included            Dishwasher, Dryer, Garbage disposal, Microwave...\n",
       "Laundry features                                                             NaN\n",
       "Parking features                              Garage, Garage - Attached, Covered\n",
       "Tax assessed value                                                     1738165.0\n",
       "Annual tax amount                                                          21457\n",
       "Listed On                                                            2017.833333\n",
       "Listed Price                                                             1389800\n",
       "Last Sold On                                                          11/21/2017\n",
       "Last Sold Price                                                        1605000.0\n",
       "City                                                               Mountain View\n",
       "Zip                                                                        94043\n",
       "State                                                                         CA\n",
       "Elementry School Distance                                                    0.3\n",
       "state_ind                                                                   True\n",
       "l1                                                                        1507.0\n",
       "Last Sold Days                                                              1137\n",
       "h_central                                                                  False\n",
       "h_forcedair                                                                 True\n",
       "h_centralforcedair                                                         False\n",
       "h_centralforcedair-gas                                                     False\n",
       "h_gas                                                                       True\n",
       "h_wallfurnace                                                              False\n",
       "Name: 7251, dtype: object"
      ]
     },
     "execution_count": 71,
     "metadata": {},
     "output_type": "execute_result"
    }
   ],
   "source": [
    "train.iloc[7251].head(50)"
   ]
  },
  {
   "cell_type": "markdown",
   "id": "a1d0b6c6",
   "metadata": {},
   "source": [
    "# Hyperparameter Optimization"
   ]
  },
  {
   "cell_type": "code",
   "execution_count": 98,
   "id": "32147080",
   "metadata": {},
   "outputs": [],
   "source": [
    "BayesSearchCV?"
   ]
  },
  {
   "cell_type": "code",
   "execution_count": 376,
   "id": "e9863eb2",
   "metadata": {
    "scrolled": false
   },
   "outputs": [],
   "source": [
    "opt = BayesSearchCV(\n",
    "    GradientBoostingRegressor(random_state = 56,loss = 'squared_error'),\n",
    "    {\n",
    "        'n_estimators': (25, 250),\n",
    "        'learning_rate': (.01, .5, 'log-uniform'),\n",
    "        'max_depth': (2, 6),  # integer valued parameter\n",
    "    },\n",
    "    n_iter = 30,\n",
    "    cv = 3,\n",
    "    verbose = 1\n",
    ")"
   ]
  },
  {
   "cell_type": "code",
   "execution_count": 377,
   "id": "b8a0872f",
   "metadata": {},
   "outputs": [
    {
     "name": "stdout",
     "output_type": "stream",
     "text": [
      "Fitting 3 folds for each of 1 candidates, totalling 3 fits\n",
      "Fitting 3 folds for each of 1 candidates, totalling 3 fits\n",
      "Fitting 3 folds for each of 1 candidates, totalling 3 fits\n",
      "Fitting 3 folds for each of 1 candidates, totalling 3 fits\n",
      "Fitting 3 folds for each of 1 candidates, totalling 3 fits\n",
      "Fitting 3 folds for each of 1 candidates, totalling 3 fits\n",
      "Fitting 3 folds for each of 1 candidates, totalling 3 fits\n",
      "Fitting 3 folds for each of 1 candidates, totalling 3 fits\n",
      "Fitting 3 folds for each of 1 candidates, totalling 3 fits\n",
      "Fitting 3 folds for each of 1 candidates, totalling 3 fits\n",
      "Fitting 3 folds for each of 1 candidates, totalling 3 fits\n",
      "Fitting 3 folds for each of 1 candidates, totalling 3 fits\n",
      "Fitting 3 folds for each of 1 candidates, totalling 3 fits\n",
      "Fitting 3 folds for each of 1 candidates, totalling 3 fits\n",
      "Fitting 3 folds for each of 1 candidates, totalling 3 fits\n",
      "Fitting 3 folds for each of 1 candidates, totalling 3 fits\n",
      "Fitting 3 folds for each of 1 candidates, totalling 3 fits\n",
      "Fitting 3 folds for each of 1 candidates, totalling 3 fits\n",
      "Fitting 3 folds for each of 1 candidates, totalling 3 fits\n",
      "Fitting 3 folds for each of 1 candidates, totalling 3 fits\n",
      "Fitting 3 folds for each of 1 candidates, totalling 3 fits\n",
      "Fitting 3 folds for each of 1 candidates, totalling 3 fits\n",
      "Fitting 3 folds for each of 1 candidates, totalling 3 fits\n",
      "Fitting 3 folds for each of 1 candidates, totalling 3 fits\n",
      "Fitting 3 folds for each of 1 candidates, totalling 3 fits\n",
      "Fitting 3 folds for each of 1 candidates, totalling 3 fits\n",
      "Fitting 3 folds for each of 1 candidates, totalling 3 fits\n",
      "Fitting 3 folds for each of 1 candidates, totalling 3 fits\n",
      "Fitting 3 folds for each of 1 candidates, totalling 3 fits\n",
      "Fitting 3 folds for each of 1 candidates, totalling 3 fits\n"
     ]
    },
    {
     "data": {
      "text/plain": [
       "BayesSearchCV(cv=3, estimator=GradientBoostingRegressor(random_state=56),\n",
       "              n_iter=30,\n",
       "              search_spaces={'learning_rate': (0.01, 0.5, 'log-uniform'),\n",
       "                             'max_depth': (2, 6), 'n_estimators': (25, 250)},\n",
       "              verbose=1)"
      ]
     },
     "execution_count": 377,
     "metadata": {},
     "output_type": "execute_result"
    }
   ],
   "source": [
    "opt.fit(X_train, y_train)"
   ]
  },
  {
   "cell_type": "code",
   "execution_count": 378,
   "id": "3802e7e4",
   "metadata": {
    "scrolled": true
   },
   "outputs": [
    {
     "data": {
      "text/plain": [
       "0.8861050552210015"
      ]
     },
     "execution_count": 378,
     "metadata": {},
     "output_type": "execute_result"
    }
   ],
   "source": [
    "opt.score(X_test, y_test)\n",
    "\n",
    "# 0.930401 with no subsampling\n",
    "# 0.929161025403613 with subsampling, 50 iterations\n"
   ]
  },
  {
   "cell_type": "code",
   "execution_count": 380,
   "id": "2ba8da00",
   "metadata": {},
   "outputs": [
    {
     "data": {
      "text/plain": [
       "(4, 0.07311285746741947, 91, 1.0)"
      ]
     },
     "execution_count": 380,
     "metadata": {},
     "output_type": "execute_result"
    }
   ],
   "source": [
    "opt.best_estimator_.max_depth, opt.best_estimator_.learning_rate, opt.best_estimator_.n_estimators, opt.best_estimator_.subsample\n",
    "\n",
    "# (4, 0.019076781177538346, 500, 1.0) with no subsampling\n",
    "# (5, 0.011876032175591269, 376, 0.44775503528274996) with subsampling (50 iterations)\n"
   ]
  },
  {
   "cell_type": "code",
   "execution_count": 38,
   "id": "ac3120a1",
   "metadata": {},
   "outputs": [],
   "source": [
    "params[\"max_depth\"] = opt.best_estimator_.max_depth\n",
    "params[\"learning_rate\"] = opt.best_estimator_.learning_rate\n",
    "params[\"n_estimators\"] = opt.best_estimator_.n_estimators\n",
    "params[\"subsample\"] = opt.best_estimator_.subsample"
   ]
  },
  {
   "cell_type": "markdown",
   "id": "27540e2b",
   "metadata": {},
   "source": [
    "# Train final model\n",
    "Use all the data"
   ]
  },
  {
   "cell_type": "code",
   "execution_count": 171,
   "id": "fec25142",
   "metadata": {
    "scrolled": true
   },
   "outputs": [
    {
     "name": "stdout",
     "output_type": "stream",
     "text": [
      "{'n_estimators': 500, 'learning_rate': 0.15, 'max_depth': 4, 'random_state': 56, 'subsample': 1, 'max_features': None, 'loss': 'squared_error'}\n",
      "['Listed Price', 'Total interior livable area', 'Bathrooms', 'Year built', 'High School Score', 'Garage spaces', 'state_ind', 'Elementary School Score', 'Full bathrooms', 'Total spaces', 'High School Distance', 'l1', 'Last Sold Price', 'Last Sold Days', 'Tax assessed value', 'Listed On', 'r1', 'r2', 'r3', 'p_garage', 'p_covered', 'p_garage-attached', 'p_driveway', 'p_carport', 'p_garagedooropener', 'p_0spaces', 'p_sidebyside', 'p_attached', 'p_garage-detached', 'p_garage-twodoor', 'p_off-street', 'p_onsite(singlefamilyonly)', 'p_interioraccess', 'p_independent', 'p_assigned', 'p_onsite', 'p_concrete', 'p_communitystructure', 'p_tandem', 'p_gated', 'p_on-street', 'p_guest', 'p_garage-singledoor', 'p_enclosed', 'p_underground/basement', 'p_private', 'p_none', 'p_controlledentrance', 'p_directaccess', 'p_detachedcarport', 'p_onsite-mapped(condoonly)', 'p_onstreet', 'p_garagefacesfront', 'p_offstreet', 'p_underground', 'p_open', 'p_autodrivewaygate', 'p_parkingspace', 'p_attachedcarport', 'p_detached', 'p_garage-threedoor', 'p_rvaccess/parking', 'p_valet', 'p_mixed', 'p_paved', 'p_shareddriveway', 'p_oversized', 'p_circulardriveway', 'p_drivewaylevel', 'p_built-instorage', 'p_convertedgarage', 'p_gravel', 'p_boat', 'p_driveway-combination', 'p_rvpotential', 'p_other', 'p_onsite-unassigned(condoonly)', 'p_rv', 'p_oversizedparking', 'p_workshopingarage', 'p_garagefacesrear', 'p_nogarage', 'p_garagefacesside', 'p_2cargarage', 'p_drivewaydownslopefromstreet', 'p_intaccessfromgarage', 'p_drivewayupslopefromstreet', 'p_mechanicallift', 'p_seeremarks', 'p_potentialrvparking', 'p_tandemcovered', 'p_sideyardaccess', 'p_asphalt', 'p_autoopener', 'p_sizelimited', 'p_rv/boatparking', 'p_autodoor', 'p_permitrequired', 'p_parkingpad', 'p_onsite-leaseavailable(condoonly)', 'p_parkinglot', 'p_driveway-brick', 'p_unpaved', 'p_oversizedgarage', 'p_gar#2', 'p_belowbuildingparking', 'p_existingrvparking', 'p_rvgated', 'p_deck', 'p_spaceperunit-1', 'p_work/shoparea', 'p_carport-2ormore', 'p_spaceperunit-2', 'p_porte-cochere', 'p_uncovered', 'p_street', 'p_parkingspaces', 'p_attachedgaragecabinets', 'p_rvgarage', 'p_storage', 'p_unassigned', 'p_offsite', 'p_tandemuncovered', 'p_public', 'p_golfcartgarage', 'p_additionalcarport', 'p_pull-through', 'p_utilitysink', 'p_rvcovered', 'p_structure', 'p_rotational', 'p_additionalgarage', 'p_nodriveway', 'p_secured', 'p_gar#1', 'p_electricvehiclechargingstation(s)', 'p_overheightgarage', 'p_insideentrance', 'p_drivethru', 'p_unc#2', 'p_gar#3', 'p_guestspace(s)', 'p_noparkingonsite', 'p_two', 'p_notassigned', 'p_drivethrough', 'p_3cargarage', 'p_1cargarage', 'p_3ormoreparkingsp', 'p_2parkingspaces', 'p_rvpossible', 'p_4+cargarage', 'p_offstreetparking', 'p_remote', 'p_heatedgarage', 'p_cpt#1', 'p_insulated', 'p_streetparking', 'p_gar#4', 'p_one', 'p_1-10spaces', 'p_undersizedgarage', 'p_rvaccess', 'p_manualdoor', 'p_cpt#2', 'p_over20spaces', 'p_drivethrugarage', 'p_uncoveredparkspaces2+', 'p_morethanonespace', 'p_rvparking', 'p_unc#3', 'p_detachedgarage', 'p_uncoveredparkingspace', 'p_carports-2ormore', 'p_sinkingarage', 'h_central', 'h_forcedair', 'h_centralforcedair', 'h_centralforcedair-gas', 'h_gas', 'h_wallfurnace', 'h_other', 'h_electric', 'h_fireplace', 'h_baseboard', 'h_naturalgas', 'h_radiant', 'h_heating-2+zones', 'h_propane', 'h_fireplace(s)', 'h_none', 'h_wall', 'h_floorfurnace', 'h_woodstove', 'h_heatpump', 'h_solar', 'h_propane/butane', 'h_radiantfloors', 'h_zoned', 'h_stove', 'h_wood/pellet', 'h_stove-wood', 'h_forcedair-gas', 'h_seeremarks', 'h_individualroomcontrols', 'h_forcedair-elec', 'h_wood', 'h_gravity', 'h_fireplaceinsert', 'h_pelletstove', 'h_hotwater', 'h_steam', 'h_combination', 'h_oil', 'h_solarandgas', 'h_energystarqualifiedequipment', 'h_multiunits', 'h_spaceheater', 'h_highefficiency', 'h_woodburn.stove', 'h_stove-pellet', 'h_noheating', 'h_other-rmks', 'h_forcedair/central', 'h_stovepropane', 'h_wallgas', 'h_kerosene', 'h_wallunit', 'h_radiantfloor', 'h_stoveheater', 'h_propaneheat', 'h_stove-propane', 'h_common', 'h_cfag', 'h_wallheater', 'h_kerosene/oil', 'h_centralfurnace', 'h_fa', 'h_solarwithback-up', 'h_individualrmcontrols', 'h_space', 'h_propaneheater', 'h_cfae', 'h_dualpack', 'h_ductedtoallrooms', 'h_mini-split', 'h_electricbaseboard', 'h_ductless', 'h_diesel/oilspaceheater', 'h_propanestove', 'h_diesel', 'h_centralforcedheat', 'h_naturalgasfurnace', 'h_variesbyunit', 'h_zoned-gas', 'h_other-attch', 'h_gaspac', 'h_zoned-elec', 'h_centralheat/gas', 'h_geothermal', 'h_passivesolar', 'h_cfah', 'h_forcedair1zone', 'h_floor', 'h_fa/gas', 'h_woodburningstove', 'h_fag', 'h_electric/ets', 'h_3units', 'h_gaslog', 'h_gasheat', 'h_electricfurnace', 'h_forcedair-elec.', 'h_activesolar', 'h_wallelectric', 'h_solarw/backup', 'h_humiditycontrol', 'h_other-seeremarks', 'h_ebb', 'h_forced-electric', 'h_mini-splits', 'h_propanewallheater', 'h_forced-gas', 'h_propanefau', 'h_zonal', 'h_dualgas&electric', 'h_other(seeremarks)', 'h_coal', 'h_daikenminisplits', 'h_recirculatingpump', 'h_faghguesthouse', 'h_yes', 'h_heatpumpinguesthse', 'h_minisplit', 'h_electricheat', 'h_higheffciency', 'h_6', 'f_tile', 'f_carpet', 'f_wood', 'f_hardwood', 'f_laminate', 'f_vinyl/linoleum', 'f_linoleum/vinyl', 'f_stone', 'f_other', 'f_vinyl', 'f_marble', 'f_concrete', 'f_ceramictile', 'f_travertine', 'f_linoleum', 'f_slate', 'f_bamboo', 'f_simulatedwood', 'f_seeremarks', 'f_parquet', 'f_carpeted', 'f_granite', 'f_engineeredwood', 'f_mixed', 'f_hardwoodflrsthroughout', 'f_other-rmks', 'f_mexicantile', 'f_softwood', 'f_cement', 'f_brick', 'f_cork', 'f_naturalstone', 'f_wood/woodlike', 'f_stonetile', 'f_unfinished', 'f_varies', 'f_laminated', 'f_other-attch', 'f_combination', 'f_sustainablematerials', 'f_sheetvinyl', 'f_none', 'f_painted/stained', 'f_vinyltile', 'f_reclaimed', 'f_sustainable', 'f_variesbyunit', 'f_recycledcarpet', 'f_partialcarpeting', 'f_stainedconcrete', 'f_plank', 'f_porcelain', 'f_other/woodaccents', 'f_stamped', 'f_saltillo', 'f_colored', 'f_woodundercarpet', 'f_asphalttile', 'f_prem.woodbasedlam', 'f_mudadobe&brick', 'f_posttensionslab', 'f_stainedbrick', 'f_other/karndeanvinylplank', 'f_saltillo&ceramictile', 'f_other/brick', 'f_concreteslab', 'f_crigreenlabelpluscertifiedcarpet', 'f_adobe', 'f_customconcrete', 'a_dishwasher', 'a_refrigerator', 'a_microwave', 'a_washer', 'a_dryer', 'a_range/oven', 'a_garbagedisposal', 'a_disposal', 'a_freezer', 'a_rangehood', 'a_gasrange', 'a_trashcompactor', 'a_gaswaterheater', 'a_gasoven', 'a_gascooktop', 'a_oven', 'a_range', 'a_doubleoven', 'a_selfcleaningoven', 'a_barbecue', 'a_icemaker', 'a_free-standingrange', 'a_energystarqualifiedappliances', 'a_ventedexhaustfan', 'a_waterheater', 'a_electricrange', 'a_tanklesswaterheater', 'a_electricoven', 'a_built-in', 'a_electriccooktop', 'a_convectionoven', 'a_built-inrange', 'a_waterlinetorefrigerator', 'a_6burnerstove', 'a_none', 'a_waterpurifier', 'a_propanerange', 'a_plumbedforicemaker', 'a_gascooking', 'a_electricwaterheater', 'a_propanewaterheater', 'a_gas&electricrange', 'a_watersoftener', 'a_free-standingrefrigerator', 'a_propanecooktop', 'a_propaneoven', 'a_highefficiencywaterheater', 'a_countertop', 'a_waterheatercentral', 'a_energystarqualifiedwaterheater', 'a_warmingdrawer', 'a_recirculatedexhaustfan', 'a_electriccooking', 'a_gasrange/cooktop', 'a_indoorgrill', 'a_waterfiltersystem', 'a_instanthotwater', 'a_propanecooking', 'a_washer/dryer', 'a_solarhotwater', 'a_hotwatercirculator', 'a_washer/dryerleased', 'a_insulatedwaterheater', 'a_grillbuilt-in', 'a_builtinoven/range', 'a_freestanding', 'a_portabledishwasher', 'a_cooktop', 'a_watersoftenerrented', 'a_watersoftenerowned', 'a_other', 'a_free-standinggasoven', 'a_free-standinggasrange', 'a_solarwaterheaterowned', 'Los Angeles', 'San Jose', 'San Francisco', 'San Mateo', 'Santa Clara', 'Santa Cruz', 'Sunnyvale', 'Los Gatos', 'Morgan Hill', 'Redwood City', 'Gilroy', 'Compton', 'Mountain View', 'Palo Alto', 'Milpitas', 'Aptos', 'Los Altos', 'Culver City', 'West Hollywood', 'Watsonville', 'San Carlos', 'Menlo Park', 'Beverly Hills', 'South San Francisco', 'Cupertino', 'Pacifica', 'Saratoga', 'San Bruno', 'Scotts Valley', 'Belmont', 'Dodgertown', 'Campbell', 'Rio Rico', 'Boulder Creek', 'Capitola', 'Millbrae', 'Playa Vista', 'Felton', 'Sacramento', 'Tubac', 'Berkeley', 'Portola Valley', 'Atherton', 'Soquel', 'Nogales', 'Half Moon Bay', 'Ben Lomond', 'Fresno', 'San Martin', 'Brisbane', 'Moss Beach', 'Glendale', 'Inglewood', 'Montara', 'Sonoita', 'Yountville', 'Bell Gardens', 'Los Alamos', 'Somis', 'Applegate', 'Mather', 'Delhi', 'Penryn', 'San Diego', 'Mccloud', 'Colusa', 'Smartsville', 'Woodbridge', 'Monte Rio', 'Wilton', 'Durham', 'Ross', 'Keyes', 'Bodega Bay', 'Fiddletown', 'Patagonia', 'Gonzales', 'Rough And Ready', 'Plymouth', 'Elgin', 'Dunsmuir', 'Sloughhouse', 'Santa Monica', 'Arbuckle', 'Esparto', 'Browns Valley', 'Alta', 'Stockton', 'Penngrove', 'Angwin', 'Lebec', 'Aromas', 'Friant', 'Avalon', 'Sutter', 'Markleeville', 'Finley', 'Pilot Hill', 'Glen Ellen', 'Stinson Beach', 'Kenwood', 'Maywood', 'Burbank', 'Trinidad', 'Castroville', 'Greenwood', 'Angelus Oaks', 'Diamond Springs', 'Shandon', 'Mendocino', 'Herald', 'Farmersville', 'Silverado', 'Hilmar', 'San Andreas', 'Rio Dell', 'Linden', 'Fort Jones', 'Wheatland', 'Woodacre', 'Fairfax', 'Lakehead', 'Pine Mountain Club', 'Pauma Valley', 'Three Rivers', 'Gridley', 'Garden Valley', 'Ahwahnee', 'Edison', 'Catheys Valley', 'Montrose', 'Midway City', 'Avila Beach', 'Buellton', 'Volcano', 'Inyokern', 'Riverdale', 'Newport Beach', 'Bayside', 'Winton', 'June Lake', 'Pixley', 'Burson', 'Campo', 'Freedom', 'Sierra City', 'Rimforest', 'Bolinas', 'Pine Valley', 'Vallejo', 'Gualala', 'Bella Vista', 'La Palma', 'Larkspur', 'Biggs', 'McFarland', 'Manton', 'Big Sur', 'San Bernardino', 'Lamont', 'Forest Ranch', 'Smith River', 'Orosi', 'Jenner', 'Denair', 'Forest Falls', 'Georgetown', 'Brownsville', 'Redwood Valley', 'French Camp', 'Isleton', 'Creston', 'Bass Lake', 'Calistoga', 'Crockett', 'Manchester', 'Diablo', 'Millville', 'Prather', 'El Dorado', 'Ferndale', 'Sunol', 'Dobbins', 'Cazadero', 'Artesia', 'Oak View', 'Bethel Island', 'Trinity Center', 'Parlier', 'Mcarthur', 'Heber', 'Woodlake', 'Acampo', 'Posey', 'Blue Lake', 'Oakland', 'West Point', 'Mendota', 'Bodfish', 'Covelo', 't_singlefamily', 't_condo', 't_townhouse', 't_unknown', 't_multifamily', 't_mobilemanufactured', 't_vacantland', 't_apartment', 't_cooperative', 't_mfd-f', 't_residentiallot', 't_2story', 't_acreage', 't_duplex', 't_3story', 't_manufacturedhome', 't_3story,duplex', 't_31', 't_mid-rise(4-8)', 't_topfloor', 'l_inside', 'l_washer/dryer', 'l_ingarage', 'l_laundryroom', 'l_inutilityroom', 'l_laundrycloset', 'l_electricityhookup(220v)', 'l_insideroom', 'l_dryer', 'l_washer', 'l_gashookup', 'l_washerhookup', 'l_inunit', 'l_inkitchen', 'l_tub/sink', 'l_gasdryerhookup', 'l_upperfloor', 'l_hookupsonly', 'l_community', 'l_stackable', 'l_outside', 'l_electricityhookup(110v)', 'l_seeremarks', 'l_none', 'l_gas&electricdryerhookup', 'l_room', 'l_cabinets', 'l_upperlevel', 'l_insidearea', 'l_commonarea', 'l_electricdryerhookup', 'l_communityfacility', 'l_inbasement', 'l_sink', 'l_other', 'l_coinoperated', 'l_220voltoutlet', 'l_utilityroom', 'l_washer/dryerinclud', 'l_gashook-up', 'l_dryerhookup', 'l_laundryarea', 'l_closet', 'l_propanedryerhookup', 'l_garage', 'l_individualroom', 'l_incloset', 'l_inhouse', 'l_utilitysink', 'l_other-rmks', 'l_incarport', 'l_220', 'l_electrichookup', 'l_storage', 'l_area', 'l_washerincluded', 'l_stackedonly', 'l_dryerincluded', 'l_onupperlevel', 'l_hall', 'l_laundryclosetstacked', 'l_washer/dryerhookup-elect', 'l_washer/dryer-someunits', 'l_kitchen', 'l_washer/dryerhookups', 'l_hookup-washer/dryer', 'l_on-site', 'l_washer/dryerstackedincl', 'l_inlaundryroom', 'l_electric', 'l_laundrychute', 'l_gas', 'l_mainlevel', 'l_hookups', 'l_lowerlevel', 'l_basement', 'l_other/seeremarks', 'l_laundryhookups', 'l_hookup-electric', 'l_onporch', 'l_bathroom', 'l_onlowerlevel', 'l_stackedspace', 'l_other-attch', 'l_inhall', 'l_inlivingroom', 'l_nohookups', 'l_washer/dryerstackedincluded', 'l_washer/dryerhookup-both', 'l_hookup-gasdryer', 'l_dryerhookups', 'l_washerhookups', 'l_utilitybasin', 'l_groundfloor', 'l_laundrysink', 'l_propanedryer', 'l_other-specinrem', 'l_shelves', 'l_laundry&storexhed', 'l_forwasheronly', 'l_built-inlinen', 'l_chute', 'l_sharedlaundryroom', 'l_laundryareainunit', 'l_ready4doublestack', 'l_common', 'l_notinunit', 'l_dryerhook-up', 'l_yes', 'l_refrigerator/freezer', 'l_laundry-pantry', 'l_gas/elecdryerhookup', 'l_porch', 'l_bath', 'l_variesbyunit', 'l_insidelaundry', 'l_spaceforfrzr/refr', 'l_dryer-electric', 'l_granitecounter', 'l_2ndlaundry', 'l_laundryingarage', 'l_220volts', 'l_washerhook-up']\n"
     ]
    },
    {
     "data": {
      "text/plain": [
       "(None, 783)"
      ]
     },
     "execution_count": 171,
     "metadata": {},
     "output_type": "execute_result"
    }
   ],
   "source": [
    "print(params)\n",
    "print(pred_vars), len(pred_vars)"
   ]
  },
  {
   "cell_type": "code",
   "execution_count": 172,
   "id": "59e2e153",
   "metadata": {},
   "outputs": [
    {
     "name": "stdout",
     "output_type": "stream",
     "text": [
      "      Iter       Train Loss   Remaining Time \n",
      "         1 2013201707014.5984            3.95m\n",
      "         2 1512329681508.2161            3.93m\n",
      "         3 1148935647550.3584            3.93m\n",
      "         4 883474752288.1490            3.92m\n",
      "         5 689872577143.5283            3.93m\n",
      "         6 548278911475.0394            3.92m\n",
      "         7 442912552292.6866            3.91m\n",
      "         8 365010690337.8831            3.89m\n",
      "         9 307721649130.1824            3.88m\n",
      "        10 264950398162.9709            3.88m\n",
      "        20 127969649303.8632            3.87m\n",
      "        30 94377890889.2077            3.75m\n",
      "        40 76678896549.1962            3.63m\n",
      "        50 67628682275.7366            3.52m\n",
      "        60 62161270589.3367            3.43m\n",
      "        70 58193572528.8587            3.35m\n",
      "        80 54976588034.2401            3.26m\n",
      "        90 52631657844.1689            3.18m\n",
      "       100 50175003795.9121            3.09m\n",
      "       200 35572928356.2149            2.32m\n",
      "       300 28481253456.6356            1.53m\n",
      "       400 23582440264.2749           45.89s\n",
      "       500 19835620884.7348            0.00s\n"
     ]
    }
   ],
   "source": [
    "model = GradientBoostingRegressor(verbose = 1).set_params(**params).fit(X, y)"
   ]
  },
  {
   "cell_type": "markdown",
   "id": "6ddd7760",
   "metadata": {},
   "source": [
    "# Make Predictions"
   ]
  },
  {
   "cell_type": "markdown",
   "id": "9d0615a9",
   "metadata": {},
   "source": [
    "Do the same pre-processing on the test data that we do on the train data"
   ]
  },
  {
   "cell_type": "code",
   "execution_count": 173,
   "id": "0721cac6",
   "metadata": {},
   "outputs": [],
   "source": [
    "test_p = preprocess_data(test, imp, imp_vars, train_medians, parking_types_train, \n",
    "                         heating_types_train, flooring_types_train, \n",
    "                         appliance_types_train, cities_train, types_train,\n",
    "                        laundry_types_train)"
   ]
  },
  {
   "cell_type": "code",
   "execution_count": 174,
   "id": "eb35f869",
   "metadata": {},
   "outputs": [],
   "source": [
    "test[\"Sold Price\"] = model.predict(test_p[pred_vars])"
   ]
  },
  {
   "cell_type": "code",
   "execution_count": 175,
   "id": "40e71847",
   "metadata": {},
   "outputs": [],
   "source": [
    "test[[\"Id\", \"Sold Price\"]].to_csv(\"../submission.csv\", index = False)"
   ]
  },
  {
   "cell_type": "markdown",
   "id": "6ae94457",
   "metadata": {},
   "source": [
    "# Ideas"
   ]
  },
  {
   "cell_type": "markdown",
   "id": "e6f9a171",
   "metadata": {},
   "source": [
    "Things to try out for the future:\n",
    " - Target Ideas:\n",
    "  - Target is log of the price\n",
    "  - Target is the actual dollar of sale price (GOLD STAR - THIS WORKS BETTER THAN LOG PRICE)\n",
    "  - Target is the difference between the price and the list price\n",
    "  \n",
    " - Variable Ideas:\n",
    "  - Get a home price index and map to list date?\n",
    "  - Do something with summary, sentiment analysis?\n",
    "  - build a sub-model for records with no values from the price variables?"
   ]
  },
  {
   "cell_type": "code",
   "execution_count": 621,
   "id": "70d1183b",
   "metadata": {},
   "outputs": [
    {
     "data": {
      "text/plain": [
       "<AxesSubplot:>"
      ]
     },
     "execution_count": 621,
     "metadata": {},
     "output_type": "execute_result"
    },
    {
     "data": {
      "image/png": "[encoded data removed]",
      "text/plain": [
       "<Figure size 432x288 with 1 Axes>"
      ]
     },
     "metadata": {
      "needs_background": "light"
     },
     "output_type": "display_data"
    }
   ],
   "source": [
    "np.minimum(np.maximum(train[\"Sold Price\"] - train[\"Listed Price\"], -1e6), 1e6).hist()"
   ]
  },
  {
   "cell_type": "code",
   "execution_count": null,
   "id": "cbd26b6c",
   "metadata": {},
   "outputs": [],
   "source": []
  }
 ],
 "metadata": {
  "kernelspec": {
   "display_name": "Python 3 (ipykernel)",
   "language": "python",
   "name": "python3"
  },
  "language_info": {
   "codemirror_mode": {
    "name": "ipython",
    "version": 3
   },
   "file_extension": ".py",
   "mimetype": "text/x-python",
   "name": "python",
   "nbconvert_exporter": "python",
   "pygments_lexer": "ipython3",
   "version": "3.7.13"
  },
  "toc": {
   "base_numbering": 1,
   "nav_menu": {},
   "number_sections": true,
   "sideBar": true,
   "skip_h1_title": false,
   "title_cell": "Table of Contents",
   "title_sidebar": "Contents",
   "toc_cell": false,
   "toc_position": {
    "height": "calc(100% - 180px)",
    "left": "10px",
    "top": "150px",
    "width": "176.188px"
   },
   "toc_section_display": true,
   "toc_window_display": true
  }
 },
 "nbformat": 4,
 "nbformat_minor": 5
}
