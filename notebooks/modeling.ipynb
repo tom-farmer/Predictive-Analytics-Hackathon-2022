{
 "cells": [
  {
   "cell_type": "markdown",
   "id": "64348b6c",
   "metadata": {},
   "source": [
    "# Libraries and Data"
   ]
  },
  {
   "cell_type": "code",
   "execution_count": 68,
   "id": "ee637605",
   "metadata": {},
   "outputs": [],
   "source": [
    "import numpy as np\n",
    "import pandas as pd\n",
    "import matplotlib.pyplot as plt\n",
    "import seaborn as sns\n",
    "from skopt import BayesSearchCV\n",
    "import skopt\n",
    "\n",
    "from sklearn.ensemble import GradientBoostingRegressor\n",
    "from sklearn.model_selection import train_test_split"
   ]
  },
  {
   "cell_type": "code",
   "execution_count": 69,
   "id": "ce8ac36e",
   "metadata": {},
   "outputs": [],
   "source": [
    "train = pd.read_csv(\"../data/advanced_train.csv\", low_memory = False)\n",
    "test = pd.read_csv(\"../data/advanced_test.csv\", low_memory = False)\n",
    "sample = pd.read_csv(\"../data/sample_submission.csv\", low_memory = False)"
   ]
  },
  {
   "cell_type": "code",
   "execution_count": 70,
   "id": "3db39e0d",
   "metadata": {},
   "outputs": [
    {
     "data": {
      "text/plain": [
       "((37439, 40), (10000, 39))"
      ]
     },
     "execution_count": 70,
     "metadata": {},
     "output_type": "execute_result"
    }
   ],
   "source": [
    "train.shape, test.shape"
   ]
  },
  {
   "cell_type": "code",
   "execution_count": 71,
   "id": "0f0aa440",
   "metadata": {},
   "outputs": [
    {
     "data": {
      "text/plain": [
       "(Index(['Id', 'Sold Price', 'Summary', 'Type', 'Year built', 'Heating',\n",
       "        'Cooling', 'Parking', 'Lot', 'Bedrooms', 'Bathrooms', 'Full bathrooms',\n",
       "        'Total interior livable area', 'Total spaces', 'Garage spaces',\n",
       "        'Region', 'Elementary School', 'Elementary School Score',\n",
       "        'Elementary School Distance', 'Middle School', 'Middle School Score',\n",
       "        'Middle School Distance', 'High School', 'High School Score',\n",
       "        'High School Distance', 'Flooring', 'Heating features',\n",
       "        'Cooling features', 'Appliances included', 'Laundry features',\n",
       "        'Parking features', 'Tax assessed value', 'Annual tax amount',\n",
       "        'Listed On', 'Listed Price', 'Last Sold On', 'Last Sold Price', 'City',\n",
       "        'Zip', 'State'],\n",
       "       dtype='object'),\n",
       " Index(['Id', 'Summary', 'Type', 'Year built', 'Heating', 'Cooling', 'Parking',\n",
       "        'Lot', 'Bedrooms', 'Bathrooms', 'Full bathrooms',\n",
       "        'Total interior livable area', 'Total spaces', 'Garage spaces',\n",
       "        'Region', 'Elementary School', 'Elementary School Score',\n",
       "        'Elementary School Distance', 'Middle School', 'Middle School Score',\n",
       "        'Middle School Distance', 'High School', 'High School Score',\n",
       "        'High School Distance', 'Flooring', 'Heating features',\n",
       "        'Cooling features', 'Appliances included', 'Laundry features',\n",
       "        'Parking features', 'Tax assessed value', 'Annual tax amount',\n",
       "        'Listed On', 'Listed Price', 'Last Sold On', 'Last Sold Price', 'City',\n",
       "        'Zip', 'State'],\n",
       "       dtype='object'))"
      ]
     },
     "execution_count": 71,
     "metadata": {},
     "output_type": "execute_result"
    }
   ],
   "source": [
    "train.columns, test.columns"
   ]
  },
  {
   "cell_type": "code",
   "execution_count": 72,
   "id": "b8af35d5",
   "metadata": {
    "scrolled": false
   },
   "outputs": [
    {
     "name": "stdout",
     "output_type": "stream",
     "text": [
      "<class 'pandas.core.frame.DataFrame'>\n",
      "RangeIndex: 37439 entries, 0 to 37438\n",
      "Data columns (total 40 columns):\n",
      " #   Column                       Non-Null Count  Dtype  \n",
      "---  ------                       --------------  -----  \n",
      " 0   Id                           37439 non-null  int64  \n",
      " 1   Sold Price                   37439 non-null  int64  \n",
      " 2   Summary                      37176 non-null  object \n",
      " 3   Type                         37439 non-null  object \n",
      " 4   Year built                   36686 non-null  float64\n",
      " 5   Heating                      32481 non-null  object \n",
      " 6   Cooling                      29109 non-null  object \n",
      " 7   Parking                      36720 non-null  object \n",
      " 8   Lot                          26041 non-null  float64\n",
      " 9   Bedrooms                     35235 non-null  object \n",
      " 10  Bathrooms                    34786 non-null  float64\n",
      " 11  Full bathrooms               31696 non-null  float64\n",
      " 12  Total interior livable area  35443 non-null  float64\n",
      " 13  Total spaces                 36786 non-null  float64\n",
      " 14  Garage spaces                36784 non-null  float64\n",
      " 15  Region                       37437 non-null  object \n",
      " 16  Elementary School            33839 non-null  object \n",
      " 17  Elementary School Score      33723 non-null  float64\n",
      " 18  Elementary School Distance   33839 non-null  float64\n",
      " 19  Middle School                24621 non-null  object \n",
      " 20  Middle School Score          24621 non-null  float64\n",
      " 21  Middle School Distance       24621 non-null  float64\n",
      " 22  High School                  33386 non-null  object \n",
      " 23  High School Score            33271 non-null  float64\n",
      " 24  High School Distance         33385 non-null  float64\n",
      " 25  Flooring                     28554 non-null  object \n",
      " 26  Heating features             31933 non-null  object \n",
      " 27  Cooling features             28168 non-null  object \n",
      " 28  Appliances included          27117 non-null  object \n",
      " 29  Laundry features             26259 non-null  object \n",
      " 30  Parking features             34151 non-null  object \n",
      " 31  Tax assessed value           34505 non-null  object \n",
      " 32  Annual tax amount            33903 non-null  object \n",
      " 33  Listed On                    37439 non-null  object \n",
      " 34  Listed Price                 37439 non-null  int64  \n",
      " 35  Last Sold On                 23341 non-null  object \n",
      " 36  Last Sold Price              23341 non-null  float64\n",
      " 37  City                         37439 non-null  object \n",
      " 38  Zip                          37439 non-null  int64  \n",
      " 39  State                        37439 non-null  object \n",
      "dtypes: float64(14), int64(4), object(22)\n",
      "memory usage: 11.4+ MB\n"
     ]
    }
   ],
   "source": [
    "train.info()"
   ]
  },
  {
   "cell_type": "markdown",
   "id": "d03f5c85",
   "metadata": {},
   "source": [
    "# Data Exploration"
   ]
  },
  {
   "cell_type": "markdown",
   "id": "883ad59b",
   "metadata": {},
   "source": [
    "## High School"
   ]
  },
  {
   "cell_type": "code",
   "execution_count": 73,
   "id": "ab09cc01",
   "metadata": {
    "scrolled": false
   },
   "outputs": [
    {
     "data": {
      "text/plain": [
       "True"
      ]
     },
     "execution_count": 73,
     "metadata": {},
     "output_type": "execute_result"
    }
   ],
   "source": [
    "#sns.histplot(np.log(train[\"Sold Price\"]))\n",
    "#sns.histplot(train[\"Garage spaces\"])\n",
    "#train[\"Year built\"].unique()\n",
    "train[\"High School Distance\"].isna().any()"
   ]
  },
  {
   "cell_type": "code",
   "execution_count": null,
   "id": "2f45232a",
   "metadata": {},
   "outputs": [],
   "source": []
  },
  {
   "cell_type": "markdown",
   "id": "d490dcb0",
   "metadata": {},
   "source": [
    "## Heating"
   ]
  },
  {
   "cell_type": "code",
   "execution_count": 74,
   "id": "cce45223",
   "metadata": {
    "scrolled": true
   },
   "outputs": [
    {
     "data": {
      "text/plain": [
       "Central                                            7280\n",
       "Central Forced Air                                 4695\n",
       "Central Forced Air - Gas                           3041\n",
       "Forced Air                                         1977\n",
       "Wall Furnace                                       1535\n",
       "                                                   ... \n",
       "Stove - Wood, Other                                   1\n",
       "Radiant, Daiken Mini Splits                           1\n",
       "Solar, Central Forced Air - Gas, Radiant Floors       1\n",
       "Propane, Electric, Wall Furnace, Wood Stove           1\n",
       "Natural Gas, Electric                                 1\n",
       "Name: Heating, Length: 1536, dtype: int64"
      ]
     },
     "execution_count": 74,
     "metadata": {},
     "output_type": "execute_result"
    }
   ],
   "source": [
    "asdf = train[\"Heating\"].value_counts()\n",
    "asdf"
   ]
  },
  {
   "cell_type": "code",
   "execution_count": 75,
   "id": "acf66c3b",
   "metadata": {
    "scrolled": true
   },
   "outputs": [
    {
     "data": {
      "text/plain": [
       "central                     9195\n",
       "forced air                  5999\n",
       "central forced air          5830\n",
       "central forced air - gas    3969\n",
       "gas                         3522\n",
       "wall furnace                2150\n",
       "other                       1667\n",
       "electric                    1438\n",
       "fireplace                    928\n",
       "baseboard                    699\n",
       "natural gas                  678\n",
       "radiant                      671\n",
       "heating - 2+ zones           652\n",
       "propane                      631\n",
       "fireplace(s)                 469\n",
       "none                         453\n",
       "wall                         424\n",
       "floor furnace                422\n",
       "heat pump                    365\n",
       "wood stove                   339\n",
       "solar                        284\n",
       "propane / butane             230\n",
       "radiant floors               219\n",
       "zoned                        201\n",
       "stove                        177\n",
       "wood / pellet                172\n",
       "stove - wood                 138\n",
       "forced air - gas             120\n",
       "see remarks                  117\n",
       "individual room controls     102\n",
       "Name: Heating, dtype: int64"
      ]
     },
     "execution_count": 75,
     "metadata": {},
     "output_type": "execute_result"
    }
   ],
   "source": [
    "heat_types = train[\"Heating\"].str.lower().str.split(\",\").explode().str.strip().value_counts()\n",
    "heat_types.head(30)\n",
    "# h1 = central, forced air, forced, furnace\n",
    "# h2 = radiant, heat pump, baseboard, steam, zone\n",
    "# h3 = wood, stove, fireplace, fire, coal, pellet\n",
    "# h4 = solar, geothermal"
   ]
  },
  {
   "cell_type": "markdown",
   "id": "3bfc01f7",
   "metadata": {},
   "source": [
    "## Parking"
   ]
  },
  {
   "cell_type": "code",
   "execution_count": 76,
   "id": "808e2609",
   "metadata": {},
   "outputs": [
    {
     "data": {
      "text/plain": [
       "Index(['garage', 'covered', 'garage-attached', 'driveway', 'carport',\n",
       "       'garagedooropener', '0spaces', 'sidebyside', 'attached',\n",
       "       'garage-detached',\n",
       "       ...\n",
       "       'over20spaces', 'drivethrugarage', 'uncoveredparkspaces2+',\n",
       "       'morethanonespace', 'rvparking', 'unc#3', 'detachedgarage',\n",
       "       'uncoveredparkingspace', 'carports-2ormore', 'sinkingarage'],\n",
       "      dtype='object', length=156)"
      ]
     },
     "execution_count": 76,
     "metadata": {},
     "output_type": "execute_result"
    }
   ],
   "source": [
    "# Take a looka at the most common values in the parking variable.\n",
    "# 156 unique values in the parking variable\n",
    "parking_types_train = train[\"Parking\"].str.lower().str.replace(\" \", \"\").str.split(\",\").explode().value_counts()\n",
    "\n",
    "parking_types_train.head(40)\n",
    "parking_types_train.index\n"
   ]
  },
  {
   "cell_type": "code",
   "execution_count": 77,
   "id": "acc26029",
   "metadata": {},
   "outputs": [
    {
     "name": "stdout",
     "output_type": "stream",
     "text": [
      "garage\n",
      "covered\n",
      "garage-attached\n",
      "driveway\n",
      "carport\n",
      "garagedooropener\n",
      "0spaces\n",
      "sidebyside\n",
      "attached\n",
      "garage-detached\n",
      "garage-twodoor\n",
      "off-street\n",
      "onsite(singlefamilyonly)\n"
     ]
    },
    {
     "name": "stderr",
     "output_type": "stream",
     "text": [
      "/opt/anaconda3/envs/kaggle_soa_22/lib/python3.7/site-packages/ipykernel_launcher.py:3: UserWarning: This pattern has match groups. To actually get the groups, use str.extract.\n",
      "  This is separate from the ipykernel package so we can avoid doing imports until\n"
     ]
    },
    {
     "name": "stdout",
     "output_type": "stream",
     "text": [
      "interioraccess\n",
      "independent\n",
      "assigned\n",
      "onsite\n",
      "concrete\n",
      "communitystructure\n",
      "tandem\n",
      "gated\n",
      "on-street\n",
      "guest\n",
      "garage-singledoor\n",
      "enclosed\n",
      "underground/basement\n",
      "private\n",
      "none\n",
      "controlledentrance\n",
      "directaccess\n",
      "detachedcarport\n",
      "onsite-mapped(condoonly)\n",
      "onstreet\n",
      "garagefacesfront\n",
      "offstreet\n",
      "underground\n",
      "open\n",
      "autodrivewaygate\n",
      "parkingspace\n",
      "attachedcarport\n",
      "detached\n",
      "garage-threedoor\n",
      "rvaccess/parking\n",
      "valet\n",
      "mixed\n",
      "paved\n",
      "shareddriveway\n",
      "oversized\n",
      "circulardriveway\n",
      "drivewaylevel\n",
      "built-instorage\n",
      "convertedgarage\n",
      "gravel\n",
      "boat\n",
      "driveway-combination\n",
      "rvpotential\n",
      "other\n",
      "onsite-unassigned(condoonly)\n",
      "rv\n",
      "oversizedparking\n",
      "workshopingarage\n",
      "garagefacesrear\n",
      "nogarage\n",
      "garagefacesside\n",
      "2cargarage\n",
      "drivewaydownslopefromstreet\n",
      "intaccessfromgarage\n",
      "drivewayupslopefromstreet\n",
      "mechanicallift\n",
      "seeremarks\n",
      "potentialrvparking\n",
      "tandemcovered\n",
      "sideyardaccess\n",
      "asphalt\n",
      "autoopener\n",
      "sizelimited\n",
      "rv/boatparking\n",
      "autodoor\n",
      "permitrequired\n",
      "parkingpad\n",
      "onsite-leaseavailable(condoonly)\n",
      "parkinglot\n",
      "driveway-brick\n",
      "unpaved\n",
      "oversizedgarage\n",
      "gar#2\n",
      "belowbuildingparking\n",
      "existingrvparking\n",
      "rvgated\n",
      "deck\n",
      "spaceperunit-1\n",
      "work/shoparea\n",
      "carport-2ormore\n",
      "spaceperunit-2\n",
      "porte-cochere\n",
      "uncovered\n",
      "street\n",
      "parkingspaces\n",
      "attachedgaragecabinets\n",
      "rvgarage\n",
      "storage\n",
      "unassigned\n"
     ]
    },
    {
     "name": "stderr",
     "output_type": "stream",
     "text": [
      "/opt/anaconda3/envs/kaggle_soa_22/lib/python3.7/site-packages/ipykernel_launcher.py:3: PerformanceWarning: DataFrame is highly fragmented.  This is usually the result of calling `frame.insert` many times, which has poor performance.  Consider joining all columns at once using pd.concat(axis=1) instead.  To get a de-fragmented frame, use `newframe = frame.copy()`\n",
      "  This is separate from the ipykernel package so we can avoid doing imports until\n"
     ]
    },
    {
     "name": "stdout",
     "output_type": "stream",
     "text": [
      "offsite\n",
      "tandemuncovered\n",
      "public\n",
      "golfcartgarage\n",
      "additionalcarport\n",
      "pull-through\n",
      "utilitysink\n",
      "rvcovered\n",
      "structure\n",
      "rotational\n",
      "additionalgarage\n",
      "nodriveway\n",
      "secured\n",
      "gar#1\n",
      "electricvehiclechargingstation(s)\n",
      "overheightgarage\n",
      "insideentrance\n",
      "drivethru\n",
      "unc#2\n",
      "gar#3\n",
      "guestspace(s)\n",
      "noparkingonsite\n",
      "two\n",
      "notassigned\n",
      "drivethrough\n",
      "3cargarage\n",
      "1cargarage\n",
      "3ormoreparkingsp\n",
      "2parkingspaces\n",
      "rvpossible\n",
      "4+cargarage\n",
      "offstreetparking\n",
      "remote\n",
      "heatedgarage\n",
      "cpt#1\n",
      "insulated\n",
      "streetparking\n",
      "gar#4\n",
      "one\n",
      "1-10spaces\n",
      "undersizedgarage\n",
      "rvaccess\n",
      "manualdoor\n",
      "cpt#2\n",
      "over20spaces\n",
      "drivethrugarage\n",
      "uncoveredparkspaces2+\n",
      "morethanonespace\n",
      "rvparking\n",
      "unc#3\n",
      "detachedgarage\n",
      "uncoveredparkingspace\n",
      "carports-2ormore\n",
      "sinkingarage\n"
     ]
    }
   ],
   "source": [
    "\n",
    "for ptype in parking_types_train.index:\n",
    "    print(ptype)\n",
    "    train[ptype] = train[\"Parking\"].str.lower().str.replace(\" \", \"\").str.contains(ptype)\n",
    "    "
   ]
  },
  {
   "cell_type": "code",
   "execution_count": null,
   "id": "3053192b",
   "metadata": {},
   "outputs": [],
   "source": []
  },
  {
   "cell_type": "markdown",
   "id": "2b30c80f",
   "metadata": {},
   "source": [
    "## Lot"
   ]
  },
  {
   "cell_type": "code",
   "execution_count": 78,
   "id": "7d8a5081",
   "metadata": {},
   "outputs": [
    {
     "data": {
      "text/plain": [
       "<AxesSubplot:>"
      ]
     },
     "execution_count": 78,
     "metadata": {},
     "output_type": "execute_result"
    },
    {
     "data": {
      "image/png": "[encoded data removed]",
      "text/plain": [
       "<Figure size 432x288 with 1 Axes>"
      ]
     },
     "metadata": {
      "needs_background": "light"
     },
     "output_type": "display_data"
    }
   ],
   "source": [
    "np.log(np.minimum(train[\"Lot\"], 1e6) + 1).hist()"
   ]
  },
  {
   "cell_type": "code",
   "execution_count": 79,
   "id": "2d3b8e20",
   "metadata": {},
   "outputs": [
    {
     "data": {
      "text/html": [
       "<div>\n",
       "<style scoped>\n",
       "    .dataframe tbody tr th:only-of-type {\n",
       "        vertical-align: middle;\n",
       "    }\n",
       "\n",
       "    .dataframe tbody tr th {\n",
       "        vertical-align: top;\n",
       "    }\n",
       "\n",
       "    .dataframe thead th {\n",
       "        text-align: right;\n",
       "    }\n",
       "</style>\n",
       "<table border=\"1\" class=\"dataframe\">\n",
       "  <thead>\n",
       "    <tr style=\"text-align: right;\">\n",
       "      <th></th>\n",
       "      <th>Id</th>\n",
       "      <th>Sold Price</th>\n",
       "      <th>Summary</th>\n",
       "      <th>Type</th>\n",
       "      <th>Year built</th>\n",
       "      <th>Heating</th>\n",
       "      <th>Cooling</th>\n",
       "      <th>Parking</th>\n",
       "      <th>Lot</th>\n",
       "      <th>Bedrooms</th>\n",
       "      <th>...</th>\n",
       "      <th>over20spaces</th>\n",
       "      <th>drivethrugarage</th>\n",
       "      <th>uncoveredparkspaces2+</th>\n",
       "      <th>morethanonespace</th>\n",
       "      <th>rvparking</th>\n",
       "      <th>unc#3</th>\n",
       "      <th>detachedgarage</th>\n",
       "      <th>uncoveredparkingspace</th>\n",
       "      <th>carports-2ormore</th>\n",
       "      <th>sinkingarage</th>\n",
       "    </tr>\n",
       "  </thead>\n",
       "  <tbody>\n",
       "    <tr>\n",
       "      <th>1</th>\n",
       "      <td>1</td>\n",
       "      <td>711000</td>\n",
       "      <td>Modern, Hip, &amp; Bright! This beautifully mainta...</td>\n",
       "      <td>Condo</td>\n",
       "      <td>2016.0</td>\n",
       "      <td>Central</td>\n",
       "      <td>Air Conditioning, Central</td>\n",
       "      <td>Covered</td>\n",
       "      <td>NaN</td>\n",
       "      <td>2</td>\n",
       "      <td>...</td>\n",
       "      <td>False</td>\n",
       "      <td>False</td>\n",
       "      <td>False</td>\n",
       "      <td>False</td>\n",
       "      <td>False</td>\n",
       "      <td>False</td>\n",
       "      <td>False</td>\n",
       "      <td>False</td>\n",
       "      <td>False</td>\n",
       "      <td>False</td>\n",
       "    </tr>\n",
       "    <tr>\n",
       "      <th>5</th>\n",
       "      <td>5</td>\n",
       "      <td>196000</td>\n",
       "      <td>HUD Home Opportunity. This 2 Bedroom/ 2 Bath h...</td>\n",
       "      <td>VacantLand</td>\n",
       "      <td>1973.0</td>\n",
       "      <td>Other</td>\n",
       "      <td>Central</td>\n",
       "      <td>Garage - Attached, Covered</td>\n",
       "      <td>NaN</td>\n",
       "      <td>NaN</td>\n",
       "      <td>...</td>\n",
       "      <td>False</td>\n",
       "      <td>False</td>\n",
       "      <td>False</td>\n",
       "      <td>False</td>\n",
       "      <td>False</td>\n",
       "      <td>False</td>\n",
       "      <td>False</td>\n",
       "      <td>False</td>\n",
       "      <td>False</td>\n",
       "      <td>False</td>\n",
       "    </tr>\n",
       "    <tr>\n",
       "      <th>9</th>\n",
       "      <td>9</td>\n",
       "      <td>432000</td>\n",
       "      <td>Live in the heart of West Hollywood at one of ...</td>\n",
       "      <td>Condo</td>\n",
       "      <td>1973.0</td>\n",
       "      <td>Central</td>\n",
       "      <td>Central Air</td>\n",
       "      <td>0 spaces</td>\n",
       "      <td>NaN</td>\n",
       "      <td>0</td>\n",
       "      <td>...</td>\n",
       "      <td>False</td>\n",
       "      <td>False</td>\n",
       "      <td>False</td>\n",
       "      <td>False</td>\n",
       "      <td>False</td>\n",
       "      <td>False</td>\n",
       "      <td>False</td>\n",
       "      <td>False</td>\n",
       "      <td>False</td>\n",
       "      <td>False</td>\n",
       "    </tr>\n",
       "    <tr>\n",
       "      <th>12</th>\n",
       "      <td>12</td>\n",
       "      <td>686000</td>\n",
       "      <td>GREAT LOCATION - Near USC and L A Coliseum.  2...</td>\n",
       "      <td>Unknown</td>\n",
       "      <td>1906.0</td>\n",
       "      <td>NaN</td>\n",
       "      <td>NaN</td>\n",
       "      <td>Garage</td>\n",
       "      <td>NaN</td>\n",
       "      <td>NaN</td>\n",
       "      <td>...</td>\n",
       "      <td>False</td>\n",
       "      <td>False</td>\n",
       "      <td>False</td>\n",
       "      <td>False</td>\n",
       "      <td>False</td>\n",
       "      <td>False</td>\n",
       "      <td>False</td>\n",
       "      <td>False</td>\n",
       "      <td>False</td>\n",
       "      <td>False</td>\n",
       "    </tr>\n",
       "    <tr>\n",
       "      <th>14</th>\n",
       "      <td>14</td>\n",
       "      <td>326000</td>\n",
       "      <td>Smartsville, CA ~ Commute? No problem! This ho...</td>\n",
       "      <td>MobileManufactured</td>\n",
       "      <td>2005.0</td>\n",
       "      <td>Central</td>\n",
       "      <td>Central Air, Ceiling Fan(s)</td>\n",
       "      <td>Off-street</td>\n",
       "      <td>NaN</td>\n",
       "      <td>3</td>\n",
       "      <td>...</td>\n",
       "      <td>False</td>\n",
       "      <td>False</td>\n",
       "      <td>False</td>\n",
       "      <td>False</td>\n",
       "      <td>False</td>\n",
       "      <td>False</td>\n",
       "      <td>False</td>\n",
       "      <td>False</td>\n",
       "      <td>False</td>\n",
       "      <td>False</td>\n",
       "    </tr>\n",
       "    <tr>\n",
       "      <th>...</th>\n",
       "      <td>...</td>\n",
       "      <td>...</td>\n",
       "      <td>...</td>\n",
       "      <td>...</td>\n",
       "      <td>...</td>\n",
       "      <td>...</td>\n",
       "      <td>...</td>\n",
       "      <td>...</td>\n",
       "      <td>...</td>\n",
       "      <td>...</td>\n",
       "      <td>...</td>\n",
       "      <td>...</td>\n",
       "      <td>...</td>\n",
       "      <td>...</td>\n",
       "      <td>...</td>\n",
       "      <td>...</td>\n",
       "      <td>...</td>\n",
       "      <td>...</td>\n",
       "      <td>...</td>\n",
       "      <td>...</td>\n",
       "      <td>...</td>\n",
       "    </tr>\n",
       "    <tr>\n",
       "      <th>37418</th>\n",
       "      <td>37418</td>\n",
       "      <td>427000</td>\n",
       "      <td>Gated Complex W/ Large Common Courtyard Area, ...</td>\n",
       "      <td>Condo</td>\n",
       "      <td>1982.0</td>\n",
       "      <td>Central</td>\n",
       "      <td>Whole House Fan</td>\n",
       "      <td>Garage</td>\n",
       "      <td>NaN</td>\n",
       "      <td>2</td>\n",
       "      <td>...</td>\n",
       "      <td>False</td>\n",
       "      <td>False</td>\n",
       "      <td>False</td>\n",
       "      <td>False</td>\n",
       "      <td>False</td>\n",
       "      <td>False</td>\n",
       "      <td>False</td>\n",
       "      <td>False</td>\n",
       "      <td>False</td>\n",
       "      <td>False</td>\n",
       "    </tr>\n",
       "    <tr>\n",
       "      <th>37423</th>\n",
       "      <td>37423</td>\n",
       "      <td>687000</td>\n",
       "      <td>Prime Location in LA. Center of Mid-Wilshire. ...</td>\n",
       "      <td>Condo</td>\n",
       "      <td>2007.0</td>\n",
       "      <td>Central</td>\n",
       "      <td>Central Air</td>\n",
       "      <td>Garage - Two Door</td>\n",
       "      <td>NaN</td>\n",
       "      <td>3</td>\n",
       "      <td>...</td>\n",
       "      <td>False</td>\n",
       "      <td>False</td>\n",
       "      <td>False</td>\n",
       "      <td>False</td>\n",
       "      <td>False</td>\n",
       "      <td>False</td>\n",
       "      <td>False</td>\n",
       "      <td>False</td>\n",
       "      <td>False</td>\n",
       "      <td>False</td>\n",
       "    </tr>\n",
       "    <tr>\n",
       "      <th>37424</th>\n",
       "      <td>37424</td>\n",
       "      <td>808000</td>\n",
       "      <td>In the heart of the city, this two-bedroom con...</td>\n",
       "      <td>Condo</td>\n",
       "      <td>1963.0</td>\n",
       "      <td>Electric</td>\n",
       "      <td>NaN</td>\n",
       "      <td>Attached, Enclosed, Garage Door Opener, Interi...</td>\n",
       "      <td>NaN</td>\n",
       "      <td>2</td>\n",
       "      <td>...</td>\n",
       "      <td>False</td>\n",
       "      <td>False</td>\n",
       "      <td>False</td>\n",
       "      <td>False</td>\n",
       "      <td>False</td>\n",
       "      <td>False</td>\n",
       "      <td>False</td>\n",
       "      <td>False</td>\n",
       "      <td>False</td>\n",
       "      <td>False</td>\n",
       "    </tr>\n",
       "    <tr>\n",
       "      <th>37430</th>\n",
       "      <td>37430</td>\n",
       "      <td>942000</td>\n",
       "      <td>Great Investment Opportunity!!!! Four Unit El ...</td>\n",
       "      <td>MultiFamily</td>\n",
       "      <td>1940.0</td>\n",
       "      <td>Wall</td>\n",
       "      <td>NaN</td>\n",
       "      <td>Covered</td>\n",
       "      <td>NaN</td>\n",
       "      <td>8</td>\n",
       "      <td>...</td>\n",
       "      <td>False</td>\n",
       "      <td>False</td>\n",
       "      <td>False</td>\n",
       "      <td>False</td>\n",
       "      <td>False</td>\n",
       "      <td>False</td>\n",
       "      <td>False</td>\n",
       "      <td>False</td>\n",
       "      <td>False</td>\n",
       "      <td>False</td>\n",
       "    </tr>\n",
       "    <tr>\n",
       "      <th>37435</th>\n",
       "      <td>37435</td>\n",
       "      <td>833000</td>\n",
       "      <td>NaN</td>\n",
       "      <td>Condo</td>\n",
       "      <td>1989.0</td>\n",
       "      <td>Central</td>\n",
       "      <td>Central Air</td>\n",
       "      <td>Garage</td>\n",
       "      <td>NaN</td>\n",
       "      <td>2</td>\n",
       "      <td>...</td>\n",
       "      <td>False</td>\n",
       "      <td>False</td>\n",
       "      <td>False</td>\n",
       "      <td>False</td>\n",
       "      <td>False</td>\n",
       "      <td>False</td>\n",
       "      <td>False</td>\n",
       "      <td>False</td>\n",
       "      <td>False</td>\n",
       "      <td>False</td>\n",
       "    </tr>\n",
       "  </tbody>\n",
       "</table>\n",
       "<p>11398 rows × 196 columns</p>\n",
       "</div>"
      ],
      "text/plain": [
       "          Id  Sold Price                                            Summary  \\\n",
       "1          1      711000  Modern, Hip, & Bright! This beautifully mainta...   \n",
       "5          5      196000  HUD Home Opportunity. This 2 Bedroom/ 2 Bath h...   \n",
       "9          9      432000  Live in the heart of West Hollywood at one of ...   \n",
       "12        12      686000  GREAT LOCATION - Near USC and L A Coliseum.  2...   \n",
       "14        14      326000  Smartsville, CA ~ Commute? No problem! This ho...   \n",
       "...      ...         ...                                                ...   \n",
       "37418  37418      427000  Gated Complex W/ Large Common Courtyard Area, ...   \n",
       "37423  37423      687000  Prime Location in LA. Center of Mid-Wilshire. ...   \n",
       "37424  37424      808000  In the heart of the city, this two-bedroom con...   \n",
       "37430  37430      942000  Great Investment Opportunity!!!! Four Unit El ...   \n",
       "37435  37435      833000                                                NaN   \n",
       "\n",
       "                     Type  Year built   Heating                      Cooling  \\\n",
       "1                   Condo      2016.0   Central    Air Conditioning, Central   \n",
       "5              VacantLand      1973.0     Other                      Central   \n",
       "9                   Condo      1973.0   Central                  Central Air   \n",
       "12                Unknown      1906.0       NaN                          NaN   \n",
       "14     MobileManufactured      2005.0   Central  Central Air, Ceiling Fan(s)   \n",
       "...                   ...         ...       ...                          ...   \n",
       "37418               Condo      1982.0   Central              Whole House Fan   \n",
       "37423               Condo      2007.0   Central                  Central Air   \n",
       "37424               Condo      1963.0  Electric                          NaN   \n",
       "37430         MultiFamily      1940.0      Wall                          NaN   \n",
       "37435               Condo      1989.0   Central                  Central Air   \n",
       "\n",
       "                                                 Parking  Lot Bedrooms  ...  \\\n",
       "1                                                Covered  NaN        2  ...   \n",
       "5                             Garage - Attached, Covered  NaN      NaN  ...   \n",
       "9                                               0 spaces  NaN        0  ...   \n",
       "12                                                Garage  NaN      NaN  ...   \n",
       "14                                            Off-street  NaN        3  ...   \n",
       "...                                                  ...  ...      ...  ...   \n",
       "37418                                             Garage  NaN        2  ...   \n",
       "37423                                  Garage - Two Door  NaN        3  ...   \n",
       "37424  Attached, Enclosed, Garage Door Opener, Interi...  NaN        2  ...   \n",
       "37430                                            Covered  NaN        8  ...   \n",
       "37435                                             Garage  NaN        2  ...   \n",
       "\n",
       "       over20spaces  drivethrugarage  uncoveredparkspaces2+  morethanonespace  \\\n",
       "1             False            False                  False             False   \n",
       "5             False            False                  False             False   \n",
       "9             False            False                  False             False   \n",
       "12            False            False                  False             False   \n",
       "14            False            False                  False             False   \n",
       "...             ...              ...                    ...               ...   \n",
       "37418         False            False                  False             False   \n",
       "37423         False            False                  False             False   \n",
       "37424         False            False                  False             False   \n",
       "37430         False            False                  False             False   \n",
       "37435         False            False                  False             False   \n",
       "\n",
       "       rvparking  unc#3 detachedgarage  uncoveredparkingspace  \\\n",
       "1          False  False          False                  False   \n",
       "5          False  False          False                  False   \n",
       "9          False  False          False                  False   \n",
       "12         False  False          False                  False   \n",
       "14         False  False          False                  False   \n",
       "...          ...    ...            ...                    ...   \n",
       "37418      False  False          False                  False   \n",
       "37423      False  False          False                  False   \n",
       "37424      False  False          False                  False   \n",
       "37430      False  False          False                  False   \n",
       "37435      False  False          False                  False   \n",
       "\n",
       "       carports-2ormore sinkingarage  \n",
       "1                 False        False  \n",
       "5                 False        False  \n",
       "9                 False        False  \n",
       "12                False        False  \n",
       "14                False        False  \n",
       "...                 ...          ...  \n",
       "37418             False        False  \n",
       "37423             False        False  \n",
       "37424             False        False  \n",
       "37430             False        False  \n",
       "37435             False        False  \n",
       "\n",
       "[11398 rows x 196 columns]"
      ]
     },
     "execution_count": 79,
     "metadata": {},
     "output_type": "execute_result"
    }
   ],
   "source": [
    "train[train[\"Lot\"].isna()]"
   ]
  },
  {
   "cell_type": "code",
   "execution_count": 80,
   "id": "549bad94",
   "metadata": {},
   "outputs": [
    {
     "ename": "KeyError",
     "evalue": "\"None of [Index(['t1', 't2', 't3', 't4', 't5', 't6'], dtype='object')] are in the [columns]\"",
     "output_type": "error",
     "traceback": [
      "\u001b[0;31m---------------------------------------------------------------------------\u001b[0m",
      "\u001b[0;31mKeyError\u001b[0m                                  Traceback (most recent call last)",
      "\u001b[0;32m/var/folders/th/t98nglgj6kg4l80728dxcx6m0000gn/T/ipykernel_52031/363617014.py\u001b[0m in \u001b[0;36m<module>\u001b[0;34m\u001b[0m\n\u001b[0;32m----> 1\u001b[0;31m \u001b[0mtrain\u001b[0m\u001b[0;34m[\u001b[0m\u001b[0;34m[\u001b[0m\u001b[0;34m\"t1\"\u001b[0m\u001b[0;34m,\u001b[0m \u001b[0;34m\"t2\"\u001b[0m\u001b[0;34m,\u001b[0m \u001b[0;34m\"t3\"\u001b[0m\u001b[0;34m,\u001b[0m \u001b[0;34m\"t4\"\u001b[0m\u001b[0;34m,\u001b[0m \u001b[0;34m\"t5\"\u001b[0m\u001b[0;34m,\u001b[0m \u001b[0;34m\"t6\"\u001b[0m\u001b[0;34m]\u001b[0m\u001b[0;34m]\u001b[0m\u001b[0;34m.\u001b[0m\u001b[0mcorr\u001b[0m\u001b[0;34m(\u001b[0m\u001b[0;34m)\u001b[0m\u001b[0;34m\u001b[0m\u001b[0;34m\u001b[0m\u001b[0m\n\u001b[0m",
      "\u001b[0;32m/opt/anaconda3/envs/kaggle_soa_22/lib/python3.7/site-packages/pandas/core/frame.py\u001b[0m in \u001b[0;36m__getitem__\u001b[0;34m(self, key)\u001b[0m\n\u001b[1;32m   3462\u001b[0m             \u001b[0;32mif\u001b[0m \u001b[0mis_iterator\u001b[0m\u001b[0;34m(\u001b[0m\u001b[0mkey\u001b[0m\u001b[0;34m)\u001b[0m\u001b[0;34m:\u001b[0m\u001b[0;34m\u001b[0m\u001b[0;34m\u001b[0m\u001b[0m\n\u001b[1;32m   3463\u001b[0m                 \u001b[0mkey\u001b[0m \u001b[0;34m=\u001b[0m \u001b[0mlist\u001b[0m\u001b[0;34m(\u001b[0m\u001b[0mkey\u001b[0m\u001b[0;34m)\u001b[0m\u001b[0;34m\u001b[0m\u001b[0;34m\u001b[0m\u001b[0m\n\u001b[0;32m-> 3464\u001b[0;31m             \u001b[0mindexer\u001b[0m \u001b[0;34m=\u001b[0m \u001b[0mself\u001b[0m\u001b[0;34m.\u001b[0m\u001b[0mloc\u001b[0m\u001b[0;34m.\u001b[0m\u001b[0m_get_listlike_indexer\u001b[0m\u001b[0;34m(\u001b[0m\u001b[0mkey\u001b[0m\u001b[0;34m,\u001b[0m \u001b[0maxis\u001b[0m\u001b[0;34m=\u001b[0m\u001b[0;36m1\u001b[0m\u001b[0;34m)\u001b[0m\u001b[0;34m[\u001b[0m\u001b[0;36m1\u001b[0m\u001b[0;34m]\u001b[0m\u001b[0;34m\u001b[0m\u001b[0;34m\u001b[0m\u001b[0m\n\u001b[0m\u001b[1;32m   3465\u001b[0m \u001b[0;34m\u001b[0m\u001b[0m\n\u001b[1;32m   3466\u001b[0m         \u001b[0;31m# take() does not accept boolean indexers\u001b[0m\u001b[0;34m\u001b[0m\u001b[0;34m\u001b[0m\u001b[0;34m\u001b[0m\u001b[0m\n",
      "\u001b[0;32m/opt/anaconda3/envs/kaggle_soa_22/lib/python3.7/site-packages/pandas/core/indexing.py\u001b[0m in \u001b[0;36m_get_listlike_indexer\u001b[0;34m(self, key, axis)\u001b[0m\n\u001b[1;32m   1312\u001b[0m             \u001b[0mkeyarr\u001b[0m\u001b[0;34m,\u001b[0m \u001b[0mindexer\u001b[0m\u001b[0;34m,\u001b[0m \u001b[0mnew_indexer\u001b[0m \u001b[0;34m=\u001b[0m \u001b[0max\u001b[0m\u001b[0;34m.\u001b[0m\u001b[0m_reindex_non_unique\u001b[0m\u001b[0;34m(\u001b[0m\u001b[0mkeyarr\u001b[0m\u001b[0;34m)\u001b[0m\u001b[0;34m\u001b[0m\u001b[0;34m\u001b[0m\u001b[0m\n\u001b[1;32m   1313\u001b[0m \u001b[0;34m\u001b[0m\u001b[0m\n\u001b[0;32m-> 1314\u001b[0;31m         \u001b[0mself\u001b[0m\u001b[0;34m.\u001b[0m\u001b[0m_validate_read_indexer\u001b[0m\u001b[0;34m(\u001b[0m\u001b[0mkeyarr\u001b[0m\u001b[0;34m,\u001b[0m \u001b[0mindexer\u001b[0m\u001b[0;34m,\u001b[0m \u001b[0maxis\u001b[0m\u001b[0;34m)\u001b[0m\u001b[0;34m\u001b[0m\u001b[0;34m\u001b[0m\u001b[0m\n\u001b[0m\u001b[1;32m   1315\u001b[0m \u001b[0;34m\u001b[0m\u001b[0m\n\u001b[1;32m   1316\u001b[0m         if needs_i8_conversion(ax.dtype) or isinstance(\n",
      "\u001b[0;32m/opt/anaconda3/envs/kaggle_soa_22/lib/python3.7/site-packages/pandas/core/indexing.py\u001b[0m in \u001b[0;36m_validate_read_indexer\u001b[0;34m(self, key, indexer, axis)\u001b[0m\n\u001b[1;32m   1372\u001b[0m                 \u001b[0;32mif\u001b[0m \u001b[0muse_interval_msg\u001b[0m\u001b[0;34m:\u001b[0m\u001b[0;34m\u001b[0m\u001b[0;34m\u001b[0m\u001b[0m\n\u001b[1;32m   1373\u001b[0m                     \u001b[0mkey\u001b[0m \u001b[0;34m=\u001b[0m \u001b[0mlist\u001b[0m\u001b[0;34m(\u001b[0m\u001b[0mkey\u001b[0m\u001b[0;34m)\u001b[0m\u001b[0;34m\u001b[0m\u001b[0;34m\u001b[0m\u001b[0m\n\u001b[0;32m-> 1374\u001b[0;31m                 \u001b[0;32mraise\u001b[0m \u001b[0mKeyError\u001b[0m\u001b[0;34m(\u001b[0m\u001b[0;34mf\"None of [{key}] are in the [{axis_name}]\"\u001b[0m\u001b[0;34m)\u001b[0m\u001b[0;34m\u001b[0m\u001b[0;34m\u001b[0m\u001b[0m\n\u001b[0m\u001b[1;32m   1375\u001b[0m \u001b[0;34m\u001b[0m\u001b[0m\n\u001b[1;32m   1376\u001b[0m             \u001b[0mnot_found\u001b[0m \u001b[0;34m=\u001b[0m \u001b[0mlist\u001b[0m\u001b[0;34m(\u001b[0m\u001b[0mensure_index\u001b[0m\u001b[0;34m(\u001b[0m\u001b[0mkey\u001b[0m\u001b[0;34m)\u001b[0m\u001b[0;34m[\u001b[0m\u001b[0mmissing_mask\u001b[0m\u001b[0;34m.\u001b[0m\u001b[0mnonzero\u001b[0m\u001b[0;34m(\u001b[0m\u001b[0;34m)\u001b[0m\u001b[0;34m[\u001b[0m\u001b[0;36m0\u001b[0m\u001b[0;34m]\u001b[0m\u001b[0;34m]\u001b[0m\u001b[0;34m.\u001b[0m\u001b[0munique\u001b[0m\u001b[0;34m(\u001b[0m\u001b[0;34m)\u001b[0m\u001b[0;34m)\u001b[0m\u001b[0;34m\u001b[0m\u001b[0;34m\u001b[0m\u001b[0m\n",
      "\u001b[0;31mKeyError\u001b[0m: \"None of [Index(['t1', 't2', 't3', 't4', 't5', 't6'], dtype='object')] are in the [columns]\""
     ]
    }
   ],
   "source": [
    "train[[\"t1\", \"t2\", \"t3\", \"t4\", \"t5\", \"t6\"]].corr()"
   ]
  },
  {
   "cell_type": "code",
   "execution_count": null,
   "id": "ea86668a",
   "metadata": {},
   "outputs": [],
   "source": [
    "train[\"h3\"].value_counts()"
   ]
  },
  {
   "cell_type": "code",
   "execution_count": null,
   "id": "10ffe0d5",
   "metadata": {
    "scrolled": true
   },
   "outputs": [],
   "source": [
    "train[\"Type\"].str.lower().str.replace(\" \", \"\").unique()\n",
    "# singlefamily\n",
    "# condo, duplex, triplex, multifamily\n",
    "# new\n",
    "# apartment\n",
    "# luxury, penthouse, rise\n",
    "# vacant"
   ]
  },
  {
   "cell_type": "code",
   "execution_count": null,
   "id": "b0e5a69d",
   "metadata": {},
   "outputs": [],
   "source": [
    "train[\"Type\"].str.lower().str.replace(\" \", \"\").value_counts().head(50)"
   ]
  },
  {
   "cell_type": "code",
   "execution_count": null,
   "id": "d3301886",
   "metadata": {},
   "outputs": [],
   "source": [
    "train.median()[\"Sold Price\"]"
   ]
  },
  {
   "cell_type": "markdown",
   "id": "82bef8fd",
   "metadata": {},
   "source": [
    "Impute missing values for certain numeric variables"
   ]
  },
  {
   "cell_type": "markdown",
   "id": "dcd3abf2",
   "metadata": {},
   "source": [
    "# Data Pre-Processing"
   ]
  },
  {
   "cell_type": "code",
   "execution_count": 91,
   "id": "d445f121",
   "metadata": {
    "scrolled": true
   },
   "outputs": [
    {
     "name": "stderr",
     "output_type": "stream",
     "text": [
      "/opt/anaconda3/envs/kaggle_soa_22/lib/python3.7/site-packages/ipykernel_launcher.py:4: FutureWarning: Dropping of nuisance columns in DataFrame reductions (with 'numeric_only=None') is deprecated; in a future version this will raise TypeError.  Select only valid columns before calling the reduction.\n",
      "  after removing the cwd from sys.path.\n",
      "/opt/anaconda3/envs/kaggle_soa_22/lib/python3.7/site-packages/ipykernel_launcher.py:5: FutureWarning: Dropping of nuisance columns in DataFrame reductions (with 'numeric_only=None') is deprecated; in a future version this will raise TypeError.  Select only valid columns before calling the reduction.\n",
      "  \"\"\"\n"
     ]
    }
   ],
   "source": [
    "parking_types_train = train[\"Parking\"].str.lower().str.replace(\" \", \"\").str.split(\",\").explode().value_counts()\n",
    "heating_types_train = train[\"Heating\"].str.lower().str.replace(\" \", \"\").str.split(\",\").explode().value_counts()\n",
    "\n",
    "train_medians = train.median()\n",
    "test_medians = test.median()\n",
    "\n",
    "def preprocess_data(df, meds, ptypes_train, htypes_train):\n",
    "    df[\"Total interior livable area\"] = df[\"Total interior livable area\"].fillna(meds[\"Total interior livable area\"])\n",
    "    \n",
    "    df[\"Bathrooms\"] = df[\"Bathrooms\"].fillna(meds[\"Bathrooms\"])\n",
    "    \n",
    "    df[\"Total spaces\"] = df[\"Total spaces\"].fillna(meds[\"Total spaces\"])\n",
    "    df[\"Total spaces\"] = np.abs(np.minimum(df[\"Total spaces\"], 30))\n",
    "    \n",
    "    df[\"High School Score\"] = df[\"High School Score\"].fillna(meds[\"High School Score\"])\n",
    "    df[\"High School Distance\"] = df[\"High School Distance\"].fillna(meds[\"High School Distance\"])\n",
    "\n",
    "    \n",
    "    df[\"Year built\"] = df[\"Year built\"].fillna(meds[\"Year built\"])\n",
    "    df[\"Year built\"] = np.maximum(df[\"Year built\"], 1870)\n",
    "    df[\"Year built\"] = np.minimum(df[\"Year built\"], 2022)\n",
    "    \n",
    "    df[\"state_ind\"] = df[\"State\"] == \"CA\"\n",
    "    \n",
    "    df[\"Garage spaces\"] = df[\"Garage spaces\"].fillna(meds[\"Garage spaces\"])\n",
    "    df[\"Garage spaces\"] = np.maximum(df[\"Garage spaces\"], 0)\n",
    "    df[\"Garage spaces\"] = np.minimum(df[\"Garage spaces\"], 20)\n",
    "    \n",
    "    df[\"Elementary School Score\"] = df[\"Elementary School Score\"].fillna(meds[\"Elementary School Score\"])\n",
    "    \n",
    "    df[\"Full bathrooms\"] = df[\"Full bathrooms\"].fillna(meds[\"Full bathrooms\"])\n",
    "\n",
    "    df[\"t1\"] = df[\"Type\"].str.lower().str.replace(\" \", \"\").str.contains(\"singlefamily\")\n",
    "    df[\"t2\"] = df[\"Type\"].str.lower().str.replace(\" \", \"\").str.contains(\"condo\")\n",
    "    df[\"t3\"] = df[\"Type\"].str.lower().str.replace(\" \", \"\").str.contains(\"apartment\")\n",
    "    df[\"t4\"] = df[\"Type\"].str.lower().str.replace(\" \", \"\").str.contains(\"vacant\")\n",
    "    df[\"t5\"] = (df[\"Type\"].str.lower().str.replace(\" \", \"\").str.contains(\"plex\")  |\n",
    "                df[\"Type\"].str.lower().str.replace(\" \", \"\").str.contains(\"multifamily\"))\n",
    "    df[\"t6\"] = df[\"Type\"].str.lower().str.replace(\" \", \"\").str.contains(\"townhouse\")\n",
    "    df[\"t7\"] = df[\"Type\"].str.lower().str.replace(\" \", \"\").str.contains(\"mobile\")\n",
    "    df[\"t8\"] = df[\"Type\"].str.lower().str.replace(\" \", \"\").str.contains(\"unknown\")\n",
    "\n",
    "    \n",
    "    # Doesn't seem to matter which impute strategy I use\n",
    "    #df[\"l1\"] = df[\"Lot\"].fillna(meds[\"Lot\"])\n",
    "    df[\"l1\"] = df[\"Lot\"].fillna(0)\n",
    "    \n",
    "    for htype in htypes_train.index:\n",
    "        df[htype] = df[\"Heating\"].str.lower().str.replace(\" \", \"\").str.contains(htype, na=False)\n",
    "    \n",
    "    for ptype in ptypes_train.index:\n",
    "        df[ptype] = df[\"Parking\"].str.lower().str.replace(\" \", \"\").str.contains(ptype, na=False)\n",
    "\n",
    "    \n",
    "    return df"
   ]
  },
  {
   "cell_type": "code",
   "execution_count": 92,
   "id": "30638cf0",
   "metadata": {},
   "outputs": [
    {
     "name": "stderr",
     "output_type": "stream",
     "text": [
      "/opt/anaconda3/envs/kaggle_soa_22/lib/python3.7/site-packages/ipykernel_launcher.py:49: UserWarning: This pattern has match groups. To actually get the groups, use str.extract.\n",
      "/opt/anaconda3/envs/kaggle_soa_22/lib/python3.7/site-packages/ipykernel_launcher.py:52: UserWarning: This pattern has match groups. To actually get the groups, use str.extract.\n"
     ]
    }
   ],
   "source": [
    "train = preprocess_data(train, train_medians, parking_types_train, heating_types_train)"
   ]
  },
  {
   "cell_type": "markdown",
   "id": "04181c10",
   "metadata": {},
   "source": [
    "Transform the target by logging it since it's got a long right tail"
   ]
  },
  {
   "cell_type": "code",
   "execution_count": 93,
   "id": "3b49eafd",
   "metadata": {},
   "outputs": [],
   "source": [
    "#y = np.log(train[\"Sold Price\"])\n",
    "y = train[\"Sold Price\"]"
   ]
  },
  {
   "cell_type": "code",
   "execution_count": 94,
   "id": "4c16237b",
   "metadata": {},
   "outputs": [],
   "source": [
    "pred_vars = [\"Listed Price\", \"Total interior livable area\", \"Bathrooms\", \n",
    "             \"Year built\", \"High School Score\", \"Garage spaces\", \"state_ind\", \n",
    "            \"Elementary School Score\", \"Full bathrooms\",\n",
    "            \"Total spaces\", \"High School Distance\", \"t1\", \"t2\", \"t3\", \"t4\", \"t5\", \"t6\", \"t7\", \"t8\",\n",
    "            \"l1\"] + list(parking_types_train.index) + list(heating_types_train.index)\n",
    "\n",
    "X = train[pred_vars]"
   ]
  },
  {
   "cell_type": "code",
   "execution_count": 95,
   "id": "e5d70d7f",
   "metadata": {},
   "outputs": [],
   "source": [
    "X_train, X_test, y_train, y_test = train_test_split(X, y, test_size=0.33, random_state=56)"
   ]
  },
  {
   "cell_type": "markdown",
   "id": "141fd6e1",
   "metadata": {},
   "source": [
    "# Models"
   ]
  },
  {
   "cell_type": "code",
   "execution_count": 59,
   "id": "8b6c3dd5",
   "metadata": {},
   "outputs": [],
   "source": [
    "params = {\"n_estimators\":60,\n",
    "          \"learning_rate\":0.1,\n",
    "          \"max_depth\":4,\n",
    "          \"random_state\":56,\n",
    "          \"subsample\":1,\n",
    "          'max_features':None, # None or sqrt\n",
    "          \"loss\":'squared_error'}"
   ]
  },
  {
   "cell_type": "code",
   "execution_count": 54,
   "id": "ce971fbc",
   "metadata": {},
   "outputs": [],
   "source": [
    "model = GradientBoostingRegressor().set_params(**params)"
   ]
  },
  {
   "cell_type": "code",
   "execution_count": 55,
   "id": "8128611f",
   "metadata": {},
   "outputs": [
    {
     "data": {
      "text/plain": [
       "GradientBoostingRegressor(max_depth=4, n_estimators=200, random_state=56,\n",
       "                          subsample=1)"
      ]
     },
     "execution_count": 55,
     "metadata": {},
     "output_type": "execute_result"
    }
   ],
   "source": [
    "model.fit(X_train, y_train)"
   ]
  },
  {
   "cell_type": "code",
   "execution_count": 56,
   "id": "49b7648f",
   "metadata": {
    "scrolled": true
   },
   "outputs": [
    {
     "data": {
      "text/plain": [
       "0.8387597163798318"
      ]
     },
     "execution_count": 56,
     "metadata": {},
     "output_type": "execute_result"
    }
   ],
   "source": [
    "model.score(X_test, y_test)\n",
    "# 0.8387597163798318"
   ]
  },
  {
   "cell_type": "code",
   "execution_count": 57,
   "id": "2ff077db",
   "metadata": {},
   "outputs": [
    {
     "data": {
      "text/plain": [
       "<AxesSubplot:>"
      ]
     },
     "execution_count": 57,
     "metadata": {},
     "output_type": "execute_result"
    },
    {
     "data": {
      "image/png": "[encoded data removed]",
      "text/plain": [
       "<Figure size 432x288 with 1 Axes>"
      ]
     },
     "metadata": {
      "needs_background": "light"
     },
     "output_type": "display_data"
    }
   ],
   "source": [
    "feat_importances = pd.Series(model.feature_importances_, index=model.feature_names_in_)\n",
    "feat_importances.nlargest(30).plot(kind='barh')"
   ]
  },
  {
   "cell_type": "code",
   "execution_count": 58,
   "id": "0895ce6a",
   "metadata": {
    "scrolled": false
   },
   "outputs": [
    {
     "data": {
      "image/png": "[encoded data removed]",
      "text/plain": [
       "<Figure size 432x432 with 1 Axes>"
      ]
     },
     "metadata": {
      "needs_background": "light"
     },
     "output_type": "display_data"
    },
    {
     "name": "stdout",
     "output_type": "stream",
     "text": [
      "409639993723.1346\n"
     ]
    }
   ],
   "source": [
    "test_score = np.zeros((params[\"n_estimators\"],), dtype=np.float64)\n",
    "for i, y_pred in enumerate(model.staged_predict(X_test)):\n",
    "    test_score[i] = model.loss_(y_test, y_pred)\n",
    "\n",
    "fig = plt.figure(figsize=(6, 6))\n",
    "plt.subplot(1, 1, 1)\n",
    "plt.title(\"Deviance\")\n",
    "plt.plot(\n",
    "    np.arange(params[\"n_estimators\"]) + 1,\n",
    "    model.train_score_,\n",
    "    \"b-\",\n",
    "    label=\"Training Set Deviance\",\n",
    ")\n",
    "plt.plot(\n",
    "    np.arange(params[\"n_estimators\"]) + 1, test_score, \"r-\", label=\"Test Set Deviance\"\n",
    ")\n",
    "plt.legend(loc=\"upper right\")\n",
    "plt.xlabel(\"Boosting Iterations\")\n",
    "plt.ylabel(\"Deviance\")\n",
    "#plt.ylim(0.03, 0.06)\n",
    "plt.ylim(0.4e12, 0.5e12)\n",
    "fig.tight_layout()\n",
    "plt.show()\n",
    "print(np.min(test_score))\n",
    "\n",
    "# 409639993723.1346"
   ]
  },
  {
   "cell_type": "markdown",
   "id": "a1d0b6c6",
   "metadata": {},
   "source": [
    "# Hyperparameter Optimization"
   ]
  },
  {
   "cell_type": "code",
   "execution_count": 130,
   "id": "32147080",
   "metadata": {},
   "outputs": [],
   "source": [
    "BayesSearchCV?"
   ]
  },
  {
   "cell_type": "code",
   "execution_count": 135,
   "id": "e9863eb2",
   "metadata": {
    "scrolled": false
   },
   "outputs": [],
   "source": [
    "opt = BayesSearchCV(\n",
    "    GradientBoostingRegressor(random_state = 56,loss = 'squared_error'),\n",
    "    {\n",
    "        'n_estimators': (50, 1000),\n",
    "        'learning_rate': (1e-5, .9, 'log-uniform'),\n",
    "        'max_depth': (2, 6),  # integer valued parameter\n",
    "        'subsample': (0.05, 1.0, 'uniform')\n",
    "    },\n",
    "    n_iter = 3,\n",
    "    cv = 3,\n",
    "    verbose = 1\n",
    ")"
   ]
  },
  {
   "cell_type": "code",
   "execution_count": 136,
   "id": "b8a0872f",
   "metadata": {
    "collapsed": true
   },
   "outputs": [
    {
     "name": "stdout",
     "output_type": "stream",
     "text": [
      "Fitting 3 folds for each of 1 candidates, totalling 3 fits\n",
      "[CV] END learning_rate=0.014131016106847008, max_depth=5, n_estimators=877, subsample=0.6061170574516013; total time=  11.3s\n",
      "[CV] END learning_rate=0.014131016106847008, max_depth=5, n_estimators=877, subsample=0.6061170574516013; total time=  12.2s\n",
      "[CV] END learning_rate=0.014131016106847008, max_depth=5, n_estimators=877, subsample=0.6061170574516013; total time=  12.1s\n",
      "Fitting 3 folds for each of 1 candidates, totalling 3 fits\n",
      "[CV] END learning_rate=0.0057898007469251046, max_depth=2, n_estimators=94, subsample=0.8073876549562713; total time=   0.7s\n",
      "[CV] END learning_rate=0.0057898007469251046, max_depth=2, n_estimators=94, subsample=0.8073876549562713; total time=   0.7s\n",
      "[CV] END learning_rate=0.0057898007469251046, max_depth=2, n_estimators=94, subsample=0.8073876549562713; total time=   0.7s\n",
      "Fitting 3 folds for each of 1 candidates, totalling 3 fits\n",
      "[CV] END learning_rate=0.00016189871380357706, max_depth=6, n_estimators=614, subsample=0.4873660769656008; total time=   8.5s\n",
      "[CV] END learning_rate=0.00016189871380357706, max_depth=6, n_estimators=614, subsample=0.4873660769656008; total time=   8.2s\n",
      "[CV] END learning_rate=0.00016189871380357706, max_depth=6, n_estimators=614, subsample=0.4873660769656008; total time=   8.9s\n"
     ]
    },
    {
     "data": {
      "text/plain": [
       "BayesSearchCV(cv=3, estimator=GradientBoostingRegressor(random_state=56),\n",
       "              n_iter=3,\n",
       "              search_spaces={'learning_rate': (1e-05, 0.9, 'log-uniform'),\n",
       "                             'max_depth': (2, 6), 'n_estimators': (50, 1000),\n",
       "                             'subsample': (0.05, 1.0, 'uniform')},\n",
       "              verbose=2)"
      ]
     },
     "execution_count": 136,
     "metadata": {},
     "output_type": "execute_result"
    }
   ],
   "source": [
    "opt.fit(X_train, y_train)"
   ]
  },
  {
   "cell_type": "code",
   "execution_count": 35,
   "id": "3802e7e4",
   "metadata": {
    "scrolled": true
   },
   "outputs": [
    {
     "data": {
      "text/plain": [
       "0.9301608507840881"
      ]
     },
     "execution_count": 35,
     "metadata": {},
     "output_type": "execute_result"
    }
   ],
   "source": [
    "opt.score(X_test, y_test)\n",
    "\n",
    "# 0.930401 with no subsampling\n",
    "# 0.929161025403613 with subsampling, 50 iterations\n"
   ]
  },
  {
   "cell_type": "code",
   "execution_count": 36,
   "id": "2ba8da00",
   "metadata": {},
   "outputs": [
    {
     "data": {
      "text/plain": [
       "(4, 0.012474997352881075, 614, 0.3871953641896431)"
      ]
     },
     "execution_count": 36,
     "metadata": {},
     "output_type": "execute_result"
    }
   ],
   "source": [
    "opt.best_estimator_.max_depth, opt.best_estimator_.learning_rate, opt.best_estimator_.n_estimators, opt.best_estimator_.subsample\n",
    "\n",
    "# (4, 0.019076781177538346, 500, 1.0) with no subsampling\n",
    "# (5, 0.011876032175591269, 376, 0.44775503528274996) with subsampling (50 iterations)\n"
   ]
  },
  {
   "cell_type": "code",
   "execution_count": 38,
   "id": "ac3120a1",
   "metadata": {},
   "outputs": [],
   "source": [
    "params[\"max_depth\"] = opt.best_estimator_.max_depth\n",
    "params[\"learning_rate\"] = opt.best_estimator_.learning_rate\n",
    "params[\"n_estimators\"] = opt.best_estimator_.n_estimators\n",
    "params[\"subsample\"] = opt.best_estimator_.subsample"
   ]
  },
  {
   "cell_type": "code",
   "execution_count": 99,
   "id": "26e7db3a",
   "metadata": {},
   "outputs": [],
   "source": [
    "GradientBoostingRegressor?"
   ]
  },
  {
   "cell_type": "markdown",
   "id": "27540e2b",
   "metadata": {},
   "source": [
    "# Train final model\n",
    "Use all the data"
   ]
  },
  {
   "cell_type": "code",
   "execution_count": 96,
   "id": "2bdb60d2",
   "metadata": {},
   "outputs": [
    {
     "name": "stdout",
     "output_type": "stream",
     "text": [
      "{'n_estimators': 60, 'learning_rate': 0.1, 'max_depth': 4, 'random_state': 56, 'subsample': 1, 'max_features': None, 'loss': 'squared_error'}\n"
     ]
    }
   ],
   "source": [
    "print(params)"
   ]
  },
  {
   "cell_type": "code",
   "execution_count": 97,
   "id": "59e2e153",
   "metadata": {},
   "outputs": [],
   "source": [
    "model = GradientBoostingRegressor().set_params(**params).fit(X, y)"
   ]
  },
  {
   "cell_type": "markdown",
   "id": "6ddd7760",
   "metadata": {},
   "source": [
    "# Make Predictions"
   ]
  },
  {
   "cell_type": "markdown",
   "id": "9d0615a9",
   "metadata": {},
   "source": [
    "Do the same pre-processing on the test data that we do on the train data"
   ]
  },
  {
   "cell_type": "code",
   "execution_count": 98,
   "id": "0721cac6",
   "metadata": {},
   "outputs": [
    {
     "name": "stderr",
     "output_type": "stream",
     "text": [
      "/opt/anaconda3/envs/kaggle_soa_22/lib/python3.7/site-packages/ipykernel_launcher.py:49: UserWarning: This pattern has match groups. To actually get the groups, use str.extract.\n",
      "/opt/anaconda3/envs/kaggle_soa_22/lib/python3.7/site-packages/ipykernel_launcher.py:49: PerformanceWarning: DataFrame is highly fragmented.  This is usually the result of calling `frame.insert` many times, which has poor performance.  Consider joining all columns at once using pd.concat(axis=1) instead.  To get a de-fragmented frame, use `newframe = frame.copy()`\n",
      "/opt/anaconda3/envs/kaggle_soa_22/lib/python3.7/site-packages/ipykernel_launcher.py:52: PerformanceWarning: DataFrame is highly fragmented.  This is usually the result of calling `frame.insert` many times, which has poor performance.  Consider joining all columns at once using pd.concat(axis=1) instead.  To get a de-fragmented frame, use `newframe = frame.copy()`\n",
      "/opt/anaconda3/envs/kaggle_soa_22/lib/python3.7/site-packages/ipykernel_launcher.py:52: UserWarning: This pattern has match groups. To actually get the groups, use str.extract.\n"
     ]
    }
   ],
   "source": [
    "test = preprocess_data(test, train_medians, parking_types_train, heating_types_train)"
   ]
  },
  {
   "cell_type": "code",
   "execution_count": 99,
   "id": "9b3113ca",
   "metadata": {},
   "outputs": [],
   "source": [
    "test[\"Sold Price\"] = model.predict(test[pred_vars])"
   ]
  },
  {
   "cell_type": "code",
   "execution_count": 100,
   "id": "40e71847",
   "metadata": {},
   "outputs": [],
   "source": [
    "test[[\"Id\", \"Sold Price\"]].to_csv(\"../submission.csv\", index = False)"
   ]
  },
  {
   "cell_type": "markdown",
   "id": "6ae94457",
   "metadata": {},
   "source": [
    "# Ideas"
   ]
  },
  {
   "cell_type": "markdown",
   "id": "e6f9a171",
   "metadata": {},
   "source": [
    "Things to try out for the future:\n",
    " - Target Ideas:\n",
    "  - Target is log of the price\n",
    "  - Target is the actual dollar of sale price\n",
    "  - Target is the difference between the price and the list price"
   ]
  },
  {
   "cell_type": "code",
   "execution_count": 621,
   "id": "70d1183b",
   "metadata": {},
   "outputs": [
    {
     "data": {
      "text/plain": [
       "<AxesSubplot:>"
      ]
     },
     "execution_count": 621,
     "metadata": {},
     "output_type": "execute_result"
    },
    {
     "data": {
      "image/png": "[encoded data removed]",
      "text/plain": [
       "<Figure size 432x288 with 1 Axes>"
      ]
     },
     "metadata": {
      "needs_background": "light"
     },
     "output_type": "display_data"
    }
   ],
   "source": [
    "np.minimum(np.maximum(train[\"Sold Price\"] - train[\"Listed Price\"], -1e6), 1e6).hist()"
   ]
  },
  {
   "cell_type": "code",
   "execution_count": null,
   "id": "cbd26b6c",
   "metadata": {},
   "outputs": [],
   "source": []
  }
 ],
 "metadata": {
  "kernelspec": {
   "display_name": "Python 3 (ipykernel)",
   "language": "python",
   "name": "python3"
  },
  "language_info": {
   "codemirror_mode": {
    "name": "ipython",
    "version": 3
   },
   "file_extension": ".py",
   "mimetype": "text/x-python",
   "name": "python",
   "nbconvert_exporter": "python",
   "pygments_lexer": "ipython3",
   "version": "3.7.13"
  },
  "toc": {
   "base_numbering": 1,
   "nav_menu": {},
   "number_sections": true,
   "sideBar": true,
   "skip_h1_title": false,
   "title_cell": "Table of Contents",
   "title_sidebar": "Contents",
   "toc_cell": false,
   "toc_position": {
    "height": "calc(100% - 180px)",
    "left": "10px",
    "top": "150px",
    "width": "176.188px"
   },
   "toc_section_display": true,
   "toc_window_display": true
  }
 },
 "nbformat": 4,
 "nbformat_minor": 5
}
