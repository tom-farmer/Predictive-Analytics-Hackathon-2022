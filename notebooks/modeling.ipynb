{
 "cells": [
  {
   "cell_type": "markdown",
   "id": "64348b6c",
   "metadata": {},
   "source": [
    "# Libraries and Data"
   ]
  },
  {
   "cell_type": "code",
   "execution_count": 1,
   "id": "ee637605",
   "metadata": {},
   "outputs": [],
   "source": [
    "import numpy as np\n",
    "import pandas as pd\n",
    "import seaborn as sns\n",
    "from skopt import BayesSearchCV\n",
    "import skopt\n",
    "\n",
    "from sklearn.ensemble import GradientBoostingRegressor\n",
    "from sklearn.model_selection import train_test_split"
   ]
  },
  {
   "cell_type": "code",
   "execution_count": 2,
   "id": "ce8ac36e",
   "metadata": {},
   "outputs": [],
   "source": [
    "train = pd.read_csv(\"../data/advanced_train.csv\", low_memory = False)\n",
    "test = pd.read_csv(\"../data/advanced_test.csv\", low_memory = False)\n",
    "sample = pd.read_csv(\"../data/sample_submission.csv\", low_memory = False)"
   ]
  },
  {
   "cell_type": "code",
   "execution_count": 3,
   "id": "3db39e0d",
   "metadata": {},
   "outputs": [
    {
     "data": {
      "text/plain": [
       "((37439, 40), (10000, 39))"
      ]
     },
     "execution_count": 3,
     "metadata": {},
     "output_type": "execute_result"
    }
   ],
   "source": [
    "train.shape, test.shape"
   ]
  },
  {
   "cell_type": "code",
   "execution_count": 4,
   "id": "0f0aa440",
   "metadata": {},
   "outputs": [
    {
     "data": {
      "text/plain": [
       "(Index(['Id', 'Sold Price', 'Summary', 'Type', 'Year built', 'Heating',\n",
       "        'Cooling', 'Parking', 'Lot', 'Bedrooms', 'Bathrooms', 'Full bathrooms',\n",
       "        'Total interior livable area', 'Total spaces', 'Garage spaces',\n",
       "        'Region', 'Elementary School', 'Elementary School Score',\n",
       "        'Elementary School Distance', 'Middle School', 'Middle School Score',\n",
       "        'Middle School Distance', 'High School', 'High School Score',\n",
       "        'High School Distance', 'Flooring', 'Heating features',\n",
       "        'Cooling features', 'Appliances included', 'Laundry features',\n",
       "        'Parking features', 'Tax assessed value', 'Annual tax amount',\n",
       "        'Listed On', 'Listed Price', 'Last Sold On', 'Last Sold Price', 'City',\n",
       "        'Zip', 'State'],\n",
       "       dtype='object'),\n",
       " Index(['Id', 'Summary', 'Type', 'Year built', 'Heating', 'Cooling', 'Parking',\n",
       "        'Lot', 'Bedrooms', 'Bathrooms', 'Full bathrooms',\n",
       "        'Total interior livable area', 'Total spaces', 'Garage spaces',\n",
       "        'Region', 'Elementary School', 'Elementary School Score',\n",
       "        'Elementary School Distance', 'Middle School', 'Middle School Score',\n",
       "        'Middle School Distance', 'High School', 'High School Score',\n",
       "        'High School Distance', 'Flooring', 'Heating features',\n",
       "        'Cooling features', 'Appliances included', 'Laundry features',\n",
       "        'Parking features', 'Tax assessed value', 'Annual tax amount',\n",
       "        'Listed On', 'Listed Price', 'Last Sold On', 'Last Sold Price', 'City',\n",
       "        'Zip', 'State'],\n",
       "       dtype='object'))"
      ]
     },
     "execution_count": 4,
     "metadata": {},
     "output_type": "execute_result"
    }
   ],
   "source": [
    "train.columns, test.columns"
   ]
  },
  {
   "cell_type": "code",
   "execution_count": 5,
   "id": "b8af35d5",
   "metadata": {},
   "outputs": [
    {
     "name": "stdout",
     "output_type": "stream",
     "text": [
      "<class 'pandas.core.frame.DataFrame'>\n",
      "RangeIndex: 37439 entries, 0 to 37438\n",
      "Data columns (total 40 columns):\n",
      " #   Column                       Non-Null Count  Dtype  \n",
      "---  ------                       --------------  -----  \n",
      " 0   Id                           37439 non-null  int64  \n",
      " 1   Sold Price                   37439 non-null  int64  \n",
      " 2   Summary                      37176 non-null  object \n",
      " 3   Type                         37439 non-null  object \n",
      " 4   Year built                   36686 non-null  float64\n",
      " 5   Heating                      32481 non-null  object \n",
      " 6   Cooling                      29109 non-null  object \n",
      " 7   Parking                      36720 non-null  object \n",
      " 8   Lot                          26041 non-null  float64\n",
      " 9   Bedrooms                     35235 non-null  object \n",
      " 10  Bathrooms                    34786 non-null  float64\n",
      " 11  Full bathrooms               31696 non-null  float64\n",
      " 12  Total interior livable area  35443 non-null  float64\n",
      " 13  Total spaces                 36786 non-null  float64\n",
      " 14  Garage spaces                36784 non-null  float64\n",
      " 15  Region                       37437 non-null  object \n",
      " 16  Elementary School            33839 non-null  object \n",
      " 17  Elementary School Score      33723 non-null  float64\n",
      " 18  Elementary School Distance   33839 non-null  float64\n",
      " 19  Middle School                24621 non-null  object \n",
      " 20  Middle School Score          24621 non-null  float64\n",
      " 21  Middle School Distance       24621 non-null  float64\n",
      " 22  High School                  33386 non-null  object \n",
      " 23  High School Score            33271 non-null  float64\n",
      " 24  High School Distance         33385 non-null  float64\n",
      " 25  Flooring                     28554 non-null  object \n",
      " 26  Heating features             31933 non-null  object \n",
      " 27  Cooling features             28168 non-null  object \n",
      " 28  Appliances included          27117 non-null  object \n",
      " 29  Laundry features             26259 non-null  object \n",
      " 30  Parking features             34151 non-null  object \n",
      " 31  Tax assessed value           34505 non-null  object \n",
      " 32  Annual tax amount            33903 non-null  object \n",
      " 33  Listed On                    37439 non-null  object \n",
      " 34  Listed Price                 37439 non-null  int64  \n",
      " 35  Last Sold On                 23341 non-null  object \n",
      " 36  Last Sold Price              23341 non-null  float64\n",
      " 37  City                         37439 non-null  object \n",
      " 38  Zip                          37439 non-null  int64  \n",
      " 39  State                        37439 non-null  object \n",
      "dtypes: float64(14), int64(4), object(22)\n",
      "memory usage: 11.4+ MB\n"
     ]
    }
   ],
   "source": [
    "train.info()"
   ]
  },
  {
   "cell_type": "markdown",
   "id": "d03f5c85",
   "metadata": {},
   "source": [
    "# Data Pre-Processing"
   ]
  },
  {
   "cell_type": "code",
   "execution_count": 6,
   "id": "ab09cc01",
   "metadata": {
    "scrolled": false
   },
   "outputs": [
    {
     "data": {
      "text/plain": [
       "<AxesSubplot:xlabel='Garage spaces', ylabel='Count'>"
      ]
     },
     "execution_count": 6,
     "metadata": {},
     "output_type": "execute_result"
    },
    {
     "data": {
      "image/png": "[encoded data removed]",
      "text/plain": [
       "<Figure size 432x288 with 1 Axes>"
      ]
     },
     "metadata": {
      "needs_background": "light"
     },
     "output_type": "display_data"
    }
   ],
   "source": [
    "#sns.histplot(np.log(train[\"Sold Price\"]))\n",
    "sns.histplot(train[\"Garage spaces\"])\n",
    "#train[\"Year built\"].unique()\n"
   ]
  },
  {
   "cell_type": "markdown",
   "id": "d490dcb0",
   "metadata": {},
   "source": [
    "## Exploring Heating Variable"
   ]
  },
  {
   "cell_type": "code",
   "execution_count": 7,
   "id": "cce45223",
   "metadata": {},
   "outputs": [
    {
     "data": {
      "text/plain": [
       "Central                                            7280\n",
       "Central Forced Air                                 4695\n",
       "Central Forced Air - Gas                           3041\n",
       "Forced Air                                         1977\n",
       "Wall Furnace                                       1535\n",
       "                                                   ... \n",
       "Stove - Wood, Other                                   1\n",
       "Radiant, Daiken Mini Splits                           1\n",
       "Solar, Central Forced Air - Gas, Radiant Floors       1\n",
       "Propane, Electric, Wall Furnace, Wood Stove           1\n",
       "Natural Gas, Electric                                 1\n",
       "Name: Heating, Length: 1536, dtype: int64"
      ]
     },
     "execution_count": 7,
     "metadata": {},
     "output_type": "execute_result"
    }
   ],
   "source": [
    "asdf = train[\"Heating\"].value_counts()\n",
    "asdf"
   ]
  },
  {
   "cell_type": "code",
   "execution_count": 8,
   "id": "7d8a5081",
   "metadata": {},
   "outputs": [
    {
     "data": {
      "text/plain": [
       "central                                     7281\n",
       "central forced air                          4695\n",
       "central forced air - gas                    3041\n",
       "forced air                                  2885\n",
       "wall furnace                                1535\n",
       "                                            ... \n",
       "forced air, other, radiant, gas, other         1\n",
       "electric, see remarks, forced air              1\n",
       "propane, zoned, forced air                     1\n",
       "forced air, heating - 2+ zones, electric       1\n",
       "natural gas, electric                          1\n",
       "Name: Heating, Length: 1525, dtype: int64"
      ]
     },
     "execution_count": 8,
     "metadata": {},
     "output_type": "execute_result"
    }
   ],
   "source": [
    "train[\"Heating\"].str.lower().value_counts()"
   ]
  },
  {
   "cell_type": "code",
   "execution_count": 48,
   "id": "d10af067",
   "metadata": {},
   "outputs": [
    {
     "data": {
      "text/plain": [
       "array(['central', 'forced air', 'central forced air', 'other',\n",
       "       'central forced air - gas', 'radiant', 'wall furnace', nan,\n",
       "       'electric', 'radiant floors', 'individual room controls', 'gas',\n",
       "       'heating - 2+ zones', 'zoned', 'none', 'wall', 'baseboard',\n",
       "       'steam', 'combination', 'forced air - gas', 'propane / butane',\n",
       "       'propane', 'woodstove', 'natural gas', 'fireplace(s)',\n",
       "       'floor furnace', 'fireplace', 'stove - wood', 'gravity',\n",
       "       'heat pump', 'stove', 'energy star qualified equipment',\n",
       "       'see remarks', 'wood stove', 'solar', 'oil', 'pellet stove',\n",
       "       'fireplace insert', 'gas pac', 'propane heat', 'cfag',\n",
       "       'forced air - elec', 'wood / pellet', 'passive solar', 'wood',\n",
       "       'zoned - gas', 'no heating', 'hot water', 'wood burn. stove',\n",
       "       'electric furnace', 'kerosene/oil', 'stove - pellet', 'space',\n",
       "       'stove - propane', 'solar and gas', 'mini split', 'stove propane',\n",
       "       'common', 'high efficiency', 'stove heater', 'forced air/central',\n",
       "       'solar with back-up', 'wall heater', 'space heater', 'ductless',\n",
       "       'wall unit', 'kerosene', 'dual pack', 'central furnace',\n",
       "       'multiunits', 'propane stove', 'wall gas', 'other-attch',\n",
       "       'wall electric', 'electric heat', 'other-rmks', 'high effciency',\n",
       "       'mini-split', 'electric baseboard', 'individual rm controls',\n",
       "       'humidity control', 'coal', 'propane fau', 'radiant floor',\n",
       "       'diesel/oil space heater', 'varies by unit', 'ducted to all rooms',\n",
       "       'propane heater', 'fa', 'active solar', 'forced air 1 zone',\n",
       "       'forced air-elec.', 'cfae', 'central forced heat',\n",
       "       'central heat/gas', 'diesel', 'heatpump in guesthse', 'floor',\n",
       "       'yes', 'fagh guest house', 'recirculating pump', '3 units',\n",
       "       'forced air-gas', 'daiken mini splits', 'gas heat',\n",
       "       'other (see remarks)', 'zoned - elec', 'cfah',\n",
       "       'dual gas & electric', 'zonal', 'natural gas furnace',\n",
       "       'geothermal', 'fa/gas', 'wood burning stove', 'fag',\n",
       "       'electric/ets', 'mini-splits', 'ebb', 'other - see remarks',\n",
       "       'gas log', 'forced - gas', 'forced - electric', 'solar w/backup',\n",
       "       'propane wall heater', '6'], dtype=object)"
      ]
     },
     "execution_count": 48,
     "metadata": {},
     "output_type": "execute_result"
    }
   ],
   "source": [
    "heat_types = train[\"Heating\"].str.lower().str.split(\",\").explode().str.strip().unique()\n",
    "heat_types\n",
    "# h1 = central, forced air, forced, furnace\n",
    "# h2 = radiant, heat pump, baseboard, steam, zone\n",
    "# h3 = wood, stove, fireplace, fire, coal, pellet\n",
    "# h4 = solar, geothermal"
   ]
  },
  {
   "cell_type": "code",
   "execution_count": null,
   "id": "f66fab94",
   "metadata": {},
   "outputs": [],
   "source": []
  },
  {
   "cell_type": "code",
   "execution_count": 10,
   "id": "41da4805",
   "metadata": {},
   "outputs": [
    {
     "data": {
      "text/plain": [
       "True"
      ]
     },
     "execution_count": 10,
     "metadata": {},
     "output_type": "execute_result"
    }
   ],
   "source": [
    "train[\"Full bathrooms\"].isna().any()"
   ]
  },
  {
   "cell_type": "code",
   "execution_count": 11,
   "id": "10ffe0d5",
   "metadata": {},
   "outputs": [
    {
     "data": {
      "text/plain": [
       "0.0"
      ]
     },
     "execution_count": 11,
     "metadata": {},
     "output_type": "execute_result"
    }
   ],
   "source": [
    "np.min(train[\"Year built\"])"
   ]
  },
  {
   "cell_type": "code",
   "execution_count": 12,
   "id": "d3301886",
   "metadata": {},
   "outputs": [
    {
     "name": "stderr",
     "output_type": "stream",
     "text": [
      "/opt/anaconda3/envs/kaggle_soa_22/lib/python3.7/site-packages/ipykernel_launcher.py:1: FutureWarning: Dropping of nuisance columns in DataFrame reductions (with 'numeric_only=None') is deprecated; in a future version this will raise TypeError.  Select only valid columns before calling the reduction.\n",
      "  \"\"\"Entry point for launching an IPython kernel.\n"
     ]
    },
    {
     "data": {
      "text/plain": [
       "1042000.0"
      ]
     },
     "execution_count": 12,
     "metadata": {},
     "output_type": "execute_result"
    }
   ],
   "source": [
    "train.median()[\"Sold Price\"]"
   ]
  },
  {
   "cell_type": "markdown",
   "id": "82bef8fd",
   "metadata": {},
   "source": [
    "Impute missing values for certain numeric variables"
   ]
  },
  {
   "cell_type": "code",
   "execution_count": 89,
   "id": "d445f121",
   "metadata": {
    "scrolled": true
   },
   "outputs": [
    {
     "name": "stderr",
     "output_type": "stream",
     "text": [
      "/opt/anaconda3/envs/kaggle_soa_22/lib/python3.7/site-packages/ipykernel_launcher.py:1: FutureWarning: Dropping of nuisance columns in DataFrame reductions (with 'numeric_only=None') is deprecated; in a future version this will raise TypeError.  Select only valid columns before calling the reduction.\n",
      "  \"\"\"Entry point for launching an IPython kernel.\n"
     ]
    }
   ],
   "source": [
    "train_medians = train.median()\n",
    "\n",
    "def preprocess_data(df, meds):\n",
    "    df[\"Total interior livable area\"] = df[\"Total interior livable area\"].fillna(meds[\"Total interior livable area\"])\n",
    "    \n",
    "    df[\"Bathrooms\"] = df[\"Bathrooms\"].fillna(meds[\"Bathrooms\"])\n",
    "    \n",
    "    df[\"High School Score\"] = df[\"High School Score\"].fillna(meds[\"High School Score\"])\n",
    "    \n",
    "    df[\"Year built\"] = df[\"Year built\"].fillna(meds[\"Year built\"])\n",
    "    df[\"Year built\"] = np.maximum(df[\"Year built\"], 1870)\n",
    "    df[\"Year built\"] = np.minimum(df[\"Year built\"], 2022)\n",
    "    \n",
    "    df[\"state_ind\"] = df[\"State\"] == \"CA\"\n",
    "    \n",
    "    df[\"Garage spaces\"] = df[\"Garage spaces\"].fillna(meds[\"Garage spaces\"])\n",
    "    df[\"Garage spaces\"] = np.maximum(df[\"Garage spaces\"], 0)\n",
    "    df[\"Garage spaces\"] = np.minimum(df[\"Garage spaces\"], 20)\n",
    "    \n",
    "    df[\"Elementary School Score\"] = df[\"Elementary School Score\"].fillna(meds[\"Elementary School Score\"])\n",
    "    \n",
    "    df[\"Full bathrooms\"] = df[\"Full bathrooms\"].fillna(meds[\"Full bathrooms\"])\n",
    "  \n",
    "    df[\"h1\"] = (train[\"Heating\"].str.lower().str.contains(\"central\") | \n",
    "                train[\"Heating\"].str.lower().str.contains(\"forced\")  |\n",
    "                train[\"Heating\"].str.lower().str.contains(\"furnace\") |\n",
    "                train[\"Heating\"].str.lower().str.contains(\"air\"))\n",
    "    df[\"h2\"] = (train[\"Heating\"].str.lower().str.contains(\"radiant\") | \n",
    "                train[\"Heating\"].str.lower().str.contains(\"heat pump\")  |\n",
    "                train[\"Heating\"].str.lower().str.contains(\"steam\") |\n",
    "                train[\"Heating\"].str.lower().str.contains(\"baseboard\") |\n",
    "                train[\"Heating\"].str.lower().str.contains(\"zone\"))\n",
    "    df[\"h3\"] = (train[\"Heating\"].str.lower().str.contains(\"wood\") | \n",
    "                train[\"Heating\"].str.lower().str.contains(\"stove\")  |\n",
    "                train[\"Heating\"].str.lower().str.contains(\"fire\") |\n",
    "                train[\"Heating\"].str.lower().str.contains(\"coal\") |\n",
    "                train[\"Heating\"].str.lower().str.contains(\"pellet\"))\n",
    "    df[\"h4\"] = (train[\"Heating\"].str.lower().str.contains(\"solar\") | \n",
    "                train[\"Heating\"].str.lower().str.contains(\"geothermal\"))\n",
    " \n",
    "    return df"
   ]
  },
  {
   "cell_type": "code",
   "execution_count": 90,
   "id": "30638cf0",
   "metadata": {},
   "outputs": [],
   "source": [
    "train = preprocess_data(train, train_medians)"
   ]
  },
  {
   "cell_type": "markdown",
   "id": "04181c10",
   "metadata": {},
   "source": [
    "Transform the target by logging it since it's got a long right tail"
   ]
  },
  {
   "cell_type": "code",
   "execution_count": 91,
   "id": "3b49eafd",
   "metadata": {},
   "outputs": [],
   "source": [
    "y = np.log(train[\"Sold Price\"])"
   ]
  },
  {
   "cell_type": "code",
   "execution_count": 92,
   "id": "4c16237b",
   "metadata": {},
   "outputs": [],
   "source": [
    "pred_vars = [\"Listed Price\", \"Total interior livable area\", \"Bathrooms\", \n",
    "             \"Year built\", \"state_ind\", \"High School Score\", \"Garage spaces\",\n",
    "            \"Elementary School Score\", \"Full bathrooms\", \"h1\", \"h2\", \"h3\", \"h4\"]\n",
    "\n",
    "X = train[pred_vars]"
   ]
  },
  {
   "cell_type": "code",
   "execution_count": 93,
   "id": "e5d70d7f",
   "metadata": {},
   "outputs": [],
   "source": [
    "X_train, X_test, y_train, y_test = train_test_split(X, y, test_size=0.33, random_state=56)"
   ]
  },
  {
   "cell_type": "markdown",
   "id": "141fd6e1",
   "metadata": {},
   "source": [
    "# Models"
   ]
  },
  {
   "cell_type": "code",
   "execution_count": 119,
   "id": "8b6c3dd5",
   "metadata": {},
   "outputs": [],
   "source": [
    "params = {\"n_estimators\":250,\n",
    "          \"learning_rate\":0.1,\n",
    "          \"max_depth\":4,\n",
    "          \"random_state\":56,\n",
    "          \"subsample\":1,\n",
    "          'max_features':None, # None or sqrt\n",
    "          \"loss\":'squared_error'}"
   ]
  },
  {
   "cell_type": "code",
   "execution_count": 120,
   "id": "ce971fbc",
   "metadata": {},
   "outputs": [],
   "source": [
    "model = GradientBoostingRegressor().set_params(**params)"
   ]
  },
  {
   "cell_type": "code",
   "execution_count": 121,
   "id": "8128611f",
   "metadata": {},
   "outputs": [
    {
     "data": {
      "text/plain": [
       "GradientBoostingRegressor(max_depth=4, n_estimators=250, random_state=56,\n",
       "                          subsample=1)"
      ]
     },
     "execution_count": 121,
     "metadata": {},
     "output_type": "execute_result"
    }
   ],
   "source": [
    "model.fit(X_train, y_train)"
   ]
  },
  {
   "cell_type": "code",
   "execution_count": 122,
   "id": "49b7648f",
   "metadata": {},
   "outputs": [
    {
     "data": {
      "text/plain": [
       "0.929832106520909"
      ]
     },
     "execution_count": 122,
     "metadata": {},
     "output_type": "execute_result"
    }
   ],
   "source": [
    "model.score(X_test, y_test)"
   ]
  },
  {
   "cell_type": "code",
   "execution_count": 117,
   "id": "ed26751d",
   "metadata": {},
   "outputs": [
    {
     "data": {
      "text/plain": [
       "(array([9.90130374e-01, 3.35728519e-03, 5.82308530e-04, 2.19660566e-03,\n",
       "        2.05700560e-04, 5.90907064e-04, 2.23196639e-04, 1.47502453e-03,\n",
       "        7.34155675e-04, 3.30184141e-04, 3.71806747e-05, 3.57560393e-05,\n",
       "        1.01320850e-04]),\n",
       " array(['Listed Price', 'Total interior livable area', 'Bathrooms',\n",
       "        'Year built', 'state_ind', 'High School Score', 'Garage spaces',\n",
       "        'Elementary School Score', 'Full bathrooms', 'h1', 'h2', 'h3',\n",
       "        'h4'], dtype=object))"
      ]
     },
     "execution_count": 117,
     "metadata": {},
     "output_type": "execute_result"
    }
   ],
   "source": [
    "model.feature_importances_, model.feature_names_in_"
   ]
  },
  {
   "cell_type": "markdown",
   "id": "81646a0f",
   "metadata": {},
   "source": [
    "Train final model with all the data"
   ]
  },
  {
   "cell_type": "markdown",
   "id": "a1d0b6c6",
   "metadata": {},
   "source": [
    "# Hyperparameter Optimization"
   ]
  },
  {
   "cell_type": "code",
   "execution_count": 33,
   "id": "e9863eb2",
   "metadata": {},
   "outputs": [],
   "source": [
    "opt = BayesSearchCV(\n",
    "    GradientBoostingRegressor(random_state = 56,loss = 'squared_error'),\n",
    "    {\n",
    "        'n_estimators': (50, 1000),\n",
    "        'learning_rate': (1e-5, .9, 'log-uniform'),\n",
    "        'max_depth': (2, 6),  # integer valued parameter\n",
    "        'subsample': (0.05, 1.0, 'uniform'),\n",
    "        'max_features':'sqrt'\n",
    "    },\n",
    "    n_iter = 100,\n",
    "    cv = 3,\n",
    "    verbose = 1\n",
    "    #, n_jobs = 2\n",
    ")"
   ]
  },
  {
   "cell_type": "code",
   "execution_count": 34,
   "id": "b8a0872f",
   "metadata": {
    "scrolled": true
   },
   "outputs": [
    {
     "data": {
      "text/plain": [
       "BayesSearchCV(cv=3, estimator=GradientBoostingRegressor(random_state=56),\n",
       "              n_iter=100,\n",
       "              search_spaces={'learning_rate': (1e-05, 0.9, 'log-uniform'),\n",
       "                             'max_depth': (2, 6), 'n_estimators': (50, 1000),\n",
       "                             'subsample': (0.05, 1.0, 'uniform')})"
      ]
     },
     "execution_count": 34,
     "metadata": {},
     "output_type": "execute_result"
    }
   ],
   "source": [
    "opt.fit(X_train, y_train)"
   ]
  },
  {
   "cell_type": "code",
   "execution_count": 35,
   "id": "3802e7e4",
   "metadata": {
    "scrolled": true
   },
   "outputs": [
    {
     "data": {
      "text/plain": [
       "0.9301608507840881"
      ]
     },
     "execution_count": 35,
     "metadata": {},
     "output_type": "execute_result"
    }
   ],
   "source": [
    "opt.score(X_test, y_test)\n",
    "\n",
    "# 0.930401 with no subsampling\n",
    "# 0.929161025403613 with subsampling, 50 iterations\n"
   ]
  },
  {
   "cell_type": "code",
   "execution_count": 36,
   "id": "2ba8da00",
   "metadata": {},
   "outputs": [
    {
     "data": {
      "text/plain": [
       "(4, 0.012474997352881075, 614, 0.3871953641896431)"
      ]
     },
     "execution_count": 36,
     "metadata": {},
     "output_type": "execute_result"
    }
   ],
   "source": [
    "opt.best_estimator_.max_depth, opt.best_estimator_.learning_rate, opt.best_estimator_.n_estimators, opt.best_estimator_.subsample\n",
    "\n",
    "# (4, 0.019076781177538346, 500, 1.0) with no subsampling\n",
    "# (5, 0.011876032175591269, 376, 0.44775503528274996) with subsampling (50 iterations)\n"
   ]
  },
  {
   "cell_type": "code",
   "execution_count": 38,
   "id": "ac3120a1",
   "metadata": {},
   "outputs": [],
   "source": [
    "params[\"max_depth\"] = opt.best_estimator_.max_depth\n",
    "params[\"learning_rate\"] = opt.best_estimator_.learning_rate\n",
    "params[\"n_estimators\"] = opt.best_estimator_.n_estimators\n",
    "params[\"subsample\"] = opt.best_estimator_.subsample"
   ]
  },
  {
   "cell_type": "code",
   "execution_count": 99,
   "id": "15988cc9",
   "metadata": {},
   "outputs": [],
   "source": [
    "GradientBoostingRegressor?"
   ]
  },
  {
   "cell_type": "code",
   "execution_count": 123,
   "id": "59e2e153",
   "metadata": {},
   "outputs": [],
   "source": [
    "model = GradientBoostingRegressor().set_params(**params).fit(X, y)"
   ]
  },
  {
   "cell_type": "markdown",
   "id": "6ddd7760",
   "metadata": {},
   "source": [
    "# Make Predictions"
   ]
  },
  {
   "cell_type": "markdown",
   "id": "9d0615a9",
   "metadata": {},
   "source": [
    "Do the same pre-processing on the test data that we do on the train data"
   ]
  },
  {
   "cell_type": "code",
   "execution_count": 124,
   "id": "aa5db3dd",
   "metadata": {},
   "outputs": [
    {
     "name": "stderr",
     "output_type": "stream",
     "text": [
      "/opt/anaconda3/envs/kaggle_soa_22/lib/python3.7/site-packages/ipykernel_launcher.py:1: FutureWarning: Dropping of nuisance columns in DataFrame reductions (with 'numeric_only=None') is deprecated; in a future version this will raise TypeError.  Select only valid columns before calling the reduction.\n",
      "  \"\"\"Entry point for launching an IPython kernel.\n"
     ]
    }
   ],
   "source": [
    "test_medians = test.median()"
   ]
  },
  {
   "cell_type": "code",
   "execution_count": 125,
   "id": "0721cac6",
   "metadata": {},
   "outputs": [],
   "source": [
    "test = preprocess_data(test, test_medians)\n",
    "test[\"Sold Price\"] = np.exp(model.predict(test[pred_vars]))"
   ]
  },
  {
   "cell_type": "code",
   "execution_count": 126,
   "id": "40e71847",
   "metadata": {},
   "outputs": [],
   "source": [
    "test[[\"Id\", \"Sold Price\"]].to_csv(\"../submission.csv\", index = False)"
   ]
  },
  {
   "cell_type": "code",
   "execution_count": null,
   "id": "e17b6c79",
   "metadata": {},
   "outputs": [],
   "source": []
  }
 ],
 "metadata": {
  "kernelspec": {
   "display_name": "Python 3 (ipykernel)",
   "language": "python",
   "name": "python3"
  },
  "language_info": {
   "codemirror_mode": {
    "name": "ipython",
    "version": 3
   },
   "file_extension": ".py",
   "mimetype": "text/x-python",
   "name": "python",
   "nbconvert_exporter": "python",
   "pygments_lexer": "ipython3",
   "version": "3.7.13"
  },
  "toc": {
   "base_numbering": 1,
   "nav_menu": {},
   "number_sections": true,
   "sideBar": true,
   "skip_h1_title": false,
   "title_cell": "Table of Contents",
   "title_sidebar": "Contents",
   "toc_cell": false,
   "toc_position": {
    "height": "calc(100% - 180px)",
    "left": "10px",
    "top": "150px",
    "width": "176.188px"
   },
   "toc_section_display": true,
   "toc_window_display": true
  }
 },
 "nbformat": 4,
 "nbformat_minor": 5
}
