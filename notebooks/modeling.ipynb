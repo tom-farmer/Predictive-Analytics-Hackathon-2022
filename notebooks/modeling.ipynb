{
 "cells": [
  {
   "cell_type": "markdown",
   "id": "64348b6c",
   "metadata": {},
   "source": [
    "# Libraries and Data"
   ]
  },
  {
   "cell_type": "code",
   "execution_count": 126,
   "id": "ee637605",
   "metadata": {},
   "outputs": [],
   "source": [
    "import numpy as np\n",
    "import pandas as pd\n",
    "import seaborn as sns\n",
    "\n",
    "from sklearn.ensemble import GradientBoostingRegressor\n",
    "from sklearn.model_selection import train_test_split"
   ]
  },
  {
   "cell_type": "code",
   "execution_count": 127,
   "id": "ce8ac36e",
   "metadata": {},
   "outputs": [],
   "source": [
    "train = pd.read_csv(\"../data/advanced_train.csv\", low_memory = False)\n",
    "test = pd.read_csv(\"../data/advanced_test.csv\", low_memory = False)\n",
    "sample = pd.read_csv(\"../data/sample_submission.csv\", low_memory = False)"
   ]
  },
  {
   "cell_type": "code",
   "execution_count": 128,
   "id": "3db39e0d",
   "metadata": {},
   "outputs": [
    {
     "data": {
      "text/plain": [
       "((37439, 40), (10000, 39))"
      ]
     },
     "execution_count": 128,
     "metadata": {},
     "output_type": "execute_result"
    }
   ],
   "source": [
    "train.shape, test.shape"
   ]
  },
  {
   "cell_type": "code",
   "execution_count": 129,
   "id": "0f0aa440",
   "metadata": {},
   "outputs": [
    {
     "data": {
      "text/plain": [
       "(Index(['Id', 'Sold Price', 'Summary', 'Type', 'Year built', 'Heating',\n",
       "        'Cooling', 'Parking', 'Lot', 'Bedrooms', 'Bathrooms', 'Full bathrooms',\n",
       "        'Total interior livable area', 'Total spaces', 'Garage spaces',\n",
       "        'Region', 'Elementary School', 'Elementary School Score',\n",
       "        'Elementary School Distance', 'Middle School', 'Middle School Score',\n",
       "        'Middle School Distance', 'High School', 'High School Score',\n",
       "        'High School Distance', 'Flooring', 'Heating features',\n",
       "        'Cooling features', 'Appliances included', 'Laundry features',\n",
       "        'Parking features', 'Tax assessed value', 'Annual tax amount',\n",
       "        'Listed On', 'Listed Price', 'Last Sold On', 'Last Sold Price', 'City',\n",
       "        'Zip', 'State'],\n",
       "       dtype='object'),\n",
       " Index(['Id', 'Summary', 'Type', 'Year built', 'Heating', 'Cooling', 'Parking',\n",
       "        'Lot', 'Bedrooms', 'Bathrooms', 'Full bathrooms',\n",
       "        'Total interior livable area', 'Total spaces', 'Garage spaces',\n",
       "        'Region', 'Elementary School', 'Elementary School Score',\n",
       "        'Elementary School Distance', 'Middle School', 'Middle School Score',\n",
       "        'Middle School Distance', 'High School', 'High School Score',\n",
       "        'High School Distance', 'Flooring', 'Heating features',\n",
       "        'Cooling features', 'Appliances included', 'Laundry features',\n",
       "        'Parking features', 'Tax assessed value', 'Annual tax amount',\n",
       "        'Listed On', 'Listed Price', 'Last Sold On', 'Last Sold Price', 'City',\n",
       "        'Zip', 'State'],\n",
       "       dtype='object'),\n",
       " Id                               int64\n",
       " Sold Price                       int64\n",
       " Summary                         object\n",
       " Type                            object\n",
       " Year built                     float64\n",
       " Heating                         object\n",
       " Cooling                         object\n",
       " Parking                         object\n",
       " Lot                            float64\n",
       " Bedrooms                        object\n",
       " Bathrooms                      float64\n",
       " Full bathrooms                 float64\n",
       " Total interior livable area    float64\n",
       " Total spaces                   float64\n",
       " Garage spaces                  float64\n",
       " Region                          object\n",
       " Elementary School               object\n",
       " Elementary School Score        float64\n",
       " Elementary School Distance     float64\n",
       " Middle School                   object\n",
       " Middle School Score            float64\n",
       " Middle School Distance         float64\n",
       " High School                     object\n",
       " High School Score              float64\n",
       " High School Distance           float64\n",
       " Flooring                        object\n",
       " Heating features                object\n",
       " Cooling features                object\n",
       " Appliances included             object\n",
       " Laundry features                object\n",
       " Parking features                object\n",
       " Tax assessed value              object\n",
       " Annual tax amount               object\n",
       " Listed On                       object\n",
       " Listed Price                     int64\n",
       " Last Sold On                    object\n",
       " Last Sold Price                float64\n",
       " City                            object\n",
       " Zip                              int64\n",
       " State                           object\n",
       " dtype: object)"
      ]
     },
     "execution_count": 129,
     "metadata": {},
     "output_type": "execute_result"
    }
   ],
   "source": [
    "train.columns, test.columns, train.dtypes"
   ]
  },
  {
   "cell_type": "code",
   "execution_count": 130,
   "id": "b8af35d5",
   "metadata": {},
   "outputs": [
    {
     "name": "stdout",
     "output_type": "stream",
     "text": [
      "<class 'pandas.core.frame.DataFrame'>\n",
      "RangeIndex: 37439 entries, 0 to 37438\n",
      "Data columns (total 40 columns):\n",
      " #   Column                       Non-Null Count  Dtype  \n",
      "---  ------                       --------------  -----  \n",
      " 0   Id                           37439 non-null  int64  \n",
      " 1   Sold Price                   37439 non-null  int64  \n",
      " 2   Summary                      37176 non-null  object \n",
      " 3   Type                         37439 non-null  object \n",
      " 4   Year built                   36686 non-null  float64\n",
      " 5   Heating                      32481 non-null  object \n",
      " 6   Cooling                      29109 non-null  object \n",
      " 7   Parking                      36720 non-null  object \n",
      " 8   Lot                          26041 non-null  float64\n",
      " 9   Bedrooms                     35235 non-null  object \n",
      " 10  Bathrooms                    34786 non-null  float64\n",
      " 11  Full bathrooms               31696 non-null  float64\n",
      " 12  Total interior livable area  35443 non-null  float64\n",
      " 13  Total spaces                 36786 non-null  float64\n",
      " 14  Garage spaces                36784 non-null  float64\n",
      " 15  Region                       37437 non-null  object \n",
      " 16  Elementary School            33839 non-null  object \n",
      " 17  Elementary School Score      33723 non-null  float64\n",
      " 18  Elementary School Distance   33839 non-null  float64\n",
      " 19  Middle School                24621 non-null  object \n",
      " 20  Middle School Score          24621 non-null  float64\n",
      " 21  Middle School Distance       24621 non-null  float64\n",
      " 22  High School                  33386 non-null  object \n",
      " 23  High School Score            33271 non-null  float64\n",
      " 24  High School Distance         33385 non-null  float64\n",
      " 25  Flooring                     28554 non-null  object \n",
      " 26  Heating features             31933 non-null  object \n",
      " 27  Cooling features             28168 non-null  object \n",
      " 28  Appliances included          27117 non-null  object \n",
      " 29  Laundry features             26259 non-null  object \n",
      " 30  Parking features             34151 non-null  object \n",
      " 31  Tax assessed value           34505 non-null  object \n",
      " 32  Annual tax amount            33903 non-null  object \n",
      " 33  Listed On                    37439 non-null  object \n",
      " 34  Listed Price                 37439 non-null  int64  \n",
      " 35  Last Sold On                 23341 non-null  object \n",
      " 36  Last Sold Price              23341 non-null  float64\n",
      " 37  City                         37439 non-null  object \n",
      " 38  Zip                          37439 non-null  int64  \n",
      " 39  State                        37439 non-null  object \n",
      "dtypes: float64(14), int64(4), object(22)\n",
      "memory usage: 11.4+ MB\n"
     ]
    }
   ],
   "source": [
    "train.info()"
   ]
  },
  {
   "cell_type": "markdown",
   "id": "d03f5c85",
   "metadata": {},
   "source": [
    "# Data Pre-Processing"
   ]
  },
  {
   "cell_type": "code",
   "execution_count": 131,
   "id": "ab09cc01",
   "metadata": {
    "scrolled": true
   },
   "outputs": [
    {
     "data": {
      "text/plain": [
       "<AxesSubplot:xlabel='Year built', ylabel='Count'>"
      ]
     },
     "execution_count": 131,
     "metadata": {},
     "output_type": "execute_result"
    },
    {
     "data": {
      "image/png": "[encoded data removed]",
      "text/plain": [
       "<Figure size 432x288 with 1 Axes>"
      ]
     },
     "metadata": {
      "needs_background": "light"
     },
     "output_type": "display_data"
    }
   ],
   "source": [
    "#sns.histplot(np.log(train[\"Sold Price\"]))\n",
    "sns.histplot(train[\"Year built\"])\n",
    "#train[\"Year built\"].unique()\n"
   ]
  },
  {
   "cell_type": "code",
   "execution_count": 132,
   "id": "5f874f0e",
   "metadata": {},
   "outputs": [
    {
     "data": {
      "text/plain": [
       "True"
      ]
     },
     "execution_count": 132,
     "metadata": {},
     "output_type": "execute_result"
    }
   ],
   "source": [
    "np.maximum(train[\"Year built\"], 1870).isna().any()"
   ]
  },
  {
   "cell_type": "code",
   "execution_count": 133,
   "id": "3c1e32c3",
   "metadata": {},
   "outputs": [
    {
     "data": {
      "text/plain": [
       "0.0"
      ]
     },
     "execution_count": 133,
     "metadata": {},
     "output_type": "execute_result"
    }
   ],
   "source": [
    "np.min(train[\"Year built\"])"
   ]
  },
  {
   "cell_type": "markdown",
   "id": "860cec5c",
   "metadata": {},
   "source": [
    "Impute missing values for certain numeric variables"
   ]
  },
  {
   "cell_type": "code",
   "execution_count": null,
   "id": "b428f40b",
   "metadata": {},
   "outputs": [],
   "source": []
  },
  {
   "cell_type": "code",
   "execution_count": 134,
   "id": "d445f121",
   "metadata": {},
   "outputs": [],
   "source": [
    "train[\"Total interior livable area\"] = train[\"Total interior livable area\"].fillna(train[\"Total interior livable area\"].median())\n",
    "train[\"Bathrooms\"] = train[\"Bathrooms\"].fillna(train[\"Bathrooms\"].median())\n",
    "train[\"Year built\"] = train[\"Year built\"].fillna(train[\"Year built\"].median())\n",
    "train[\"Year built\"] = np.maximum(train[\"Year built\"], 1870)\n"
   ]
  },
  {
   "cell_type": "markdown",
   "id": "04181c10",
   "metadata": {},
   "source": [
    "Transform the target by logging it since it's got a long right tail"
   ]
  },
  {
   "cell_type": "code",
   "execution_count": 135,
   "id": "3b49eafd",
   "metadata": {},
   "outputs": [],
   "source": [
    "y = np.log(train[\"Sold Price\"])"
   ]
  },
  {
   "cell_type": "code",
   "execution_count": 136,
   "id": "4c16237b",
   "metadata": {},
   "outputs": [],
   "source": [
    "pred_vars = [\"Listed Price\", \"Total interior livable area\", \"Bathrooms\", \"Year built\"]\n",
    "\n",
    "X = train[pred_vars]"
   ]
  },
  {
   "cell_type": "code",
   "execution_count": 137,
   "id": "75fde8fe",
   "metadata": {},
   "outputs": [],
   "source": [
    "X_train, X_test, y_train, y_test = train_test_split(X, y, test_size=0.33, random_state=56)"
   ]
  },
  {
   "cell_type": "markdown",
   "id": "deae6802",
   "metadata": {},
   "source": [
    "# Models"
   ]
  },
  {
   "cell_type": "code",
   "execution_count": 138,
   "id": "6e458a51",
   "metadata": {},
   "outputs": [],
   "source": [
    "model = GradientBoostingRegressor(n_estimators=100, \n",
    "                                  learning_rate=0.1,\n",
    "                                  max_depth=3, \n",
    "                                  random_state=56,\n",
    "                                  loss='squared_error')"
   ]
  },
  {
   "cell_type": "code",
   "execution_count": 139,
   "id": "8128611f",
   "metadata": {},
   "outputs": [
    {
     "data": {
      "text/plain": [
       "GradientBoostingRegressor(random_state=0)"
      ]
     },
     "execution_count": 139,
     "metadata": {},
     "output_type": "execute_result"
    }
   ],
   "source": [
    "model.fit(X_train, y_train)"
   ]
  },
  {
   "cell_type": "code",
   "execution_count": 140,
   "id": "49b7648f",
   "metadata": {},
   "outputs": [
    {
     "data": {
      "text/plain": [
       "0.9276915033309846"
      ]
     },
     "execution_count": 140,
     "metadata": {},
     "output_type": "execute_result"
    }
   ],
   "source": [
    "model.score(X_test, y_test)"
   ]
  },
  {
   "cell_type": "code",
   "execution_count": 64,
   "id": "abf463da",
   "metadata": {},
   "outputs": [
    {
     "data": {
      "text/html": [
       "<div>\n",
       "<style scoped>\n",
       "    .dataframe tbody tr th:only-of-type {\n",
       "        vertical-align: middle;\n",
       "    }\n",
       "\n",
       "    .dataframe tbody tr th {\n",
       "        vertical-align: top;\n",
       "    }\n",
       "\n",
       "    .dataframe thead th {\n",
       "        text-align: right;\n",
       "    }\n",
       "</style>\n",
       "<table border=\"1\" class=\"dataframe\">\n",
       "  <thead>\n",
       "    <tr style=\"text-align: right;\">\n",
       "      <th></th>\n",
       "      <th>Listed Price</th>\n",
       "      <th>Total interior livable area</th>\n",
       "      <th>Bathrooms</th>\n",
       "    </tr>\n",
       "  </thead>\n",
       "  <tbody>\n",
       "    <tr>\n",
       "      <th>28202</th>\n",
       "      <td>2106000</td>\n",
       "      <td>1571.0</td>\n",
       "      <td>2.0</td>\n",
       "    </tr>\n",
       "    <tr>\n",
       "      <th>27802</th>\n",
       "      <td>299000</td>\n",
       "      <td>371.0</td>\n",
       "      <td>1.0</td>\n",
       "    </tr>\n",
       "    <tr>\n",
       "      <th>9406</th>\n",
       "      <td>1722000</td>\n",
       "      <td>2896.0</td>\n",
       "      <td>4.0</td>\n",
       "    </tr>\n",
       "    <tr>\n",
       "      <th>32454</th>\n",
       "      <td>766800</td>\n",
       "      <td>875.0</td>\n",
       "      <td>2.0</td>\n",
       "    </tr>\n",
       "    <tr>\n",
       "      <th>35888</th>\n",
       "      <td>1910000</td>\n",
       "      <td>1394.0</td>\n",
       "      <td>1.0</td>\n",
       "    </tr>\n",
       "    <tr>\n",
       "      <th>...</th>\n",
       "      <td>...</td>\n",
       "      <td>...</td>\n",
       "      <td>...</td>\n",
       "    </tr>\n",
       "    <tr>\n",
       "      <th>12942</th>\n",
       "      <td>628000</td>\n",
       "      <td>1054.0</td>\n",
       "      <td>2.0</td>\n",
       "    </tr>\n",
       "    <tr>\n",
       "      <th>25835</th>\n",
       "      <td>1382000</td>\n",
       "      <td>1387.0</td>\n",
       "      <td>2.0</td>\n",
       "    </tr>\n",
       "    <tr>\n",
       "      <th>3264</th>\n",
       "      <td>2889000</td>\n",
       "      <td>1917.0</td>\n",
       "      <td>2.0</td>\n",
       "    </tr>\n",
       "    <tr>\n",
       "      <th>33167</th>\n",
       "      <td>1145000</td>\n",
       "      <td>1671.0</td>\n",
       "      <td>3.0</td>\n",
       "    </tr>\n",
       "    <tr>\n",
       "      <th>35300</th>\n",
       "      <td>620000</td>\n",
       "      <td>1006.0</td>\n",
       "      <td>1.0</td>\n",
       "    </tr>\n",
       "  </tbody>\n",
       "</table>\n",
       "<p>25084 rows × 3 columns</p>\n",
       "</div>"
      ],
      "text/plain": [
       "       Listed Price  Total interior livable area  Bathrooms\n",
       "28202       2106000                       1571.0        2.0\n",
       "27802        299000                        371.0        1.0\n",
       "9406        1722000                       2896.0        4.0\n",
       "32454        766800                        875.0        2.0\n",
       "35888       1910000                       1394.0        1.0\n",
       "...             ...                          ...        ...\n",
       "12942        628000                       1054.0        2.0\n",
       "25835       1382000                       1387.0        2.0\n",
       "3264        2889000                       1917.0        2.0\n",
       "33167       1145000                       1671.0        3.0\n",
       "35300        620000                       1006.0        1.0\n",
       "\n",
       "[25084 rows x 3 columns]"
      ]
     },
     "execution_count": 64,
     "metadata": {},
     "output_type": "execute_result"
    }
   ],
   "source": [
    "X_train"
   ]
  },
  {
   "cell_type": "markdown",
   "id": "d72248d0",
   "metadata": {},
   "source": [
    "Train final model with all the data"
   ]
  },
  {
   "cell_type": "code",
   "execution_count": null,
   "id": "2c94cc82",
   "metadata": {},
   "outputs": [],
   "source": [
    "model = GradientBoostingRegressor(n_estimators=100, \n",
    "                                  learning_rate=0.1,\n",
    "                                  max_depth=3, \n",
    "                                  random_state=56,\n",
    "                                  loss='squared_error').fit(X, y)"
   ]
  },
  {
   "cell_type": "markdown",
   "id": "3c5a4e31",
   "metadata": {},
   "source": [
    "# Make Predictions"
   ]
  },
  {
   "cell_type": "markdown",
   "id": "5314529a",
   "metadata": {},
   "source": [
    "Do the same pre-processing on the test data that we do on the train data"
   ]
  },
  {
   "cell_type": "code",
   "execution_count": 89,
   "id": "d132ab43",
   "metadata": {},
   "outputs": [],
   "source": [
    "test[\"Total interior livable area\"] = test[\"Total interior livable area\"].fillna(train[\"Total interior livable area\"].median())\n",
    "test[\"Bathrooms\"] = test[\"Bathrooms\"].fillna(train[\"Bathrooms\"].median())\n",
    "test[\"Year built\"] = test[\"Year built\"].fillna(train[\"Year built\"].median())\n",
    "test[\"Year built\"] = np.maximum(test[\"Year built\"], 1870)\n"
   ]
  },
  {
   "cell_type": "code",
   "execution_count": 99,
   "id": "b3b8555d",
   "metadata": {},
   "outputs": [
    {
     "data": {
      "text/plain": [
       "array([13.1422431 , 13.36761002, 14.87952437, ..., 14.54552464,\n",
       "       14.13975657, 12.80796264])"
      ]
     },
     "execution_count": 99,
     "metadata": {},
     "output_type": "execute_result"
    }
   ],
   "source": [
    "model.predict(test[pred_vars])"
   ]
  },
  {
   "cell_type": "code",
   "execution_count": 100,
   "id": "680b2561",
   "metadata": {},
   "outputs": [],
   "source": [
    "test[\"Sold Price\"] = np.exp(model.predict(test[pred_vars]))"
   ]
  },
  {
   "cell_type": "code",
   "execution_count": 101,
   "id": "936f4851",
   "metadata": {},
   "outputs": [
    {
     "data": {
      "text/plain": [
       "0       5.100393e+05\n",
       "1       6.389682e+05\n",
       "2       2.897980e+06\n",
       "3       2.153071e+06\n",
       "4       6.276210e+05\n",
       "            ...     \n",
       "9995    2.236119e+05\n",
       "9996    5.340878e+05\n",
       "9997    2.075110e+06\n",
       "9998    1.382987e+06\n",
       "9999    3.651132e+05\n",
       "Name: Sold Price, Length: 10000, dtype: float64"
      ]
     },
     "execution_count": 101,
     "metadata": {},
     "output_type": "execute_result"
    }
   ],
   "source": [
    "test[\"Sold Price\"]"
   ]
  },
  {
   "cell_type": "code",
   "execution_count": 117,
   "id": "82ed54db",
   "metadata": {},
   "outputs": [],
   "source": [
    "test[[\"Id\", \"Sold Price\"]].to_csv(\"../submission.csv\", index = False)"
   ]
  }
 ],
 "metadata": {
  "kernelspec": {
   "display_name": "Python 3 (ipykernel)",
   "language": "python",
   "name": "python3"
  },
  "language_info": {
   "codemirror_mode": {
    "name": "ipython",
    "version": 3
   },
   "file_extension": ".py",
   "mimetype": "text/x-python",
   "name": "python",
   "nbconvert_exporter": "python",
   "pygments_lexer": "ipython3",
   "version": "3.7.13"
  },
  "toc": {
   "base_numbering": 1,
   "nav_menu": {},
   "number_sections": true,
   "sideBar": true,
   "skip_h1_title": false,
   "title_cell": "Table of Contents",
   "title_sidebar": "Contents",
   "toc_cell": false,
   "toc_position": {},
   "toc_section_display": true,
   "toc_window_display": true
  }
 },
 "nbformat": 4,
 "nbformat_minor": 5
}
